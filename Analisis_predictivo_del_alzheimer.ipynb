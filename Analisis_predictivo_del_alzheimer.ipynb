{
 "cells": [
  {
   "cell_type": "markdown",
   "metadata": {},
   "source": [
    "# Análisis predictivo del Alzheimer\n",
    "Este proyecto tiene como objetivo desarrollar un modelo de aprendizaje autimático capaz de predecir la probabilidad de que un paciente padezca alzheimer, basandose en diversas características\n",
    "\n",
    "**Objetivo :** \n",
    "\n",
    "**¿Porque es relevante este estudio ?**\n",
    "\n",
    "**Enfoque:**"
   ]
  },
  {
   "cell_type": "code",
   "execution_count": 110,
   "metadata": {},
   "outputs": [],
   "source": [
    "import numpy as np\n",
    "import pandas as pd \n",
    "import matplotlib.pyplot as plt\n",
    "import seaborn as sns\n",
    "from sklearn.preprocessing import OneHotEncoder, LabelEncoder\n",
    "from category_encoders import TargetEncoder\n",
    "from sklearn.ensemble import RandomForestClassifier\n",
    "from sklearn.linear_model import LogisticRegression\n",
    "from sklearn.model_selection import train_test_split\n",
    "from xgboost import XGBClassifier\n",
    "import xgboost as xgb\n",
    "\n",
    "\n",
    "#!pip install xgboost\n",
    "# pip install category_encoders\n",
    "##!pip install plotly\n"
   ]
  },
  {
   "cell_type": "markdown",
   "metadata": {},
   "source": [
    "## 1. Obtención y exploración de Datos "
   ]
  },
  {
   "cell_type": "code",
   "execution_count": null,
   "metadata": {},
   "outputs": [
    {
     "data": {
      "text/html": [
       "<div>\n",
       "<style scoped>\n",
       "    .dataframe tbody tr th:only-of-type {\n",
       "        vertical-align: middle;\n",
       "    }\n",
       "\n",
       "    .dataframe tbody tr th {\n",
       "        vertical-align: top;\n",
       "    }\n",
       "\n",
       "    .dataframe thead th {\n",
       "        text-align: right;\n",
       "    }\n",
       "</style>\n",
       "<table border=\"1\" class=\"dataframe\">\n",
       "  <thead>\n",
       "    <tr style=\"text-align: right;\">\n",
       "      <th></th>\n",
       "      <th>Country</th>\n",
       "      <th>Age</th>\n",
       "      <th>Gender</th>\n",
       "      <th>Education Level</th>\n",
       "      <th>BMI</th>\n",
       "      <th>Physical Activity Level</th>\n",
       "      <th>Smoking Status</th>\n",
       "      <th>Alcohol Consumption</th>\n",
       "      <th>Diabetes</th>\n",
       "      <th>Hypertension</th>\n",
       "      <th>...</th>\n",
       "      <th>Dietary Habits</th>\n",
       "      <th>Air Pollution Exposure</th>\n",
       "      <th>Employment Status</th>\n",
       "      <th>Marital Status</th>\n",
       "      <th>Genetic Risk Factor (APOE-ε4 allele)</th>\n",
       "      <th>Social Engagement Level</th>\n",
       "      <th>Income Level</th>\n",
       "      <th>Stress Levels</th>\n",
       "      <th>Urban vs Rural Living</th>\n",
       "      <th>Alzheimer’s Diagnosis</th>\n",
       "    </tr>\n",
       "  </thead>\n",
       "  <tbody>\n",
       "    <tr>\n",
       "      <th>0</th>\n",
       "      <td>Spain</td>\n",
       "      <td>90</td>\n",
       "      <td>Male</td>\n",
       "      <td>1</td>\n",
       "      <td>33.0</td>\n",
       "      <td>Medium</td>\n",
       "      <td>Never</td>\n",
       "      <td>Occasionally</td>\n",
       "      <td>No</td>\n",
       "      <td>No</td>\n",
       "      <td>...</td>\n",
       "      <td>Healthy</td>\n",
       "      <td>High</td>\n",
       "      <td>Retired</td>\n",
       "      <td>Single</td>\n",
       "      <td>No</td>\n",
       "      <td>Low</td>\n",
       "      <td>Medium</td>\n",
       "      <td>High</td>\n",
       "      <td>Urban</td>\n",
       "      <td>No</td>\n",
       "    </tr>\n",
       "    <tr>\n",
       "      <th>1</th>\n",
       "      <td>Argentina</td>\n",
       "      <td>72</td>\n",
       "      <td>Male</td>\n",
       "      <td>7</td>\n",
       "      <td>29.9</td>\n",
       "      <td>Medium</td>\n",
       "      <td>Former</td>\n",
       "      <td>Never</td>\n",
       "      <td>No</td>\n",
       "      <td>No</td>\n",
       "      <td>...</td>\n",
       "      <td>Healthy</td>\n",
       "      <td>Medium</td>\n",
       "      <td>Unemployed</td>\n",
       "      <td>Widowed</td>\n",
       "      <td>No</td>\n",
       "      <td>High</td>\n",
       "      <td>Low</td>\n",
       "      <td>High</td>\n",
       "      <td>Urban</td>\n",
       "      <td>No</td>\n",
       "    </tr>\n",
       "    <tr>\n",
       "      <th>2</th>\n",
       "      <td>South Africa</td>\n",
       "      <td>86</td>\n",
       "      <td>Female</td>\n",
       "      <td>19</td>\n",
       "      <td>22.9</td>\n",
       "      <td>High</td>\n",
       "      <td>Current</td>\n",
       "      <td>Occasionally</td>\n",
       "      <td>No</td>\n",
       "      <td>Yes</td>\n",
       "      <td>...</td>\n",
       "      <td>Average</td>\n",
       "      <td>Medium</td>\n",
       "      <td>Employed</td>\n",
       "      <td>Single</td>\n",
       "      <td>No</td>\n",
       "      <td>Low</td>\n",
       "      <td>Medium</td>\n",
       "      <td>High</td>\n",
       "      <td>Rural</td>\n",
       "      <td>No</td>\n",
       "    </tr>\n",
       "    <tr>\n",
       "      <th>3</th>\n",
       "      <td>China</td>\n",
       "      <td>53</td>\n",
       "      <td>Male</td>\n",
       "      <td>17</td>\n",
       "      <td>31.2</td>\n",
       "      <td>Low</td>\n",
       "      <td>Never</td>\n",
       "      <td>Regularly</td>\n",
       "      <td>Yes</td>\n",
       "      <td>No</td>\n",
       "      <td>...</td>\n",
       "      <td>Healthy</td>\n",
       "      <td>Medium</td>\n",
       "      <td>Retired</td>\n",
       "      <td>Single</td>\n",
       "      <td>No</td>\n",
       "      <td>High</td>\n",
       "      <td>Medium</td>\n",
       "      <td>Low</td>\n",
       "      <td>Rural</td>\n",
       "      <td>No</td>\n",
       "    </tr>\n",
       "    <tr>\n",
       "      <th>4</th>\n",
       "      <td>Sweden</td>\n",
       "      <td>58</td>\n",
       "      <td>Female</td>\n",
       "      <td>3</td>\n",
       "      <td>30.0</td>\n",
       "      <td>High</td>\n",
       "      <td>Former</td>\n",
       "      <td>Never</td>\n",
       "      <td>Yes</td>\n",
       "      <td>No</td>\n",
       "      <td>...</td>\n",
       "      <td>Unhealthy</td>\n",
       "      <td>High</td>\n",
       "      <td>Employed</td>\n",
       "      <td>Married</td>\n",
       "      <td>No</td>\n",
       "      <td>Low</td>\n",
       "      <td>Medium</td>\n",
       "      <td>High</td>\n",
       "      <td>Rural</td>\n",
       "      <td>No</td>\n",
       "    </tr>\n",
       "  </tbody>\n",
       "</table>\n",
       "<p>5 rows × 25 columns</p>\n",
       "</div>"
      ],
      "text/plain": [
       "        Country  Age  Gender  Education Level   BMI Physical Activity Level  \\\n",
       "0         Spain   90    Male                1  33.0                  Medium   \n",
       "1     Argentina   72    Male                7  29.9                  Medium   \n",
       "2  South Africa   86  Female               19  22.9                    High   \n",
       "3         China   53    Male               17  31.2                     Low   \n",
       "4        Sweden   58  Female                3  30.0                    High   \n",
       "\n",
       "  Smoking Status Alcohol Consumption Diabetes Hypertension  ...  \\\n",
       "0          Never        Occasionally       No           No  ...   \n",
       "1         Former               Never       No           No  ...   \n",
       "2        Current        Occasionally       No          Yes  ...   \n",
       "3          Never           Regularly      Yes           No  ...   \n",
       "4         Former               Never      Yes           No  ...   \n",
       "\n",
       "  Dietary Habits Air Pollution Exposure  Employment Status Marital Status  \\\n",
       "0        Healthy                   High            Retired         Single   \n",
       "1        Healthy                 Medium         Unemployed        Widowed   \n",
       "2        Average                 Medium           Employed         Single   \n",
       "3        Healthy                 Medium            Retired         Single   \n",
       "4      Unhealthy                   High           Employed        Married   \n",
       "\n",
       "  Genetic Risk Factor (APOE-ε4 allele) Social Engagement Level Income Level  \\\n",
       "0                                   No                     Low       Medium   \n",
       "1                                   No                    High          Low   \n",
       "2                                   No                     Low       Medium   \n",
       "3                                   No                    High       Medium   \n",
       "4                                   No                     Low       Medium   \n",
       "\n",
       "  Stress Levels Urban vs Rural Living Alzheimer’s Diagnosis  \n",
       "0          High                 Urban                    No  \n",
       "1          High                 Urban                    No  \n",
       "2          High                 Rural                    No  \n",
       "3           Low                 Rural                    No  \n",
       "4          High                 Rural                    No  \n",
       "\n",
       "[5 rows x 25 columns]"
      ]
     },
     "execution_count": 111,
     "metadata": {},
     "output_type": "execute_result"
    }
   ],
   "source": [
    "ruta = \"Data/alzheimers_prediction_dataset.csv\"\n",
    "df = pd.read_csv(ruta,encoding='utf-8', sep=\",\")\n",
    "df.head()"
   ]
  },
  {
   "cell_type": "code",
   "execution_count": 112,
   "metadata": {},
   "outputs": [
    {
     "name": "stdout",
     "output_type": "stream",
     "text": [
      "<class 'pandas.core.frame.DataFrame'>\n",
      "RangeIndex: 74283 entries, 0 to 74282\n",
      "Data columns (total 25 columns):\n",
      " #   Column                                Non-Null Count  Dtype  \n",
      "---  ------                                --------------  -----  \n",
      " 0   Country                               74283 non-null  object \n",
      " 1   Age                                   74283 non-null  int64  \n",
      " 2   Gender                                74283 non-null  object \n",
      " 3   Education Level                       74283 non-null  int64  \n",
      " 4   BMI                                   74283 non-null  float64\n",
      " 5   Physical Activity Level               74283 non-null  object \n",
      " 6   Smoking Status                        74283 non-null  object \n",
      " 7   Alcohol Consumption                   74283 non-null  object \n",
      " 8   Diabetes                              74283 non-null  object \n",
      " 9   Hypertension                          74283 non-null  object \n",
      " 10  Cholesterol Level                     74283 non-null  object \n",
      " 11  Family History of Alzheimer’s         74283 non-null  object \n",
      " 12  Cognitive Test Score                  74283 non-null  int64  \n",
      " 13  Depression Level                      74283 non-null  object \n",
      " 14  Sleep Quality                         74283 non-null  object \n",
      " 15  Dietary Habits                        74283 non-null  object \n",
      " 16  Air Pollution Exposure                74283 non-null  object \n",
      " 17  Employment Status                     74283 non-null  object \n",
      " 18  Marital Status                        74283 non-null  object \n",
      " 19  Genetic Risk Factor (APOE-ε4 allele)  74283 non-null  object \n",
      " 20  Social Engagement Level               74283 non-null  object \n",
      " 21  Income Level                          74283 non-null  object \n",
      " 22  Stress Levels                         74283 non-null  object \n",
      " 23  Urban vs Rural Living                 74283 non-null  object \n",
      " 24  Alzheimer’s Diagnosis                 74283 non-null  object \n",
      "dtypes: float64(1), int64(3), object(21)\n",
      "memory usage: 14.2+ MB\n"
     ]
    }
   ],
   "source": [
    "df.info()\n"
   ]
  },
  {
   "cell_type": "code",
   "execution_count": 113,
   "metadata": {},
   "outputs": [
    {
     "data": {
      "text/plain": [
       "Country                                 0\n",
       "Age                                     0\n",
       "Gender                                  0\n",
       "Education Level                         0\n",
       "BMI                                     0\n",
       "Physical Activity Level                 0\n",
       "Smoking Status                          0\n",
       "Alcohol Consumption                     0\n",
       "Diabetes                                0\n",
       "Hypertension                            0\n",
       "Cholesterol Level                       0\n",
       "Family History of Alzheimer’s           0\n",
       "Cognitive Test Score                    0\n",
       "Depression Level                        0\n",
       "Sleep Quality                           0\n",
       "Dietary Habits                          0\n",
       "Air Pollution Exposure                  0\n",
       "Employment Status                       0\n",
       "Marital Status                          0\n",
       "Genetic Risk Factor (APOE-ε4 allele)    0\n",
       "Social Engagement Level                 0\n",
       "Income Level                            0\n",
       "Stress Levels                           0\n",
       "Urban vs Rural Living                   0\n",
       "Alzheimer’s Diagnosis                   0\n",
       "dtype: int64"
      ]
     },
     "execution_count": 113,
     "metadata": {},
     "output_type": "execute_result"
    }
   ],
   "source": [
    "df.isnull().sum()"
   ]
  },
  {
   "cell_type": "code",
   "execution_count": 114,
   "metadata": {},
   "outputs": [
    {
     "data": {
      "text/html": [
       "<div>\n",
       "<style scoped>\n",
       "    .dataframe tbody tr th:only-of-type {\n",
       "        vertical-align: middle;\n",
       "    }\n",
       "\n",
       "    .dataframe tbody tr th {\n",
       "        vertical-align: top;\n",
       "    }\n",
       "\n",
       "    .dataframe thead th {\n",
       "        text-align: right;\n",
       "    }\n",
       "</style>\n",
       "<table border=\"1\" class=\"dataframe\">\n",
       "  <thead>\n",
       "    <tr style=\"text-align: right;\">\n",
       "      <th></th>\n",
       "      <th>Age</th>\n",
       "      <th>Education Level</th>\n",
       "      <th>BMI</th>\n",
       "      <th>Cognitive Test Score</th>\n",
       "    </tr>\n",
       "  </thead>\n",
       "  <tbody>\n",
       "    <tr>\n",
       "      <th>count</th>\n",
       "      <td>74283.000000</td>\n",
       "      <td>74283.000000</td>\n",
       "      <td>74283.000000</td>\n",
       "      <td>74283.000000</td>\n",
       "    </tr>\n",
       "    <tr>\n",
       "      <th>mean</th>\n",
       "      <td>71.964703</td>\n",
       "      <td>9.487514</td>\n",
       "      <td>26.780639</td>\n",
       "      <td>64.654241</td>\n",
       "    </tr>\n",
       "    <tr>\n",
       "      <th>std</th>\n",
       "      <td>12.980748</td>\n",
       "      <td>5.757020</td>\n",
       "      <td>4.764679</td>\n",
       "      <td>20.153247</td>\n",
       "    </tr>\n",
       "    <tr>\n",
       "      <th>min</th>\n",
       "      <td>50.000000</td>\n",
       "      <td>0.000000</td>\n",
       "      <td>18.500000</td>\n",
       "      <td>30.000000</td>\n",
       "    </tr>\n",
       "    <tr>\n",
       "      <th>25%</th>\n",
       "      <td>61.000000</td>\n",
       "      <td>4.000000</td>\n",
       "      <td>22.700000</td>\n",
       "      <td>47.000000</td>\n",
       "    </tr>\n",
       "    <tr>\n",
       "      <th>50%</th>\n",
       "      <td>72.000000</td>\n",
       "      <td>9.000000</td>\n",
       "      <td>26.800000</td>\n",
       "      <td>65.000000</td>\n",
       "    </tr>\n",
       "    <tr>\n",
       "      <th>75%</th>\n",
       "      <td>83.000000</td>\n",
       "      <td>14.000000</td>\n",
       "      <td>30.900000</td>\n",
       "      <td>82.000000</td>\n",
       "    </tr>\n",
       "    <tr>\n",
       "      <th>max</th>\n",
       "      <td>94.000000</td>\n",
       "      <td>19.000000</td>\n",
       "      <td>35.000000</td>\n",
       "      <td>99.000000</td>\n",
       "    </tr>\n",
       "  </tbody>\n",
       "</table>\n",
       "</div>"
      ],
      "text/plain": [
       "                Age  Education Level           BMI  Cognitive Test Score\n",
       "count  74283.000000     74283.000000  74283.000000          74283.000000\n",
       "mean      71.964703         9.487514     26.780639             64.654241\n",
       "std       12.980748         5.757020      4.764679             20.153247\n",
       "min       50.000000         0.000000     18.500000             30.000000\n",
       "25%       61.000000         4.000000     22.700000             47.000000\n",
       "50%       72.000000         9.000000     26.800000             65.000000\n",
       "75%       83.000000        14.000000     30.900000             82.000000\n",
       "max       94.000000        19.000000     35.000000             99.000000"
      ]
     },
     "execution_count": 114,
     "metadata": {},
     "output_type": "execute_result"
    }
   ],
   "source": [
    "df.describe()"
   ]
  },
  {
   "cell_type": "code",
   "execution_count": 115,
   "metadata": {},
   "outputs": [
    {
     "name": "stdout",
     "output_type": "stream",
     "text": [
      "Alzheimer’s Diagnosis\n",
      "No     43570\n",
      "Yes    30713\n",
      "Name: count, dtype: int64\n"
     ]
    }
   ],
   "source": [
    "print(df['Alzheimer’s Diagnosis'].value_counts())\n"
   ]
  },
  {
   "cell_type": "code",
   "execution_count": 116,
   "metadata": {},
   "outputs": [
    {
     "data": {
      "image/png": "[encoded data removed]",
      "text/plain": [
       "<Figure size 640x480 with 1 Axes>"
      ]
     },
     "metadata": {},
     "output_type": "display_data"
    }
   ],
   "source": [
    "sns.countplot(x=df['Alzheimer’s Diagnosis'])\n",
    "plt.title('Diagnóstico de Alzheimer')\n",
    "plt.xlabel('Diagnóstico (0: No Alzheimer, 1: Alzheimer)')\n",
    "plt.ylabel('Cantidad de Pacientes')\n",
    "plt.show()"
   ]
  },
  {
   "cell_type": "markdown",
   "metadata": {},
   "source": [
    "## 2. Limpieza y preprocesamiento\n",
    "Nuestro dataset tiene tanto variables categóricas como variables numericas, debido a esto es necesario aplicar un preprocesamiento de la data"
   ]
  },
  {
   "cell_type": "markdown",
   "metadata": {},
   "source": [
    "### 2.1 Conversión de variables categóricas\n",
    "\n",
    "En este paso vamos a convertir esta variables categoricas a valores numerico que pueda entender la computadora. "
   ]
  },
  {
   "cell_type": "code",
   "execution_count": 117,
   "metadata": {},
   "outputs": [
    {
     "name": "stdout",
     "output_type": "stream",
     "text": [
      "<class 'pandas.core.frame.DataFrame'>\n",
      "RangeIndex: 74283 entries, 0 to 74282\n",
      "Data columns (total 25 columns):\n",
      " #   Column                                Non-Null Count  Dtype  \n",
      "---  ------                                --------------  -----  \n",
      " 0   Country                               74283 non-null  object \n",
      " 1   Age                                   74283 non-null  int64  \n",
      " 2   Gender                                74283 non-null  object \n",
      " 3   Education Level                       74283 non-null  int64  \n",
      " 4   BMI                                   74283 non-null  float64\n",
      " 5   Physical Activity Level               74283 non-null  object \n",
      " 6   Smoking Status                        74283 non-null  object \n",
      " 7   Alcohol Consumption                   74283 non-null  object \n",
      " 8   Diabetes                              74283 non-null  object \n",
      " 9   Hypertension                          74283 non-null  object \n",
      " 10  Cholesterol Level                     74283 non-null  object \n",
      " 11  Family History of Alzheimer’s         74283 non-null  object \n",
      " 12  Cognitive Test Score                  74283 non-null  int64  \n",
      " 13  Depression Level                      74283 non-null  object \n",
      " 14  Sleep Quality                         74283 non-null  object \n",
      " 15  Dietary Habits                        74283 non-null  object \n",
      " 16  Air Pollution Exposure                74283 non-null  object \n",
      " 17  Employment Status                     74283 non-null  object \n",
      " 18  Marital Status                        74283 non-null  object \n",
      " 19  Genetic Risk Factor (APOE-ε4 allele)  74283 non-null  object \n",
      " 20  Social Engagement Level               74283 non-null  object \n",
      " 21  Income Level                          74283 non-null  object \n",
      " 22  Stress Levels                         74283 non-null  object \n",
      " 23  Urban vs Rural Living                 74283 non-null  object \n",
      " 24  Alzheimer’s Diagnosis                 74283 non-null  object \n",
      "dtypes: float64(1), int64(3), object(21)\n",
      "memory usage: 14.2+ MB\n"
     ]
    }
   ],
   "source": [
    "df.info()"
   ]
  },
  {
   "cell_type": "code",
   "execution_count": 118,
   "metadata": {},
   "outputs": [
    {
     "name": "stdout",
     "output_type": "stream",
     "text": [
      "Index(['Country', 'Age', 'Gender', 'Education Level', 'BMI',\n",
      "       'Physical Activity Level', 'Smoking Status', 'Alcohol Consumption',\n",
      "       'Diabetes', 'Hypertension', 'Cholesterol Level',\n",
      "       'Family History of Alzheimer’s', 'Cognitive Test Score',\n",
      "       'Depression Level', 'Sleep Quality', 'Dietary Habits',\n",
      "       'Air Pollution Exposure', 'Employment Status', 'Marital Status',\n",
      "       'Genetic Risk Factor (APOE-ε4 allele)', 'Social Engagement Level',\n",
      "       'Income Level', 'Stress Levels', 'Urban vs Rural Living',\n",
      "       'Alzheimer’s Diagnosis'],\n",
      "      dtype='object')\n"
     ]
    },
    {
     "data": {
      "text/plain": [
       "' print(\"Country\\n\",df[\\'Country\\'].unique())\\nprint(\"\\nEducation Level\\n\",df[\\'Education Level\\'].unique())\\nprint(\"\\nPhysical Activity Level\\n\", df[\\'Physical Activity Level\\'].unique())\\nprint(\"\\nSmoking Status\\n\", df[\\'Smoking Status\\'].unique())\\nprint(\"\\nAlcohol Consumption\\n\", df[\\'Alcohol Consumption\\'].unique())\\nprint(\"\\nDiabetes\\n\", df[\\'Diabetes\\'].unique())\\nprint(\"\\nHypertension\\n\", df[\\'Hypertension\\'].unique())\\nprint(\"\\nCholesterol Level\\n\", df[\\'Cholesterol Level\\'].unique())\\nprint(\"\\nFamily History of Alzheimer’s\\n\", df[\\'Family History of Alzheimer’s\\'].unique())\\nprint(\"\\nDepression Level\\n\", df[\\'Depression Level\\'].unique())\\nprint(\"\\nSleep Quality\\n\", df[\\'Sleep Quality\\'].unique())\\nprint(\"\\nDietary Habits\\n\", df[\\'Dietary Habits\\'].unique())\\nprint(\"\\nAir Pollution Exposure\\n\", df[\\'Air Pollution Exposure\\'].unique())\\nprint(\"\\nEmployment Status\\n\", df[\\'Employment Status\\'].unique())\\nprint(\"\\nMarital Status\\n\", df[\\'Marital Status\\'].unique())\\nprint(\"\\nGenetic Risk Factor (APOE-ε4 allele)\\n\", df[\\'Genetic Risk Factor (APOE-ε4 allele)\\'].unique())\\nprint(\"\\nSocial Engagement Level\\n\", df[\\'Social Engagement Level\\'].unique())\\nprint(\"\\nIncome Level\\n\", df[\\'Income Level\\'].unique())\\nprint(\"\\nStress Levels\\n\", df[\\'Stress Levels\\'].unique())\\nprint(\"\\nUrban vs Rural Living\\n\", df[\\'Urban vs Rural Living\\'].unique())\\n '"
      ]
     },
     "execution_count": 118,
     "metadata": {},
     "output_type": "execute_result"
    }
   ],
   "source": [
    "\n",
    "print(df.columns)\n",
    "\n",
    "\"\"\" print(\"Country\\n\",df['Country'].unique())\n",
    "print(\"\\nEducation Level\\n\",df['Education Level'].unique())\n",
    "print(\"\\nPhysical Activity Level\\n\", df['Physical Activity Level'].unique())\n",
    "print(\"\\nSmoking Status\\n\", df['Smoking Status'].unique())\n",
    "print(\"\\nAlcohol Consumption\\n\", df['Alcohol Consumption'].unique())\n",
    "print(\"\\nDiabetes\\n\", df['Diabetes'].unique())\n",
    "print(\"\\nHypertension\\n\", df['Hypertension'].unique())\n",
    "print(\"\\nCholesterol Level\\n\", df['Cholesterol Level'].unique())\n",
    "print(\"\\nFamily History of Alzheimer’s\\n\", df['Family History of Alzheimer’s'].unique())\n",
    "print(\"\\nDepression Level\\n\", df['Depression Level'].unique())\n",
    "print(\"\\nSleep Quality\\n\", df['Sleep Quality'].unique())\n",
    "print(\"\\nDietary Habits\\n\", df['Dietary Habits'].unique())\n",
    "print(\"\\nAir Pollution Exposure\\n\", df['Air Pollution Exposure'].unique())\n",
    "print(\"\\nEmployment Status\\n\", df['Employment Status'].unique())\n",
    "print(\"\\nMarital Status\\n\", df['Marital Status'].unique())\n",
    "print(\"\\nGenetic Risk Factor (APOE-ε4 allele)\\n\", df['Genetic Risk Factor (APOE-ε4 allele)'].unique())\n",
    "print(\"\\nSocial Engagement Level\\n\", df['Social Engagement Level'].unique())\n",
    "print(\"\\nIncome Level\\n\", df['Income Level'].unique())\n",
    "print(\"\\nStress Levels\\n\", df['Stress Levels'].unique())\n",
    "print(\"\\nUrban vs Rural Living\\n\", df['Urban vs Rural Living'].unique())\n",
    " \"\"\""
   ]
  },
  {
   "cell_type": "code",
   "execution_count": 119,
   "metadata": {},
   "outputs": [
    {
     "data": {
      "text/html": [
       "<div>\n",
       "<style scoped>\n",
       "    .dataframe tbody tr th:only-of-type {\n",
       "        vertical-align: middle;\n",
       "    }\n",
       "\n",
       "    .dataframe tbody tr th {\n",
       "        vertical-align: top;\n",
       "    }\n",
       "\n",
       "    .dataframe thead th {\n",
       "        text-align: right;\n",
       "    }\n",
       "</style>\n",
       "<table border=\"1\" class=\"dataframe\">\n",
       "  <thead>\n",
       "    <tr style=\"text-align: right;\">\n",
       "      <th></th>\n",
       "      <th>Country</th>\n",
       "      <th>Age</th>\n",
       "      <th>Education Level</th>\n",
       "      <th>BMI</th>\n",
       "      <th>Physical Activity Level</th>\n",
       "      <th>Smoking Status</th>\n",
       "      <th>Alcohol Consumption</th>\n",
       "      <th>Cholesterol Level</th>\n",
       "      <th>Family History of Alzheimer’s</th>\n",
       "      <th>Cognitive Test Score</th>\n",
       "      <th>...</th>\n",
       "      <th>Stress Levels</th>\n",
       "      <th>Alzheimer’s Diagnosis</th>\n",
       "      <th>Gender_Male</th>\n",
       "      <th>Diabetes_Yes</th>\n",
       "      <th>Hypertension_Yes</th>\n",
       "      <th>Employment Status_Retired</th>\n",
       "      <th>Employment Status_Unemployed</th>\n",
       "      <th>Marital Status_Single</th>\n",
       "      <th>Marital Status_Widowed</th>\n",
       "      <th>Urban vs Rural Living_Urban</th>\n",
       "    </tr>\n",
       "  </thead>\n",
       "  <tbody>\n",
       "    <tr>\n",
       "      <th>0</th>\n",
       "      <td>0.399946</td>\n",
       "      <td>90</td>\n",
       "      <td>1</td>\n",
       "      <td>33.0</td>\n",
       "      <td>1</td>\n",
       "      <td>0</td>\n",
       "      <td>1</td>\n",
       "      <td>0</td>\n",
       "      <td>0</td>\n",
       "      <td>90</td>\n",
       "      <td>...</td>\n",
       "      <td>2</td>\n",
       "      <td>0</td>\n",
       "      <td>True</td>\n",
       "      <td>False</td>\n",
       "      <td>False</td>\n",
       "      <td>True</td>\n",
       "      <td>False</td>\n",
       "      <td>True</td>\n",
       "      <td>False</td>\n",
       "      <td>True</td>\n",
       "    </tr>\n",
       "    <tr>\n",
       "      <th>1</th>\n",
       "      <td>0.402037</td>\n",
       "      <td>72</td>\n",
       "      <td>7</td>\n",
       "      <td>29.9</td>\n",
       "      <td>1</td>\n",
       "      <td>1</td>\n",
       "      <td>0</td>\n",
       "      <td>0</td>\n",
       "      <td>0</td>\n",
       "      <td>65</td>\n",
       "      <td>...</td>\n",
       "      <td>2</td>\n",
       "      <td>0</td>\n",
       "      <td>True</td>\n",
       "      <td>False</td>\n",
       "      <td>False</td>\n",
       "      <td>False</td>\n",
       "      <td>True</td>\n",
       "      <td>False</td>\n",
       "      <td>True</td>\n",
       "      <td>True</td>\n",
       "    </tr>\n",
       "    <tr>\n",
       "      <th>2</th>\n",
       "      <td>0.495213</td>\n",
       "      <td>86</td>\n",
       "      <td>19</td>\n",
       "      <td>22.9</td>\n",
       "      <td>2</td>\n",
       "      <td>2</td>\n",
       "      <td>1</td>\n",
       "      <td>0</td>\n",
       "      <td>0</td>\n",
       "      <td>43</td>\n",
       "      <td>...</td>\n",
       "      <td>2</td>\n",
       "      <td>0</td>\n",
       "      <td>False</td>\n",
       "      <td>False</td>\n",
       "      <td>True</td>\n",
       "      <td>False</td>\n",
       "      <td>False</td>\n",
       "      <td>True</td>\n",
       "      <td>False</td>\n",
       "      <td>False</td>\n",
       "    </tr>\n",
       "    <tr>\n",
       "      <th>3</th>\n",
       "      <td>0.386414</td>\n",
       "      <td>53</td>\n",
       "      <td>17</td>\n",
       "      <td>31.2</td>\n",
       "      <td>0</td>\n",
       "      <td>0</td>\n",
       "      <td>2</td>\n",
       "      <td>0</td>\n",
       "      <td>0</td>\n",
       "      <td>81</td>\n",
       "      <td>...</td>\n",
       "      <td>0</td>\n",
       "      <td>0</td>\n",
       "      <td>True</td>\n",
       "      <td>True</td>\n",
       "      <td>False</td>\n",
       "      <td>True</td>\n",
       "      <td>False</td>\n",
       "      <td>True</td>\n",
       "      <td>False</td>\n",
       "      <td>False</td>\n",
       "    </tr>\n",
       "    <tr>\n",
       "      <th>4</th>\n",
       "      <td>0.342098</td>\n",
       "      <td>58</td>\n",
       "      <td>3</td>\n",
       "      <td>30.0</td>\n",
       "      <td>2</td>\n",
       "      <td>1</td>\n",
       "      <td>0</td>\n",
       "      <td>0</td>\n",
       "      <td>0</td>\n",
       "      <td>49</td>\n",
       "      <td>...</td>\n",
       "      <td>2</td>\n",
       "      <td>0</td>\n",
       "      <td>False</td>\n",
       "      <td>True</td>\n",
       "      <td>False</td>\n",
       "      <td>False</td>\n",
       "      <td>False</td>\n",
       "      <td>False</td>\n",
       "      <td>False</td>\n",
       "      <td>False</td>\n",
       "    </tr>\n",
       "  </tbody>\n",
       "</table>\n",
       "<p>5 rows × 27 columns</p>\n",
       "</div>"
      ],
      "text/plain": [
       "    Country  Age  Education Level   BMI  Physical Activity Level  \\\n",
       "0  0.399946   90                1  33.0                        1   \n",
       "1  0.402037   72                7  29.9                        1   \n",
       "2  0.495213   86               19  22.9                        2   \n",
       "3  0.386414   53               17  31.2                        0   \n",
       "4  0.342098   58                3  30.0                        2   \n",
       "\n",
       "   Smoking Status  Alcohol Consumption  Cholesterol Level  \\\n",
       "0               0                    1                  0   \n",
       "1               1                    0                  0   \n",
       "2               2                    1                  0   \n",
       "3               0                    2                  0   \n",
       "4               1                    0                  0   \n",
       "\n",
       "   Family History of Alzheimer’s  Cognitive Test Score  ...  Stress Levels  \\\n",
       "0                              0                    90  ...              2   \n",
       "1                              0                    65  ...              2   \n",
       "2                              0                    43  ...              2   \n",
       "3                              0                    81  ...              0   \n",
       "4                              0                    49  ...              2   \n",
       "\n",
       "   Alzheimer’s Diagnosis  Gender_Male  Diabetes_Yes  Hypertension_Yes  \\\n",
       "0                      0         True         False             False   \n",
       "1                      0         True         False             False   \n",
       "2                      0        False         False              True   \n",
       "3                      0         True          True             False   \n",
       "4                      0        False          True             False   \n",
       "\n",
       "   Employment Status_Retired  Employment Status_Unemployed  \\\n",
       "0                       True                         False   \n",
       "1                      False                          True   \n",
       "2                      False                         False   \n",
       "3                       True                         False   \n",
       "4                      False                         False   \n",
       "\n",
       "   Marital Status_Single  Marital Status_Widowed  Urban vs Rural Living_Urban  \n",
       "0                   True                   False                         True  \n",
       "1                  False                    True                         True  \n",
       "2                   True                   False                        False  \n",
       "3                   True                   False                        False  \n",
       "4                  False                   False                        False  \n",
       "\n",
       "[5 rows x 27 columns]"
      ]
     },
     "execution_count": 119,
     "metadata": {},
     "output_type": "execute_result"
    }
   ],
   "source": [
    "#Variables categóricas Nominales (Sin orden específico)\n",
    "#One-Hot Encoding: Para variables con pocas categorías\n",
    "\n",
    "cols=['Gender','Diabetes','Hypertension','Employment Status','Marital Status','Urban vs Rural Living']\n",
    "df = pd.get_dummies(df, columns=cols, drop_first=True)\n",
    "\n",
    "\n",
    "# Variables categiricas Ordinales (Orden específico)\n",
    "df['Cholesterol Level'] = df['Cholesterol Level'].map({'Normal': 0, 'High': 1})\n",
    "df['Family History of Alzheimer’s'] = df['Family History of Alzheimer’s'].map({'No': 0, 'Yes': 1})\n",
    "df['Genetic Risk Factor (APOE-ε4 allele)'] = df['Genetic Risk Factor (APOE-ε4 allele)'].map({'No': 0, 'Yes': 1})\n",
    "\n",
    "\n",
    "df['Physical Activity Level'] = df['Physical Activity Level'].map({'Low': 0, 'Medium': 1, 'High': 2})\n",
    "df['Smoking Status'] = df['Smoking Status'].map({'Never': 0, 'Former': 1, 'Current': 2})\n",
    "df['Alcohol Consumption'] = df['Alcohol Consumption'].map({'Never': 0, 'Occasionally': 1, 'Regularly': 2})\n",
    "df['Depression Level'] = df['Depression Level'].map({'Low': 0, 'Medium': 1, 'High': 2})\n",
    "df['Sleep Quality'] = df['Sleep Quality'].map({'Poor': 0, 'Average': 1, 'Good': 2})\n",
    "df['Dietary Habits'] = df['Dietary Habits'].map({'Unhealthy': 0, 'Average': 1, 'Healthy': 2})\n",
    "df['Air Pollution Exposure'] = df['Air Pollution Exposure'].map({ 'Low':0 ,'Medium':1,'High':2})\n",
    "df['Social Engagement Level'] = df['Social Engagement Level'].map({'Low': 0, 'Medium': 1, 'High': 2})\n",
    "df['Stress Levels'] = df['Stress Levels'].map({'Low': 0, 'Medium': 1, 'High': 2})\n",
    "df['Income Level'] = df['Income Level'].map({'Low': 0, 'Medium': 1, 'High': 2})\n",
    "\n",
    "\n",
    "# Aplicar Target Encoding a 'Country' \n",
    "df['Alzheimer’s Diagnosis'] = df['Alzheimer’s Diagnosis'].map({'No': 0, 'Yes': 1}) #¡Target de la data!\n",
    "target_enc = TargetEncoder()\n",
    "df['Country'] = target_enc.fit_transform(df['Country'],df['Alzheimer’s Diagnosis'])\n",
    "\n",
    "df.head()"
   ]
  },
  {
   "cell_type": "code",
   "execution_count": 120,
   "metadata": {},
   "outputs": [
    {
     "name": "stdout",
     "output_type": "stream",
     "text": [
      "<class 'pandas.core.frame.DataFrame'>\n",
      "RangeIndex: 74283 entries, 0 to 74282\n",
      "Data columns (total 27 columns):\n",
      " #   Column                                Non-Null Count  Dtype  \n",
      "---  ------                                --------------  -----  \n",
      " 0   Country                               74283 non-null  float64\n",
      " 1   Age                                   74283 non-null  int64  \n",
      " 2   Education Level                       74283 non-null  int64  \n",
      " 3   BMI                                   74283 non-null  float64\n",
      " 4   Physical Activity Level               74283 non-null  int64  \n",
      " 5   Smoking Status                        74283 non-null  int64  \n",
      " 6   Alcohol Consumption                   74283 non-null  int64  \n",
      " 7   Cholesterol Level                     74283 non-null  int64  \n",
      " 8   Family History of Alzheimer’s         74283 non-null  int64  \n",
      " 9   Cognitive Test Score                  74283 non-null  int64  \n",
      " 10  Depression Level                      74283 non-null  int64  \n",
      " 11  Sleep Quality                         74283 non-null  int64  \n",
      " 12  Dietary Habits                        74283 non-null  int64  \n",
      " 13  Air Pollution Exposure                74283 non-null  int64  \n",
      " 14  Genetic Risk Factor (APOE-ε4 allele)  74283 non-null  int64  \n",
      " 15  Social Engagement Level               74283 non-null  int64  \n",
      " 16  Income Level                          74283 non-null  int64  \n",
      " 17  Stress Levels                         74283 non-null  int64  \n",
      " 18  Alzheimer’s Diagnosis                 74283 non-null  int64  \n",
      " 19  Gender_Male                           74283 non-null  bool   \n",
      " 20  Diabetes_Yes                          74283 non-null  bool   \n",
      " 21  Hypertension_Yes                      74283 non-null  bool   \n",
      " 22  Employment Status_Retired             74283 non-null  bool   \n",
      " 23  Employment Status_Unemployed          74283 non-null  bool   \n",
      " 24  Marital Status_Single                 74283 non-null  bool   \n",
      " 25  Marital Status_Widowed                74283 non-null  bool   \n",
      " 26  Urban vs Rural Living_Urban           74283 non-null  bool   \n",
      "dtypes: bool(8), float64(2), int64(17)\n",
      "memory usage: 11.3 MB\n"
     ]
    }
   ],
   "source": [
    "df.info()"
   ]
  },
  {
   "cell_type": "markdown",
   "metadata": {},
   "source": [
    "### 2.2. Normalización de variables numéricas"
   ]
  },
  {
   "cell_type": "code",
   "execution_count": 121,
   "metadata": {},
   "outputs": [],
   "source": [
    "from sklearn.preprocessing import StandardScaler, MinMaxScaler\n",
    "scaler = MinMaxScaler()\n",
    "df_Normalizado = df.copy()\n",
    "df_Normalizado [['Physical Activity Level','Smoking Status','Alcohol Consumption','Depression Level',\n",
    "                 'Sleep Quality','Dietary Habits','Air Pollution Exposure','Social Engagement Level',\n",
    "                 'Stress Levels','Income Level']] = scaler.fit_transform(df[['Physical Activity Level',\n",
    "                 'Smoking Status','Alcohol Consumption','Depression Level','Sleep Quality',\n",
    "                 'Dietary Habits','Air Pollution Exposure','Social Engagement Level','Stress Levels',\n",
    "                 'Income Level']])\n"
   ]
  },
  {
   "cell_type": "markdown",
   "metadata": {},
   "source": [
    "## 3. Análisis Exploratorio"
   ]
  },
  {
   "cell_type": "markdown",
   "metadata": {},
   "source": [
    "### 3.1. Visualización de correlaciones"
   ]
  },
  {
   "cell_type": "code",
   "execution_count": 122,
   "metadata": {},
   "outputs": [
    {
     "data": {
      "application/vnd.plotly.v1+json": {
       "config": {
        "plotlyServerURL": "https://plot.ly"
       },
       "data": [
        {
         "coloraxis": "coloraxis",
         "hovertemplate": "x: %{x}<br>y: %{y}<br>color: %{z}<extra></extra>",
         "name": "0",
         "texttemplate": "%{z}",
         "type": "heatmap",
         "x": [
          "Country",
          "Age",
          "Education Level",
          "BMI",
          "Physical Activity Level",
          "Smoking Status",
          "Alcohol Consumption",
          "Cholesterol Level",
          "Family History of Alzheimer’s",
          "Cognitive Test Score",
          "Depression Level",
          "Sleep Quality",
          "Dietary Habits",
          "Air Pollution Exposure",
          "Genetic Risk Factor (APOE-ε4 allele)",
          "Social Engagement Level",
          "Income Level",
          "Stress Levels",
          "Alzheimer’s Diagnosis",
          "Gender_Male",
          "Diabetes_Yes",
          "Hypertension_Yes",
          "Employment Status_Retired",
          "Employment Status_Unemployed",
          "Marital Status_Single",
          "Marital Status_Widowed",
          "Urban vs Rural Living_Urban"
         ],
         "xaxis": "x",
         "y": [
          "Country",
          "Age",
          "Education Level",
          "BMI",
          "Physical Activity Level",
          "Smoking Status",
          "Alcohol Consumption",
          "Cholesterol Level",
          "Family History of Alzheimer’s",
          "Cognitive Test Score",
          "Depression Level",
          "Sleep Quality",
          "Dietary Habits",
          "Air Pollution Exposure",
          "Genetic Risk Factor (APOE-ε4 allele)",
          "Social Engagement Level",
          "Income Level",
          "Stress Levels",
          "Alzheimer’s Diagnosis",
          "Gender_Male",
          "Diabetes_Yes",
          "Hypertension_Yes",
          "Employment Status_Retired",
          "Employment Status_Unemployed",
          "Marital Status_Single",
          "Marital Status_Widowed",
          "Urban vs Rural Living_Urban"
         ],
         "yaxis": "y",
         "z": {
          "bdata": "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",
          "dtype": "f8",
          "shape": "27, 27"
         }
        }
       ],
       "layout": {
        "coloraxis": {
         "colorscale": [
          [
           0,
           "rgb(254, 245, 244)"
          ],
          [
           0.09090909090909091,
           "rgb(222, 224, 210)"
          ],
          [
           0.18181818181818182,
           "rgb(189, 206, 181)"
          ],
          [
           0.2727272727272727,
           "rgb(153, 189, 156)"
          ],
          [
           0.36363636363636365,
           "rgb(110, 173, 138)"
          ],
          [
           0.45454545454545453,
           "rgb(65, 157, 129)"
          ],
          [
           0.5454545454545454,
           "rgb(25, 137, 125)"
          ],
          [
           0.6363636363636364,
           "rgb(18, 116, 117)"
          ],
          [
           0.7272727272727273,
           "rgb(25, 94, 106)"
          ],
          [
           0.8181818181818182,
           "rgb(28, 72, 93)"
          ],
          [
           0.9090909090909091,
           "rgb(25, 51, 80)"
          ],
          [
           1,
           "rgb(20, 29, 67)"
          ]
         ]
        },
        "height": 1260,
        "template": {
         "data": {
          "bar": [
           {
            "error_x": {
             "color": "#f2f5fa"
            },
            "error_y": {
             "color": "#f2f5fa"
            },
            "marker": {
             "line": {
              "color": "rgb(17,17,17)",
              "width": 0.5
             },
             "pattern": {
              "fillmode": "overlay",
              "size": 10,
              "solidity": 0.2
             }
            },
            "type": "bar"
           }
          ],
          "barpolar": [
           {
            "marker": {
             "line": {
              "color": "rgb(17,17,17)",
              "width": 0.5
             },
             "pattern": {
              "fillmode": "overlay",
              "size": 10,
              "solidity": 0.2
             }
            },
            "type": "barpolar"
           }
          ],
          "carpet": [
           {
            "aaxis": {
             "endlinecolor": "#A2B1C6",
             "gridcolor": "#506784",
             "linecolor": "#506784",
             "minorgridcolor": "#506784",
             "startlinecolor": "#A2B1C6"
            },
            "baxis": {
             "endlinecolor": "#A2B1C6",
             "gridcolor": "#506784",
             "linecolor": "#506784",
             "minorgridcolor": "#506784",
             "startlinecolor": "#A2B1C6"
            },
            "type": "carpet"
           }
          ],
          "choropleth": [
           {
            "colorbar": {
             "outlinewidth": 0,
             "ticks": ""
            },
            "type": "choropleth"
           }
          ],
          "contour": [
           {
            "colorbar": {
             "outlinewidth": 0,
             "ticks": ""
            },
            "colorscale": [
             [
              0,
              "#0d0887"
             ],
             [
              0.1111111111111111,
              "#46039f"
             ],
             [
              0.2222222222222222,
              "#7201a8"
             ],
             [
              0.3333333333333333,
              "#9c179e"
             ],
             [
              0.4444444444444444,
              "#bd3786"
             ],
             [
              0.5555555555555556,
              "#d8576b"
             ],
             [
              0.6666666666666666,
              "#ed7953"
             ],
             [
              0.7777777777777778,
              "#fb9f3a"
             ],
             [
              0.8888888888888888,
              "#fdca26"
             ],
             [
              1,
              "#f0f921"
             ]
            ],
            "type": "contour"
           }
          ],
          "contourcarpet": [
           {
            "colorbar": {
             "outlinewidth": 0,
             "ticks": ""
            },
            "type": "contourcarpet"
           }
          ],
          "heatmap": [
           {
            "colorbar": {
             "outlinewidth": 0,
             "ticks": ""
            },
            "colorscale": [
             [
              0,
              "#0d0887"
             ],
             [
              0.1111111111111111,
              "#46039f"
             ],
             [
              0.2222222222222222,
              "#7201a8"
             ],
             [
              0.3333333333333333,
              "#9c179e"
             ],
             [
              0.4444444444444444,
              "#bd3786"
             ],
             [
              0.5555555555555556,
              "#d8576b"
             ],
             [
              0.6666666666666666,
              "#ed7953"
             ],
             [
              0.7777777777777778,
              "#fb9f3a"
             ],
             [
              0.8888888888888888,
              "#fdca26"
             ],
             [
              1,
              "#f0f921"
             ]
            ],
            "type": "heatmap"
           }
          ],
          "histogram": [
           {
            "marker": {
             "pattern": {
              "fillmode": "overlay",
              "size": 10,
              "solidity": 0.2
             }
            },
            "type": "histogram"
           }
          ],
          "histogram2d": [
           {
            "colorbar": {
             "outlinewidth": 0,
             "ticks": ""
            },
            "colorscale": [
             [
              0,
              "#0d0887"
             ],
             [
              0.1111111111111111,
              "#46039f"
             ],
             [
              0.2222222222222222,
              "#7201a8"
             ],
             [
              0.3333333333333333,
              "#9c179e"
             ],
             [
              0.4444444444444444,
              "#bd3786"
             ],
             [
              0.5555555555555556,
              "#d8576b"
             ],
             [
              0.6666666666666666,
              "#ed7953"
             ],
             [
              0.7777777777777778,
              "#fb9f3a"
             ],
             [
              0.8888888888888888,
              "#fdca26"
             ],
             [
              1,
              "#f0f921"
             ]
            ],
            "type": "histogram2d"
           }
          ],
          "histogram2dcontour": [
           {
            "colorbar": {
             "outlinewidth": 0,
             "ticks": ""
            },
            "colorscale": [
             [
              0,
              "#0d0887"
             ],
             [
              0.1111111111111111,
              "#46039f"
             ],
             [
              0.2222222222222222,
              "#7201a8"
             ],
             [
              0.3333333333333333,
              "#9c179e"
             ],
             [
              0.4444444444444444,
              "#bd3786"
             ],
             [
              0.5555555555555556,
              "#d8576b"
             ],
             [
              0.6666666666666666,
              "#ed7953"
             ],
             [
              0.7777777777777778,
              "#fb9f3a"
             ],
             [
              0.8888888888888888,
              "#fdca26"
             ],
             [
              1,
              "#f0f921"
             ]
            ],
            "type": "histogram2dcontour"
           }
          ],
          "mesh3d": [
           {
            "colorbar": {
             "outlinewidth": 0,
             "ticks": ""
            },
            "type": "mesh3d"
           }
          ],
          "parcoords": [
           {
            "line": {
             "colorbar": {
              "outlinewidth": 0,
              "ticks": ""
             }
            },
            "type": "parcoords"
           }
          ],
          "pie": [
           {
            "automargin": true,
            "type": "pie"
           }
          ],
          "scatter": [
           {
            "marker": {
             "line": {
              "color": "#283442"
             }
            },
            "type": "scatter"
           }
          ],
          "scatter3d": [
           {
            "line": {
             "colorbar": {
              "outlinewidth": 0,
              "ticks": ""
             }
            },
            "marker": {
             "colorbar": {
              "outlinewidth": 0,
              "ticks": ""
             }
            },
            "type": "scatter3d"
           }
          ],
          "scattercarpet": [
           {
            "marker": {
             "colorbar": {
              "outlinewidth": 0,
              "ticks": ""
             }
            },
            "type": "scattercarpet"
           }
          ],
          "scattergeo": [
           {
            "marker": {
             "colorbar": {
              "outlinewidth": 0,
              "ticks": ""
             }
            },
            "type": "scattergeo"
           }
          ],
          "scattergl": [
           {
            "marker": {
             "line": {
              "color": "#283442"
             }
            },
            "type": "scattergl"
           }
          ],
          "scattermap": [
           {
            "marker": {
             "colorbar": {
              "outlinewidth": 0,
              "ticks": ""
             }
            },
            "type": "scattermap"
           }
          ],
          "scattermapbox": [
           {
            "marker": {
             "colorbar": {
              "outlinewidth": 0,
              "ticks": ""
             }
            },
            "type": "scattermapbox"
           }
          ],
          "scatterpolar": [
           {
            "marker": {
             "colorbar": {
              "outlinewidth": 0,
              "ticks": ""
             }
            },
            "type": "scatterpolar"
           }
          ],
          "scatterpolargl": [
           {
            "marker": {
             "colorbar": {
              "outlinewidth": 0,
              "ticks": ""
             }
            },
            "type": "scatterpolargl"
           }
          ],
          "scatterternary": [
           {
            "marker": {
             "colorbar": {
              "outlinewidth": 0,
              "ticks": ""
             }
            },
            "type": "scatterternary"
           }
          ],
          "surface": [
           {
            "colorbar": {
             "outlinewidth": 0,
             "ticks": ""
            },
            "colorscale": [
             [
              0,
              "#0d0887"
             ],
             [
              0.1111111111111111,
              "#46039f"
             ],
             [
              0.2222222222222222,
              "#7201a8"
             ],
             [
              0.3333333333333333,
              "#9c179e"
             ],
             [
              0.4444444444444444,
              "#bd3786"
             ],
             [
              0.5555555555555556,
              "#d8576b"
             ],
             [
              0.6666666666666666,
              "#ed7953"
             ],
             [
              0.7777777777777778,
              "#fb9f3a"
             ],
             [
              0.8888888888888888,
              "#fdca26"
             ],
             [
              1,
              "#f0f921"
             ]
            ],
            "type": "surface"
           }
          ],
          "table": [
           {
            "cells": {
             "fill": {
              "color": "#506784"
             },
             "line": {
              "color": "rgb(17,17,17)"
             }
            },
            "header": {
             "fill": {
              "color": "#2a3f5f"
             },
             "line": {
              "color": "rgb(17,17,17)"
             }
            },
            "type": "table"
           }
          ]
         },
         "layout": {
          "annotationdefaults": {
           "arrowcolor": "#f2f5fa",
           "arrowhead": 0,
           "arrowwidth": 1
          },
          "autotypenumbers": "strict",
          "coloraxis": {
           "colorbar": {
            "outlinewidth": 0,
            "ticks": ""
           }
          },
          "colorscale": {
           "diverging": [
            [
             0,
             "#8e0152"
            ],
            [
             0.1,
             "#c51b7d"
            ],
            [
             0.2,
             "#de77ae"
            ],
            [
             0.3,
             "#f1b6da"
            ],
            [
             0.4,
             "#fde0ef"
            ],
            [
             0.5,
             "#f7f7f7"
            ],
            [
             0.6,
             "#e6f5d0"
            ],
            [
             0.7,
             "#b8e186"
            ],
            [
             0.8,
             "#7fbc41"
            ],
            [
             0.9,
             "#4d9221"
            ],
            [
             1,
             "#276419"
            ]
           ],
           "sequential": [
            [
             0,
             "#0d0887"
            ],
            [
             0.1111111111111111,
             "#46039f"
            ],
            [
             0.2222222222222222,
             "#7201a8"
            ],
            [
             0.3333333333333333,
             "#9c179e"
            ],
            [
             0.4444444444444444,
             "#bd3786"
            ],
            [
             0.5555555555555556,
             "#d8576b"
            ],
            [
             0.6666666666666666,
             "#ed7953"
            ],
            [
             0.7777777777777778,
             "#fb9f3a"
            ],
            [
             0.8888888888888888,
             "#fdca26"
            ],
            [
             1,
             "#f0f921"
            ]
           ],
           "sequentialminus": [
            [
             0,
             "#0d0887"
            ],
            [
             0.1111111111111111,
             "#46039f"
            ],
            [
             0.2222222222222222,
             "#7201a8"
            ],
            [
             0.3333333333333333,
             "#9c179e"
            ],
            [
             0.4444444444444444,
             "#bd3786"
            ],
            [
             0.5555555555555556,
             "#d8576b"
            ],
            [
             0.6666666666666666,
             "#ed7953"
            ],
            [
             0.7777777777777778,
             "#fb9f3a"
            ],
            [
             0.8888888888888888,
             "#fdca26"
            ],
            [
             1,
             "#f0f921"
            ]
           ]
          },
          "colorway": [
           "#636efa",
           "#EF553B",
           "#00cc96",
           "#ab63fa",
           "#FFA15A",
           "#19d3f3",
           "#FF6692",
           "#B6E880",
           "#FF97FF",
           "#FECB52"
          ],
          "font": {
           "color": "#f2f5fa"
          },
          "geo": {
           "bgcolor": "rgb(17,17,17)",
           "lakecolor": "rgb(17,17,17)",
           "landcolor": "rgb(17,17,17)",
           "showlakes": true,
           "showland": true,
           "subunitcolor": "#506784"
          },
          "hoverlabel": {
           "align": "left"
          },
          "hovermode": "closest",
          "mapbox": {
           "style": "dark"
          },
          "paper_bgcolor": "rgb(17,17,17)",
          "plot_bgcolor": "rgb(17,17,17)",
          "polar": {
           "angularaxis": {
            "gridcolor": "#506784",
            "linecolor": "#506784",
            "ticks": ""
           },
           "bgcolor": "rgb(17,17,17)",
           "radialaxis": {
            "gridcolor": "#506784",
            "linecolor": "#506784",
            "ticks": ""
           }
          },
          "scene": {
           "xaxis": {
            "backgroundcolor": "rgb(17,17,17)",
            "gridcolor": "#506784",
            "gridwidth": 2,
            "linecolor": "#506784",
            "showbackground": true,
            "ticks": "",
            "zerolinecolor": "#C8D4E3"
           },
           "yaxis": {
            "backgroundcolor": "rgb(17,17,17)",
            "gridcolor": "#506784",
            "gridwidth": 2,
            "linecolor": "#506784",
            "showbackground": true,
            "ticks": "",
            "zerolinecolor": "#C8D4E3"
           },
           "zaxis": {
            "backgroundcolor": "rgb(17,17,17)",
            "gridcolor": "#506784",
            "gridwidth": 2,
            "linecolor": "#506784",
            "showbackground": true,
            "ticks": "",
            "zerolinecolor": "#C8D4E3"
           }
          },
          "shapedefaults": {
           "line": {
            "color": "#f2f5fa"
           }
          },
          "sliderdefaults": {
           "bgcolor": "#C8D4E3",
           "bordercolor": "rgb(17,17,17)",
           "borderwidth": 1,
           "tickwidth": 0
          },
          "ternary": {
           "aaxis": {
            "gridcolor": "#506784",
            "linecolor": "#506784",
            "ticks": ""
           },
           "baxis": {
            "gridcolor": "#506784",
            "linecolor": "#506784",
            "ticks": ""
           },
           "bgcolor": "rgb(17,17,17)",
           "caxis": {
            "gridcolor": "#506784",
            "linecolor": "#506784",
            "ticks": ""
           }
          },
          "title": {
           "x": 0.05
          },
          "updatemenudefaults": {
           "bgcolor": "#506784",
           "borderwidth": 0
          },
          "xaxis": {
           "automargin": true,
           "gridcolor": "#283442",
           "linecolor": "#506784",
           "ticks": "",
           "title": {
            "standoff": 15
           },
           "zerolinecolor": "#283442",
           "zerolinewidth": 2
          },
          "yaxis": {
           "automargin": true,
           "gridcolor": "#283442",
           "linecolor": "#506784",
           "ticks": "",
           "title": {
            "standoff": 15
           },
           "zerolinecolor": "#283442",
           "zerolinewidth": 2
          }
         }
        },
        "title": {
         "text": "Correlation Heatmap"
        },
        "width": 1260,
        "xaxis": {
         "anchor": "y",
         "constrain": "domain",
         "domain": [
          0,
          1
         ],
         "scaleanchor": "y"
        },
        "yaxis": {
         "anchor": "x",
         "autorange": "reversed",
         "constrain": "domain",
         "domain": [
          0,
          1
         ]
        }
       }
      }
     },
     "metadata": {},
     "output_type": "display_data"
    }
   ],
   "source": [
    "import plotly.express as px\n",
    "\n",
    "fig = px.imshow(df_Normalizado.corr(), \n",
    "                text_auto=True, \n",
    "                color_continuous_scale = \"tempo\",  \n",
    "                template='plotly_dark',\n",
    "                title=\"Correlation Heatmap\")\n",
    "fig.update_layout(\n",
    "    width=1260, \n",
    "    height=1260  \n",
    ")\n",
    "fig.show()"
   ]
  },
  {
   "cell_type": "markdown",
   "metadata": {},
   "source": [
    "## 4. Entrenamiento del Modelo"
   ]
  },
  {
   "cell_type": "markdown",
   "metadata": {},
   "source": [
    "Nota: Yo hice algunas pruebas con algunos ejemplos que encontre en kaggle con esta misma data, se los dejo de ejemplo para que sigan optimizandolos y provando hiperparametros: "
   ]
  },
  {
   "cell_type": "code",
   "execution_count": 123,
   "metadata": {},
   "outputs": [
    {
     "data": {
      "text/plain": [
       "72.02665410244329"
      ]
     },
     "execution_count": 123,
     "metadata": {},
     "output_type": "execute_result"
    }
   ],
   "source": [
    "x = df_Normalizado.drop('Alzheimer’s Diagnosis', axis=1)\n",
    "y = df_Normalizado['Alzheimer’s Diagnosis']\n",
    "\n",
    "x_train, x_test, y_train, y_test = train_test_split(x, y, test_size=0.2, random_state=42)\n",
    "\n",
    "#Probando Modelo RandomForestClassifier\n",
    "\n",
    "model = RandomForestClassifier(n_estimators=100, random_state=42) #72.02%\n",
    "model.fit(x_train, y_train)\n",
    "model.score(x_test, y_test)*100\n"
   ]
  },
  {
   "cell_type": "code",
   "execution_count": 124,
   "metadata": {},
   "outputs": [
    {
     "data": {
      "text/plain": [
       "93.85622454817756"
      ]
     },
     "execution_count": 124,
     "metadata": {},
     "output_type": "execute_result"
    }
   ],
   "source": [
    "#Probando Modelo XGBoost\n",
    "\n",
    "#80.94 % de precisión\n",
    "#model = xgb.XGBClassifier(objective='multi:softmax', num_class=3, random_state=42)\n",
    "#93.85 % de precisión\n",
    "model = xgb.XGBClassifier(objective='multi:softmax', num_class=3, random_state=42, max_depth=10, n_estimators=100 , learning_rate=0.1 , subsample=0.5)\n",
    "model.fit(x_train, y_train)\n",
    "model.score(x_train, y_train)*100"
   ]
  },
  {
   "cell_type": "markdown",
   "metadata": {},
   "source": [
    "### 4.1 Modelos supervisados "
   ]
  },
  {
   "cell_type": "code",
   "execution_count": null,
   "metadata": {},
   "outputs": [],
   "source": []
  },
  {
   "cell_type": "markdown",
   "metadata": {},
   "source": [
    "### 4.2. Modelos no supervisados"
   ]
  },
  {
   "cell_type": "code",
   "execution_count": null,
   "metadata": {},
   "outputs": [],
   "source": []
  },
  {
   "cell_type": "markdown",
   "metadata": {},
   "source": [
    "## 5. Optinización y comparación de modelos "
   ]
  }
 ],
 "metadata": {
  "kernelspec": {
   "display_name": "proyecto_python1",
   "language": "python",
   "name": "python3"
  },
  "language_info": {
   "codemirror_mode": {
    "name": "ipython",
    "version": 3
   },
   "file_extension": ".py",
   "mimetype": "text/x-python",
   "name": "python",
   "nbconvert_exporter": "python",
   "pygments_lexer": "ipython3",
   "version": "3.12.8"
  }
 },
 "nbformat": 4,
 "nbformat_minor": 2
}
