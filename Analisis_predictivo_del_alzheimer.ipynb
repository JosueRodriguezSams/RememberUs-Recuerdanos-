{
 "cells": [
  {
   "cell_type": "markdown",
   "metadata": {},
   "source": [
    "# Análisis predictivo del Alzheimer\n",
    "Este proyecto tiene como objetivo desarrollar un modelo de aprendizaje automático capaz de predecir la probabilidad de que un paciente padezca Alzheimer, basándose en diversas características relacionadas con su estilo de vida, historial médico y factores genéticos.\n",
    "\n",
    "**¿Porque es relevante este estudio ?**\n",
    "El Alzheimer es una enfermedad neurodegenerativa que afecta a millones de personas. La detección temprana es clave para retrasar su progresión y mejorar la calidad de vida, pero sigue siendo un reto. Este estudio emplea aprendizaje automático para identificar patrones en datos de salud y predecir el riesgo de Alzheimer antes de que aparezcan síntomas, ayudando a los médicos en la toma de decisiones y estrategias preventivas.\n",
    "\n",
    "**Modelos utilizados:**\n",
    "\n",
    "|      Modelo                     | Precisión   |\n",
    "|---------------------------------|-------------|\n",
    "| RandomForest                    | 77%         |\n",
    "| LogisticRegressio               | 72%         |\n",
    "| XGBoost                         | 76%         |\n"
   ]
  },
  {
   "cell_type": "code",
   "execution_count": 2,
   "metadata": {},
   "outputs": [],
   "source": [
    "import numpy as np\n",
    "import pandas as pd \n",
    "import matplotlib.pyplot as plt\n",
    "import seaborn as sns\n",
    "from category_encoders import TargetEncoder\n",
    "from sklearn.cluster import KMeans\n",
    "from sklearn.ensemble import RandomForestClassifier\n",
    "from sklearn.linear_model import LogisticRegression\n",
    "from sklearn.model_selection import train_test_split, GridSearchCV\n",
    "from sklearn.metrics import silhouette_score, make_scorer,ConfusionMatrixDisplay, classification_report, confusion_matrix\n",
    "from xgboost import XGBClassifier\n",
    "from imblearn.over_sampling import SMOTE\n",
    "\n",
    "\n",
    "#from sklearn.preprocessing import OneHotEncoder, LabelEncoder, StandardScaler\n",
    "#pip install -U scikit-learn\n",
    "#!pip install xgboost\n",
    "# pip install category_encoders\n",
    "##!pip install plotly\n",
    "##pip install --upgrade imbalanced-learn\n",
    "\n"
   ]
  },
  {
   "cell_type": "markdown",
   "metadata": {},
   "source": [
    "## 1. Obtención y exploración de Datos "
   ]
  },
  {
   "cell_type": "code",
   "execution_count": 24,
   "metadata": {},
   "outputs": [
    {
     "data": {
      "text/html": [
       "<div>\n",
       "<style scoped>\n",
       "    .dataframe tbody tr th:only-of-type {\n",
       "        vertical-align: middle;\n",
       "    }\n",
       "\n",
       "    .dataframe tbody tr th {\n",
       "        vertical-align: top;\n",
       "    }\n",
       "\n",
       "    .dataframe thead th {\n",
       "        text-align: right;\n",
       "    }\n",
       "</style>\n",
       "<table border=\"1\" class=\"dataframe\">\n",
       "  <thead>\n",
       "    <tr style=\"text-align: right;\">\n",
       "      <th></th>\n",
       "      <th>Country</th>\n",
       "      <th>Age</th>\n",
       "      <th>Gender</th>\n",
       "      <th>Education Level</th>\n",
       "      <th>BMI</th>\n",
       "      <th>Physical Activity Level</th>\n",
       "      <th>Smoking Status</th>\n",
       "      <th>Alcohol Consumption</th>\n",
       "      <th>Diabetes</th>\n",
       "      <th>Hypertension</th>\n",
       "      <th>...</th>\n",
       "      <th>Dietary Habits</th>\n",
       "      <th>Air Pollution Exposure</th>\n",
       "      <th>Employment Status</th>\n",
       "      <th>Marital Status</th>\n",
       "      <th>Genetic Risk Factor (APOE-ε4 allele)</th>\n",
       "      <th>Social Engagement Level</th>\n",
       "      <th>Income Level</th>\n",
       "      <th>Stress Levels</th>\n",
       "      <th>Urban vs Rural Living</th>\n",
       "      <th>Alzheimer’s Diagnosis</th>\n",
       "    </tr>\n",
       "  </thead>\n",
       "  <tbody>\n",
       "    <tr>\n",
       "      <th>0</th>\n",
       "      <td>Spain</td>\n",
       "      <td>90</td>\n",
       "      <td>Male</td>\n",
       "      <td>1</td>\n",
       "      <td>33.0</td>\n",
       "      <td>Medium</td>\n",
       "      <td>Never</td>\n",
       "      <td>Occasionally</td>\n",
       "      <td>No</td>\n",
       "      <td>No</td>\n",
       "      <td>...</td>\n",
       "      <td>Healthy</td>\n",
       "      <td>High</td>\n",
       "      <td>Retired</td>\n",
       "      <td>Single</td>\n",
       "      <td>No</td>\n",
       "      <td>Low</td>\n",
       "      <td>Medium</td>\n",
       "      <td>High</td>\n",
       "      <td>Urban</td>\n",
       "      <td>No</td>\n",
       "    </tr>\n",
       "    <tr>\n",
       "      <th>1</th>\n",
       "      <td>Argentina</td>\n",
       "      <td>72</td>\n",
       "      <td>Male</td>\n",
       "      <td>7</td>\n",
       "      <td>29.9</td>\n",
       "      <td>Medium</td>\n",
       "      <td>Former</td>\n",
       "      <td>Never</td>\n",
       "      <td>No</td>\n",
       "      <td>No</td>\n",
       "      <td>...</td>\n",
       "      <td>Healthy</td>\n",
       "      <td>Medium</td>\n",
       "      <td>Unemployed</td>\n",
       "      <td>Widowed</td>\n",
       "      <td>No</td>\n",
       "      <td>High</td>\n",
       "      <td>Low</td>\n",
       "      <td>High</td>\n",
       "      <td>Urban</td>\n",
       "      <td>No</td>\n",
       "    </tr>\n",
       "    <tr>\n",
       "      <th>2</th>\n",
       "      <td>South Africa</td>\n",
       "      <td>86</td>\n",
       "      <td>Female</td>\n",
       "      <td>19</td>\n",
       "      <td>22.9</td>\n",
       "      <td>High</td>\n",
       "      <td>Current</td>\n",
       "      <td>Occasionally</td>\n",
       "      <td>No</td>\n",
       "      <td>Yes</td>\n",
       "      <td>...</td>\n",
       "      <td>Average</td>\n",
       "      <td>Medium</td>\n",
       "      <td>Employed</td>\n",
       "      <td>Single</td>\n",
       "      <td>No</td>\n",
       "      <td>Low</td>\n",
       "      <td>Medium</td>\n",
       "      <td>High</td>\n",
       "      <td>Rural</td>\n",
       "      <td>No</td>\n",
       "    </tr>\n",
       "    <tr>\n",
       "      <th>3</th>\n",
       "      <td>China</td>\n",
       "      <td>53</td>\n",
       "      <td>Male</td>\n",
       "      <td>17</td>\n",
       "      <td>31.2</td>\n",
       "      <td>Low</td>\n",
       "      <td>Never</td>\n",
       "      <td>Regularly</td>\n",
       "      <td>Yes</td>\n",
       "      <td>No</td>\n",
       "      <td>...</td>\n",
       "      <td>Healthy</td>\n",
       "      <td>Medium</td>\n",
       "      <td>Retired</td>\n",
       "      <td>Single</td>\n",
       "      <td>No</td>\n",
       "      <td>High</td>\n",
       "      <td>Medium</td>\n",
       "      <td>Low</td>\n",
       "      <td>Rural</td>\n",
       "      <td>No</td>\n",
       "    </tr>\n",
       "    <tr>\n",
       "      <th>4</th>\n",
       "      <td>Sweden</td>\n",
       "      <td>58</td>\n",
       "      <td>Female</td>\n",
       "      <td>3</td>\n",
       "      <td>30.0</td>\n",
       "      <td>High</td>\n",
       "      <td>Former</td>\n",
       "      <td>Never</td>\n",
       "      <td>Yes</td>\n",
       "      <td>No</td>\n",
       "      <td>...</td>\n",
       "      <td>Unhealthy</td>\n",
       "      <td>High</td>\n",
       "      <td>Employed</td>\n",
       "      <td>Married</td>\n",
       "      <td>No</td>\n",
       "      <td>Low</td>\n",
       "      <td>Medium</td>\n",
       "      <td>High</td>\n",
       "      <td>Rural</td>\n",
       "      <td>No</td>\n",
       "    </tr>\n",
       "  </tbody>\n",
       "</table>\n",
       "<p>5 rows × 25 columns</p>\n",
       "</div>"
      ],
      "text/plain": [
       "        Country  Age  Gender  Education Level   BMI Physical Activity Level  \\\n",
       "0         Spain   90    Male                1  33.0                  Medium   \n",
       "1     Argentina   72    Male                7  29.9                  Medium   \n",
       "2  South Africa   86  Female               19  22.9                    High   \n",
       "3         China   53    Male               17  31.2                     Low   \n",
       "4        Sweden   58  Female                3  30.0                    High   \n",
       "\n",
       "  Smoking Status Alcohol Consumption Diabetes Hypertension  ...  \\\n",
       "0          Never        Occasionally       No           No  ...   \n",
       "1         Former               Never       No           No  ...   \n",
       "2        Current        Occasionally       No          Yes  ...   \n",
       "3          Never           Regularly      Yes           No  ...   \n",
       "4         Former               Never      Yes           No  ...   \n",
       "\n",
       "  Dietary Habits Air Pollution Exposure  Employment Status Marital Status  \\\n",
       "0        Healthy                   High            Retired         Single   \n",
       "1        Healthy                 Medium         Unemployed        Widowed   \n",
       "2        Average                 Medium           Employed         Single   \n",
       "3        Healthy                 Medium            Retired         Single   \n",
       "4      Unhealthy                   High           Employed        Married   \n",
       "\n",
       "  Genetic Risk Factor (APOE-ε4 allele) Social Engagement Level Income Level  \\\n",
       "0                                   No                     Low       Medium   \n",
       "1                                   No                    High          Low   \n",
       "2                                   No                     Low       Medium   \n",
       "3                                   No                    High       Medium   \n",
       "4                                   No                     Low       Medium   \n",
       "\n",
       "  Stress Levels Urban vs Rural Living Alzheimer’s Diagnosis  \n",
       "0          High                 Urban                    No  \n",
       "1          High                 Urban                    No  \n",
       "2          High                 Rural                    No  \n",
       "3           Low                 Rural                    No  \n",
       "4          High                 Rural                    No  \n",
       "\n",
       "[5 rows x 25 columns]"
      ]
     },
     "execution_count": 24,
     "metadata": {},
     "output_type": "execute_result"
    }
   ],
   "source": [
    "ruta = \"Data/alzheimers_prediction_dataset.csv\"\n",
    "df = pd.read_csv(ruta,encoding='utf-8', sep=\",\")\n",
    "df.head()"
   ]
  },
  {
   "cell_type": "code",
   "execution_count": 4,
   "metadata": {},
   "outputs": [
    {
     "name": "stdout",
     "output_type": "stream",
     "text": [
      "<class 'pandas.core.frame.DataFrame'>\n",
      "RangeIndex: 74283 entries, 0 to 74282\n",
      "Data columns (total 25 columns):\n",
      " #   Column                                Non-Null Count  Dtype  \n",
      "---  ------                                --------------  -----  \n",
      " 0   Country                               74283 non-null  object \n",
      " 1   Age                                   74283 non-null  int64  \n",
      " 2   Gender                                74283 non-null  object \n",
      " 3   Education Level                       74283 non-null  int64  \n",
      " 4   BMI                                   74283 non-null  float64\n",
      " 5   Physical Activity Level               74283 non-null  object \n",
      " 6   Smoking Status                        74283 non-null  object \n",
      " 7   Alcohol Consumption                   74283 non-null  object \n",
      " 8   Diabetes                              74283 non-null  object \n",
      " 9   Hypertension                          74283 non-null  object \n",
      " 10  Cholesterol Level                     74283 non-null  object \n",
      " 11  Family History of Alzheimer’s         74283 non-null  object \n",
      " 12  Cognitive Test Score                  74283 non-null  int64  \n",
      " 13  Depression Level                      74283 non-null  object \n",
      " 14  Sleep Quality                         74283 non-null  object \n",
      " 15  Dietary Habits                        74283 non-null  object \n",
      " 16  Air Pollution Exposure                74283 non-null  object \n",
      " 17  Employment Status                     74283 non-null  object \n",
      " 18  Marital Status                        74283 non-null  object \n",
      " 19  Genetic Risk Factor (APOE-ε4 allele)  74283 non-null  object \n",
      " 20  Social Engagement Level               74283 non-null  object \n",
      " 21  Income Level                          74283 non-null  object \n",
      " 22  Stress Levels                         74283 non-null  object \n",
      " 23  Urban vs Rural Living                 74283 non-null  object \n",
      " 24  Alzheimer’s Diagnosis                 74283 non-null  object \n",
      "dtypes: float64(1), int64(3), object(21)\n",
      "memory usage: 14.2+ MB\n"
     ]
    }
   ],
   "source": [
    "df.info()\n"
   ]
  },
  {
   "cell_type": "code",
   "execution_count": 5,
   "metadata": {},
   "outputs": [
    {
     "data": {
      "text/plain": [
       "Country                                 0\n",
       "Age                                     0\n",
       "Gender                                  0\n",
       "Education Level                         0\n",
       "BMI                                     0\n",
       "Physical Activity Level                 0\n",
       "Smoking Status                          0\n",
       "Alcohol Consumption                     0\n",
       "Diabetes                                0\n",
       "Hypertension                            0\n",
       "Cholesterol Level                       0\n",
       "Family History of Alzheimer’s           0\n",
       "Cognitive Test Score                    0\n",
       "Depression Level                        0\n",
       "Sleep Quality                           0\n",
       "Dietary Habits                          0\n",
       "Air Pollution Exposure                  0\n",
       "Employment Status                       0\n",
       "Marital Status                          0\n",
       "Genetic Risk Factor (APOE-ε4 allele)    0\n",
       "Social Engagement Level                 0\n",
       "Income Level                            0\n",
       "Stress Levels                           0\n",
       "Urban vs Rural Living                   0\n",
       "Alzheimer’s Diagnosis                   0\n",
       "dtype: int64"
      ]
     },
     "execution_count": 5,
     "metadata": {},
     "output_type": "execute_result"
    }
   ],
   "source": [
    "df.isnull().sum()"
   ]
  },
  {
   "cell_type": "code",
   "execution_count": null,
   "metadata": {},
   "outputs": [
    {
     "data": {
      "text/html": [
       "<div>\n",
       "<style scoped>\n",
       "    .dataframe tbody tr th:only-of-type {\n",
       "        vertical-align: middle;\n",
       "    }\n",
       "\n",
       "    .dataframe tbody tr th {\n",
       "        vertical-align: top;\n",
       "    }\n",
       "\n",
       "    .dataframe thead th {\n",
       "        text-align: right;\n",
       "    }\n",
       "</style>\n",
       "<table border=\"1\" class=\"dataframe\">\n",
       "  <thead>\n",
       "    <tr style=\"text-align: right;\">\n",
       "      <th></th>\n",
       "      <th>Age</th>\n",
       "      <th>Education Level</th>\n",
       "      <th>BMI</th>\n",
       "      <th>Cognitive Test Score</th>\n",
       "    </tr>\n",
       "  </thead>\n",
       "  <tbody>\n",
       "    <tr>\n",
       "      <th>count</th>\n",
       "      <td>74283.000000</td>\n",
       "      <td>74283.000000</td>\n",
       "      <td>74283.000000</td>\n",
       "      <td>74283.000000</td>\n",
       "    </tr>\n",
       "    <tr>\n",
       "      <th>mean</th>\n",
       "      <td>71.964703</td>\n",
       "      <td>9.487514</td>\n",
       "      <td>26.780639</td>\n",
       "      <td>64.654241</td>\n",
       "    </tr>\n",
       "    <tr>\n",
       "      <th>std</th>\n",
       "      <td>12.980748</td>\n",
       "      <td>5.757020</td>\n",
       "      <td>4.764679</td>\n",
       "      <td>20.153247</td>\n",
       "    </tr>\n",
       "    <tr>\n",
       "      <th>min</th>\n",
       "      <td>50.000000</td>\n",
       "      <td>0.000000</td>\n",
       "      <td>18.500000</td>\n",
       "      <td>30.000000</td>\n",
       "    </tr>\n",
       "    <tr>\n",
       "      <th>25%</th>\n",
       "      <td>61.000000</td>\n",
       "      <td>4.000000</td>\n",
       "      <td>22.700000</td>\n",
       "      <td>47.000000</td>\n",
       "    </tr>\n",
       "    <tr>\n",
       "      <th>50%</th>\n",
       "      <td>72.000000</td>\n",
       "      <td>9.000000</td>\n",
       "      <td>26.800000</td>\n",
       "      <td>65.000000</td>\n",
       "    </tr>\n",
       "    <tr>\n",
       "      <th>75%</th>\n",
       "      <td>83.000000</td>\n",
       "      <td>14.000000</td>\n",
       "      <td>30.900000</td>\n",
       "      <td>82.000000</td>\n",
       "    </tr>\n",
       "    <tr>\n",
       "      <th>max</th>\n",
       "      <td>94.000000</td>\n",
       "      <td>19.000000</td>\n",
       "      <td>35.000000</td>\n",
       "      <td>99.000000</td>\n",
       "    </tr>\n",
       "  </tbody>\n",
       "</table>\n",
       "</div>"
      ],
      "text/plain": [
       "                Age  Education Level           BMI  Cognitive Test Score\n",
       "count  74283.000000     74283.000000  74283.000000          74283.000000\n",
       "mean      71.964703         9.487514     26.780639             64.654241\n",
       "std       12.980748         5.757020      4.764679             20.153247\n",
       "min       50.000000         0.000000     18.500000             30.000000\n",
       "25%       61.000000         4.000000     22.700000             47.000000\n",
       "50%       72.000000         9.000000     26.800000             65.000000\n",
       "75%       83.000000        14.000000     30.900000             82.000000\n",
       "max       94.000000        19.000000     35.000000             99.000000"
      ]
     },
     "execution_count": 58,
     "metadata": {},
     "output_type": "execute_result"
    }
   ],
   "source": [
    "df.describe()"
   ]
  },
  {
   "cell_type": "code",
   "execution_count": null,
   "metadata": {},
   "outputs": [
    {
     "name": "stdout",
     "output_type": "stream",
     "text": [
      "Alzheimer’s Diagnosis\n",
      "No     43570\n",
      "Yes    30713\n",
      "Name: count, dtype: int64\n"
     ]
    }
   ],
   "source": [
    "print(df['Alzheimer’s Diagnosis'].value_counts())\n"
   ]
  },
  {
   "cell_type": "code",
   "execution_count": 4,
   "metadata": {},
   "outputs": [
    {
     "data": {
      "image/png": "[encoded data removed]",
      "text/plain": [
       "<Figure size 640x480 with 1 Axes>"
      ]
     },
     "metadata": {},
     "output_type": "display_data"
    }
   ],
   "source": [
    "sns.countplot(x=df['Alzheimer’s Diagnosis'])\n",
    "plt.title('Diagnóstico de Alzheimer')\n",
    "plt.xlabel('Diagnóstico (0: No Alzheimer, 1: Alzheimer)')\n",
    "plt.ylabel('Cantidad de Pacientes')\n",
    "plt.show()"
   ]
  },
  {
   "cell_type": "markdown",
   "metadata": {},
   "source": [
    "## 2. Limpieza y preprocesamiento\n",
    "Nuestro dataset tiene tanto variables categóricas como variables numericas, debido a esto es necesario aplicar un preprocesamiento de la data"
   ]
  },
  {
   "cell_type": "markdown",
   "metadata": {},
   "source": [
    "### 2.1 Conversión de variables categóricas\n",
    "\n",
    "En este paso vamos a convertir esta variables categoricas a valores numerico que pueda entender la computadora. "
   ]
  },
  {
   "cell_type": "code",
   "execution_count": 6,
   "metadata": {},
   "outputs": [
    {
     "name": "stdout",
     "output_type": "stream",
     "text": [
      "<class 'pandas.core.frame.DataFrame'>\n",
      "RangeIndex: 74283 entries, 0 to 74282\n",
      "Data columns (total 25 columns):\n",
      " #   Column                                Non-Null Count  Dtype  \n",
      "---  ------                                --------------  -----  \n",
      " 0   Country                               74283 non-null  object \n",
      " 1   Age                                   74283 non-null  int64  \n",
      " 2   Gender                                74283 non-null  object \n",
      " 3   Education Level                       74283 non-null  int64  \n",
      " 4   BMI                                   74283 non-null  float64\n",
      " 5   Physical Activity Level               74283 non-null  object \n",
      " 6   Smoking Status                        74283 non-null  object \n",
      " 7   Alcohol Consumption                   74283 non-null  object \n",
      " 8   Diabetes                              74283 non-null  object \n",
      " 9   Hypertension                          74283 non-null  object \n",
      " 10  Cholesterol Level                     74283 non-null  object \n",
      " 11  Family History of Alzheimer’s         74283 non-null  object \n",
      " 12  Cognitive Test Score                  74283 non-null  int64  \n",
      " 13  Depression Level                      74283 non-null  object \n",
      " 14  Sleep Quality                         74283 non-null  object \n",
      " 15  Dietary Habits                        74283 non-null  object \n",
      " 16  Air Pollution Exposure                74283 non-null  object \n",
      " 17  Employment Status                     74283 non-null  object \n",
      " 18  Marital Status                        74283 non-null  object \n",
      " 19  Genetic Risk Factor (APOE-ε4 allele)  74283 non-null  object \n",
      " 20  Social Engagement Level               74283 non-null  object \n",
      " 21  Income Level                          74283 non-null  object \n",
      " 22  Stress Levels                         74283 non-null  object \n",
      " 23  Urban vs Rural Living                 74283 non-null  object \n",
      " 24  Alzheimer’s Diagnosis                 74283 non-null  object \n",
      "dtypes: float64(1), int64(3), object(21)\n",
      "memory usage: 14.2+ MB\n"
     ]
    }
   ],
   "source": [
    "df.info()"
   ]
  },
  {
   "cell_type": "code",
   "execution_count": 7,
   "metadata": {},
   "outputs": [
    {
     "name": "stdout",
     "output_type": "stream",
     "text": [
      "Index(['Country', 'Age', 'Gender', 'Education Level', 'BMI',\n",
      "       'Physical Activity Level', 'Smoking Status', 'Alcohol Consumption',\n",
      "       'Diabetes', 'Hypertension', 'Cholesterol Level',\n",
      "       'Family History of Alzheimer’s', 'Cognitive Test Score',\n",
      "       'Depression Level', 'Sleep Quality', 'Dietary Habits',\n",
      "       'Air Pollution Exposure', 'Employment Status', 'Marital Status',\n",
      "       'Genetic Risk Factor (APOE-ε4 allele)', 'Social Engagement Level',\n",
      "       'Income Level', 'Stress Levels', 'Urban vs Rural Living',\n",
      "       'Alzheimer’s Diagnosis'],\n",
      "      dtype='object')\n"
     ]
    },
    {
     "data": {
      "text/plain": [
       "' print(\"Country\\n\",df[\\'Country\\'].unique())\\nprint(\"\\nEducation Level\\n\",df[\\'Education Level\\'].unique())\\nprint(\"\\nPhysical Activity Level\\n\", df[\\'Physical Activity Level\\'].unique())\\nprint(\"\\nSmoking Status\\n\", df[\\'Smoking Status\\'].unique())\\nprint(\"\\nAlcohol Consumption\\n\", df[\\'Alcohol Consumption\\'].unique())\\nprint(\"\\nDiabetes\\n\", df[\\'Diabetes\\'].unique())\\nprint(\"\\nHypertension\\n\", df[\\'Hypertension\\'].unique())\\nprint(\"\\nCholesterol Level\\n\", df[\\'Cholesterol Level\\'].unique())\\nprint(\"\\nFamily History of Alzheimer’s\\n\", df[\\'Family History of Alzheimer’s\\'].unique())\\nprint(\"\\nDepression Level\\n\", df[\\'Depression Level\\'].unique())\\nprint(\"\\nSleep Quality\\n\", df[\\'Sleep Quality\\'].unique())\\nprint(\"\\nDietary Habits\\n\", df[\\'Dietary Habits\\'].unique())\\nprint(\"\\nAir Pollution Exposure\\n\", df[\\'Air Pollution Exposure\\'].unique())\\nprint(\"\\nEmployment Status\\n\", df[\\'Employment Status\\'].unique())\\nprint(\"\\nMarital Status\\n\", df[\\'Marital Status\\'].unique())\\nprint(\"\\nGenetic Risk Factor (APOE-ε4 allele)\\n\", df[\\'Genetic Risk Factor (APOE-ε4 allele)\\'].unique())\\nprint(\"\\nSocial Engagement Level\\n\", df[\\'Social Engagement Level\\'].unique())\\nprint(\"\\nIncome Level\\n\", df[\\'Income Level\\'].unique())\\nprint(\"\\nStress Levels\\n\", df[\\'Stress Levels\\'].unique())\\nprint(\"\\nUrban vs Rural Living\\n\", df[\\'Urban vs Rural Living\\'].unique())\\n '"
      ]
     },
     "execution_count": 7,
     "metadata": {},
     "output_type": "execute_result"
    }
   ],
   "source": [
    "\n",
    "print(df.columns)\n",
    "\n",
    "\"\"\" print(\"Country\\n\",df['Country'].unique())\n",
    "print(\"\\nEducation Level\\n\",df['Education Level'].unique())\n",
    "print(\"\\nPhysical Activity Level\\n\", df['Physical Activity Level'].unique())\n",
    "print(\"\\nSmoking Status\\n\", df['Smoking Status'].unique())\n",
    "print(\"\\nAlcohol Consumption\\n\", df['Alcohol Consumption'].unique())\n",
    "print(\"\\nDiabetes\\n\", df['Diabetes'].unique())\n",
    "print(\"\\nHypertension\\n\", df['Hypertension'].unique())\n",
    "print(\"\\nCholesterol Level\\n\", df['Cholesterol Level'].unique())\n",
    "print(\"\\nFamily History of Alzheimer’s\\n\", df['Family History of Alzheimer’s'].unique())\n",
    "print(\"\\nDepression Level\\n\", df['Depression Level'].unique())\n",
    "print(\"\\nSleep Quality\\n\", df['Sleep Quality'].unique())\n",
    "print(\"\\nDietary Habits\\n\", df['Dietary Habits'].unique())\n",
    "print(\"\\nAir Pollution Exposure\\n\", df['Air Pollution Exposure'].unique())\n",
    "print(\"\\nEmployment Status\\n\", df['Employment Status'].unique())\n",
    "print(\"\\nMarital Status\\n\", df['Marital Status'].unique())\n",
    "print(\"\\nGenetic Risk Factor (APOE-ε4 allele)\\n\", df['Genetic Risk Factor (APOE-ε4 allele)'].unique())\n",
    "print(\"\\nSocial Engagement Level\\n\", df['Social Engagement Level'].unique())\n",
    "print(\"\\nIncome Level\\n\", df['Income Level'].unique())\n",
    "print(\"\\nStress Levels\\n\", df['Stress Levels'].unique())\n",
    "print(\"\\nUrban vs Rural Living\\n\", df['Urban vs Rural Living'].unique())\n",
    " \"\"\""
   ]
  },
  {
   "cell_type": "code",
   "execution_count": 25,
   "metadata": {},
   "outputs": [
    {
     "data": {
      "text/html": [
       "<div>\n",
       "<style scoped>\n",
       "    .dataframe tbody tr th:only-of-type {\n",
       "        vertical-align: middle;\n",
       "    }\n",
       "\n",
       "    .dataframe tbody tr th {\n",
       "        vertical-align: top;\n",
       "    }\n",
       "\n",
       "    .dataframe thead th {\n",
       "        text-align: right;\n",
       "    }\n",
       "</style>\n",
       "<table border=\"1\" class=\"dataframe\">\n",
       "  <thead>\n",
       "    <tr style=\"text-align: right;\">\n",
       "      <th></th>\n",
       "      <th>Country</th>\n",
       "      <th>Age</th>\n",
       "      <th>Education Level</th>\n",
       "      <th>BMI</th>\n",
       "      <th>Physical Activity Level</th>\n",
       "      <th>Smoking Status</th>\n",
       "      <th>Alcohol Consumption</th>\n",
       "      <th>Cholesterol Level</th>\n",
       "      <th>Family History of Alzheimer’s</th>\n",
       "      <th>Cognitive Test Score</th>\n",
       "      <th>...</th>\n",
       "      <th>Stress Levels</th>\n",
       "      <th>Alzheimer’s Diagnosis</th>\n",
       "      <th>Gender_Male</th>\n",
       "      <th>Diabetes_Yes</th>\n",
       "      <th>Hypertension_Yes</th>\n",
       "      <th>Employment Status_Retired</th>\n",
       "      <th>Employment Status_Unemployed</th>\n",
       "      <th>Marital Status_Single</th>\n",
       "      <th>Marital Status_Widowed</th>\n",
       "      <th>Urban vs Rural Living_Urban</th>\n",
       "    </tr>\n",
       "  </thead>\n",
       "  <tbody>\n",
       "    <tr>\n",
       "      <th>0</th>\n",
       "      <td>0.399946</td>\n",
       "      <td>90</td>\n",
       "      <td>1</td>\n",
       "      <td>33.0</td>\n",
       "      <td>1</td>\n",
       "      <td>0</td>\n",
       "      <td>1</td>\n",
       "      <td>0</td>\n",
       "      <td>0</td>\n",
       "      <td>90</td>\n",
       "      <td>...</td>\n",
       "      <td>2</td>\n",
       "      <td>0</td>\n",
       "      <td>True</td>\n",
       "      <td>False</td>\n",
       "      <td>False</td>\n",
       "      <td>True</td>\n",
       "      <td>False</td>\n",
       "      <td>True</td>\n",
       "      <td>False</td>\n",
       "      <td>True</td>\n",
       "    </tr>\n",
       "    <tr>\n",
       "      <th>1</th>\n",
       "      <td>0.402037</td>\n",
       "      <td>72</td>\n",
       "      <td>7</td>\n",
       "      <td>29.9</td>\n",
       "      <td>1</td>\n",
       "      <td>1</td>\n",
       "      <td>0</td>\n",
       "      <td>0</td>\n",
       "      <td>0</td>\n",
       "      <td>65</td>\n",
       "      <td>...</td>\n",
       "      <td>2</td>\n",
       "      <td>0</td>\n",
       "      <td>True</td>\n",
       "      <td>False</td>\n",
       "      <td>False</td>\n",
       "      <td>False</td>\n",
       "      <td>True</td>\n",
       "      <td>False</td>\n",
       "      <td>True</td>\n",
       "      <td>True</td>\n",
       "    </tr>\n",
       "    <tr>\n",
       "      <th>2</th>\n",
       "      <td>0.495213</td>\n",
       "      <td>86</td>\n",
       "      <td>19</td>\n",
       "      <td>22.9</td>\n",
       "      <td>2</td>\n",
       "      <td>2</td>\n",
       "      <td>1</td>\n",
       "      <td>0</td>\n",
       "      <td>0</td>\n",
       "      <td>43</td>\n",
       "      <td>...</td>\n",
       "      <td>2</td>\n",
       "      <td>0</td>\n",
       "      <td>False</td>\n",
       "      <td>False</td>\n",
       "      <td>True</td>\n",
       "      <td>False</td>\n",
       "      <td>False</td>\n",
       "      <td>True</td>\n",
       "      <td>False</td>\n",
       "      <td>False</td>\n",
       "    </tr>\n",
       "    <tr>\n",
       "      <th>3</th>\n",
       "      <td>0.386414</td>\n",
       "      <td>53</td>\n",
       "      <td>17</td>\n",
       "      <td>31.2</td>\n",
       "      <td>0</td>\n",
       "      <td>0</td>\n",
       "      <td>2</td>\n",
       "      <td>0</td>\n",
       "      <td>0</td>\n",
       "      <td>81</td>\n",
       "      <td>...</td>\n",
       "      <td>0</td>\n",
       "      <td>0</td>\n",
       "      <td>True</td>\n",
       "      <td>True</td>\n",
       "      <td>False</td>\n",
       "      <td>True</td>\n",
       "      <td>False</td>\n",
       "      <td>True</td>\n",
       "      <td>False</td>\n",
       "      <td>False</td>\n",
       "    </tr>\n",
       "    <tr>\n",
       "      <th>4</th>\n",
       "      <td>0.342098</td>\n",
       "      <td>58</td>\n",
       "      <td>3</td>\n",
       "      <td>30.0</td>\n",
       "      <td>2</td>\n",
       "      <td>1</td>\n",
       "      <td>0</td>\n",
       "      <td>0</td>\n",
       "      <td>0</td>\n",
       "      <td>49</td>\n",
       "      <td>...</td>\n",
       "      <td>2</td>\n",
       "      <td>0</td>\n",
       "      <td>False</td>\n",
       "      <td>True</td>\n",
       "      <td>False</td>\n",
       "      <td>False</td>\n",
       "      <td>False</td>\n",
       "      <td>False</td>\n",
       "      <td>False</td>\n",
       "      <td>False</td>\n",
       "    </tr>\n",
       "  </tbody>\n",
       "</table>\n",
       "<p>5 rows × 27 columns</p>\n",
       "</div>"
      ],
      "text/plain": [
       "    Country  Age  Education Level   BMI  Physical Activity Level  \\\n",
       "0  0.399946   90                1  33.0                        1   \n",
       "1  0.402037   72                7  29.9                        1   \n",
       "2  0.495213   86               19  22.9                        2   \n",
       "3  0.386414   53               17  31.2                        0   \n",
       "4  0.342098   58                3  30.0                        2   \n",
       "\n",
       "   Smoking Status  Alcohol Consumption  Cholesterol Level  \\\n",
       "0               0                    1                  0   \n",
       "1               1                    0                  0   \n",
       "2               2                    1                  0   \n",
       "3               0                    2                  0   \n",
       "4               1                    0                  0   \n",
       "\n",
       "   Family History of Alzheimer’s  Cognitive Test Score  ...  Stress Levels  \\\n",
       "0                              0                    90  ...              2   \n",
       "1                              0                    65  ...              2   \n",
       "2                              0                    43  ...              2   \n",
       "3                              0                    81  ...              0   \n",
       "4                              0                    49  ...              2   \n",
       "\n",
       "   Alzheimer’s Diagnosis  Gender_Male  Diabetes_Yes  Hypertension_Yes  \\\n",
       "0                      0         True         False             False   \n",
       "1                      0         True         False             False   \n",
       "2                      0        False         False              True   \n",
       "3                      0         True          True             False   \n",
       "4                      0        False          True             False   \n",
       "\n",
       "   Employment Status_Retired  Employment Status_Unemployed  \\\n",
       "0                       True                         False   \n",
       "1                      False                          True   \n",
       "2                      False                         False   \n",
       "3                       True                         False   \n",
       "4                      False                         False   \n",
       "\n",
       "   Marital Status_Single  Marital Status_Widowed  Urban vs Rural Living_Urban  \n",
       "0                   True                   False                         True  \n",
       "1                  False                    True                         True  \n",
       "2                   True                   False                        False  \n",
       "3                   True                   False                        False  \n",
       "4                  False                   False                        False  \n",
       "\n",
       "[5 rows x 27 columns]"
      ]
     },
     "execution_count": 25,
     "metadata": {},
     "output_type": "execute_result"
    }
   ],
   "source": [
    "#Variables categóricas Nominales (Sin orden específico)\n",
    "#One-Hot Encoding: Para variables con pocas categorías\n",
    "\n",
    "cols=['Gender','Diabetes','Hypertension','Employment Status','Marital Status','Urban vs Rural Living']\n",
    "df = pd.get_dummies(df, columns=cols, drop_first=True)\n",
    "\n",
    "\n",
    "# Variables categiricas Ordinales (Orden específico)\n",
    "df['Cholesterol Level'] = df['Cholesterol Level'].map({'Normal': 0, 'High': 1})\n",
    "df['Family History of Alzheimer’s'] = df['Family History of Alzheimer’s'].map({'No': 0, 'Yes': 1})\n",
    "df['Genetic Risk Factor (APOE-ε4 allele)'] = df['Genetic Risk Factor (APOE-ε4 allele)'].map({'No': 0, 'Yes': 1})\n",
    "\n",
    "\n",
    "df['Physical Activity Level'] = df['Physical Activity Level'].map({'Low': 0, 'Medium': 1, 'High': 2})\n",
    "df['Smoking Status'] = df['Smoking Status'].map({'Never': 0, 'Former': 1, 'Current': 2})\n",
    "df['Alcohol Consumption'] = df['Alcohol Consumption'].map({'Never': 0, 'Occasionally': 1, 'Regularly': 2})\n",
    "df['Depression Level'] = df['Depression Level'].map({'Low': 0, 'Medium': 1, 'High': 2})\n",
    "df['Sleep Quality'] = df['Sleep Quality'].map({'Poor': 0, 'Average': 1, 'Good': 2})\n",
    "df['Dietary Habits'] = df['Dietary Habits'].map({'Unhealthy': 0, 'Average': 1, 'Healthy': 2})\n",
    "df['Air Pollution Exposure'] = df['Air Pollution Exposure'].map({ 'Low':0 ,'Medium':1,'High':2})\n",
    "df['Social Engagement Level'] = df['Social Engagement Level'].map({'Low': 0, 'Medium': 1, 'High': 2})\n",
    "df['Stress Levels'] = df['Stress Levels'].map({'Low': 0, 'Medium': 1, 'High': 2})\n",
    "df['Income Level'] = df['Income Level'].map({'Low': 0, 'Medium': 1, 'High': 2})\n",
    "\n",
    "# Clonaremos la data actual en otro espacio de memoría\n",
    "df2 = df.copy(deep=1)\n",
    "\n",
    "# Aplicar Target Encoding a 'Country' \n",
    "df['Alzheimer’s Diagnosis'] = df['Alzheimer’s Diagnosis'].map({'No': 0, 'Yes': 1}) #¡Target de la data!\n",
    "target_enc = TargetEncoder()\n",
    "df['Country'] = target_enc.fit_transform(df['Country'],df['Alzheimer’s Diagnosis'])\n",
    "\n",
    "df.head()"
   ]
  },
  {
   "cell_type": "code",
   "execution_count": 9,
   "metadata": {},
   "outputs": [
    {
     "name": "stdout",
     "output_type": "stream",
     "text": [
      "<class 'pandas.core.frame.DataFrame'>\n",
      "RangeIndex: 74283 entries, 0 to 74282\n",
      "Data columns (total 27 columns):\n",
      " #   Column                                Non-Null Count  Dtype  \n",
      "---  ------                                --------------  -----  \n",
      " 0   Country                               74283 non-null  float64\n",
      " 1   Age                                   74283 non-null  int64  \n",
      " 2   Education Level                       74283 non-null  int64  \n",
      " 3   BMI                                   74283 non-null  float64\n",
      " 4   Physical Activity Level               74283 non-null  int64  \n",
      " 5   Smoking Status                        74283 non-null  int64  \n",
      " 6   Alcohol Consumption                   74283 non-null  int64  \n",
      " 7   Cholesterol Level                     74283 non-null  int64  \n",
      " 8   Family History of Alzheimer’s         74283 non-null  int64  \n",
      " 9   Cognitive Test Score                  74283 non-null  int64  \n",
      " 10  Depression Level                      74283 non-null  int64  \n",
      " 11  Sleep Quality                         74283 non-null  int64  \n",
      " 12  Dietary Habits                        74283 non-null  int64  \n",
      " 13  Air Pollution Exposure                74283 non-null  int64  \n",
      " 14  Genetic Risk Factor (APOE-ε4 allele)  74283 non-null  int64  \n",
      " 15  Social Engagement Level               74283 non-null  int64  \n",
      " 16  Income Level                          74283 non-null  int64  \n",
      " 17  Stress Levels                         74283 non-null  int64  \n",
      " 18  Alzheimer’s Diagnosis                 74283 non-null  int64  \n",
      " 19  Gender_Male                           74283 non-null  bool   \n",
      " 20  Diabetes_Yes                          74283 non-null  bool   \n",
      " 21  Hypertension_Yes                      74283 non-null  bool   \n",
      " 22  Employment Status_Retired             74283 non-null  bool   \n",
      " 23  Employment Status_Unemployed          74283 non-null  bool   \n",
      " 24  Marital Status_Single                 74283 non-null  bool   \n",
      " 25  Marital Status_Widowed                74283 non-null  bool   \n",
      " 26  Urban vs Rural Living_Urban           74283 non-null  bool   \n",
      "dtypes: bool(8), float64(2), int64(17)\n",
      "memory usage: 11.3 MB\n"
     ]
    }
   ],
   "source": [
    "df.info()"
   ]
  },
  {
   "cell_type": "markdown",
   "metadata": {},
   "source": [
    "### 2.2. Normalización de variables numéricas"
   ]
  },
  {
   "cell_type": "code",
   "execution_count": 26,
   "metadata": {},
   "outputs": [],
   "source": [
    "from sklearn.preprocessing import StandardScaler, MinMaxScaler\n",
    "from sklearn.preprocessing import StandardScaler, MinMaxScaler\n",
    "#scaler = MinMaxScaler()\n",
    "scaler = StandardScaler()\n",
    "df_N = df.copy()\n",
    "\n",
    "\n",
    "df_N[[\t'Age','Education Level','BMI','Physical Activity Level','Smoking Status','Alcohol Consumption','Cognitive Test Score','Depression Level',\n",
    "                 'Sleep Quality','Dietary Habits','Air Pollution Exposure','Social Engagement Level',\n",
    "                 'Stress Levels','Income Level']] = scaler.fit_transform(df[['Age','Education Level','BMI','Physical Activity Level',\n",
    "                 'Smoking Status','Alcohol Consumption','Cognitive Test Score','Depression Level','Sleep Quality',\n",
    "                 'Dietary Habits','Air Pollution Exposure','Social Engagement Level','Stress Levels',\n",
    "                 'Income Level']])\n",
    "\n"
   ]
  },
  {
   "cell_type": "markdown",
   "metadata": {},
   "source": [
    "## 3. Análisis Exploratorio"
   ]
  },
  {
   "cell_type": "markdown",
   "metadata": {},
   "source": [
    "### 3.1. Visualización de correlaciones"
   ]
  },
  {
   "cell_type": "code",
   "execution_count": 8,
   "metadata": {},
   "outputs": [
    {
     "data": {
      "application/vnd.plotly.v1+json": {
       "config": {
        "plotlyServerURL": "https://plot.ly"
       },
       "data": [
        {
         "coloraxis": "coloraxis",
         "hovertemplate": "x: %{x}<br>y: %{y}<br>color: %{z}<extra></extra>",
         "name": "0",
         "texttemplate": "%{z}",
         "type": "heatmap",
         "x": [
          "Country",
          "Age",
          "Education Level",
          "BMI",
          "Physical Activity Level",
          "Smoking Status",
          "Alcohol Consumption",
          "Cholesterol Level",
          "Family History of Alzheimer’s",
          "Cognitive Test Score",
          "Depression Level",
          "Sleep Quality",
          "Dietary Habits",
          "Air Pollution Exposure",
          "Genetic Risk Factor (APOE-ε4 allele)",
          "Social Engagement Level",
          "Income Level",
          "Stress Levels",
          "Alzheimer’s Diagnosis",
          "Gender_Male",
          "Diabetes_Yes",
          "Hypertension_Yes",
          "Employment Status_Retired",
          "Employment Status_Unemployed",
          "Marital Status_Single",
          "Marital Status_Widowed",
          "Urban vs Rural Living_Urban"
         ],
         "xaxis": "x",
         "y": [
          "Country",
          "Age",
          "Education Level",
          "BMI",
          "Physical Activity Level",
          "Smoking Status",
          "Alcohol Consumption",
          "Cholesterol Level",
          "Family History of Alzheimer’s",
          "Cognitive Test Score",
          "Depression Level",
          "Sleep Quality",
          "Dietary Habits",
          "Air Pollution Exposure",
          "Genetic Risk Factor (APOE-ε4 allele)",
          "Social Engagement Level",
          "Income Level",
          "Stress Levels",
          "Alzheimer’s Diagnosis",
          "Gender_Male",
          "Diabetes_Yes",
          "Hypertension_Yes",
          "Employment Status_Retired",
          "Employment Status_Unemployed",
          "Marital Status_Single",
          "Marital Status_Widowed",
          "Urban vs Rural Living_Urban"
         ],
         "yaxis": "y",
         "z": {
          "bdata": "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",
          "dtype": "f8",
          "shape": "27, 27"
         }
        }
       ],
       "layout": {
        "coloraxis": {
         "colorscale": [
          [
           0,
           "rgb(254, 245, 244)"
          ],
          [
           0.09090909090909091,
           "rgb(222, 224, 210)"
          ],
          [
           0.18181818181818182,
           "rgb(189, 206, 181)"
          ],
          [
           0.2727272727272727,
           "rgb(153, 189, 156)"
          ],
          [
           0.36363636363636365,
           "rgb(110, 173, 138)"
          ],
          [
           0.45454545454545453,
           "rgb(65, 157, 129)"
          ],
          [
           0.5454545454545454,
           "rgb(25, 137, 125)"
          ],
          [
           0.6363636363636364,
           "rgb(18, 116, 117)"
          ],
          [
           0.7272727272727273,
           "rgb(25, 94, 106)"
          ],
          [
           0.8181818181818182,
           "rgb(28, 72, 93)"
          ],
          [
           0.9090909090909091,
           "rgb(25, 51, 80)"
          ],
          [
           1,
           "rgb(20, 29, 67)"
          ]
         ]
        },
        "height": 1260,
        "template": {
         "data": {
          "bar": [
           {
            "error_x": {
             "color": "#f2f5fa"
            },
            "error_y": {
             "color": "#f2f5fa"
            },
            "marker": {
             "line": {
              "color": "rgb(17,17,17)",
              "width": 0.5
             },
             "pattern": {
              "fillmode": "overlay",
              "size": 10,
              "solidity": 0.2
             }
            },
            "type": "bar"
           }
          ],
          "barpolar": [
           {
            "marker": {
             "line": {
              "color": "rgb(17,17,17)",
              "width": 0.5
             },
             "pattern": {
              "fillmode": "overlay",
              "size": 10,
              "solidity": 0.2
             }
            },
            "type": "barpolar"
           }
          ],
          "carpet": [
           {
            "aaxis": {
             "endlinecolor": "#A2B1C6",
             "gridcolor": "#506784",
             "linecolor": "#506784",
             "minorgridcolor": "#506784",
             "startlinecolor": "#A2B1C6"
            },
            "baxis": {
             "endlinecolor": "#A2B1C6",
             "gridcolor": "#506784",
             "linecolor": "#506784",
             "minorgridcolor": "#506784",
             "startlinecolor": "#A2B1C6"
            },
            "type": "carpet"
           }
          ],
          "choropleth": [
           {
            "colorbar": {
             "outlinewidth": 0,
             "ticks": ""
            },
            "type": "choropleth"
           }
          ],
          "contour": [
           {
            "colorbar": {
             "outlinewidth": 0,
             "ticks": ""
            },
            "colorscale": [
             [
              0,
              "#0d0887"
             ],
             [
              0.1111111111111111,
              "#46039f"
             ],
             [
              0.2222222222222222,
              "#7201a8"
             ],
             [
              0.3333333333333333,
              "#9c179e"
             ],
             [
              0.4444444444444444,
              "#bd3786"
             ],
             [
              0.5555555555555556,
              "#d8576b"
             ],
             [
              0.6666666666666666,
              "#ed7953"
             ],
             [
              0.7777777777777778,
              "#fb9f3a"
             ],
             [
              0.8888888888888888,
              "#fdca26"
             ],
             [
              1,
              "#f0f921"
             ]
            ],
            "type": "contour"
           }
          ],
          "contourcarpet": [
           {
            "colorbar": {
             "outlinewidth": 0,
             "ticks": ""
            },
            "type": "contourcarpet"
           }
          ],
          "heatmap": [
           {
            "colorbar": {
             "outlinewidth": 0,
             "ticks": ""
            },
            "colorscale": [
             [
              0,
              "#0d0887"
             ],
             [
              0.1111111111111111,
              "#46039f"
             ],
             [
              0.2222222222222222,
              "#7201a8"
             ],
             [
              0.3333333333333333,
              "#9c179e"
             ],
             [
              0.4444444444444444,
              "#bd3786"
             ],
             [
              0.5555555555555556,
              "#d8576b"
             ],
             [
              0.6666666666666666,
              "#ed7953"
             ],
             [
              0.7777777777777778,
              "#fb9f3a"
             ],
             [
              0.8888888888888888,
              "#fdca26"
             ],
             [
              1,
              "#f0f921"
             ]
            ],
            "type": "heatmap"
           }
          ],
          "histogram": [
           {
            "marker": {
             "pattern": {
              "fillmode": "overlay",
              "size": 10,
              "solidity": 0.2
             }
            },
            "type": "histogram"
           }
          ],
          "histogram2d": [
           {
            "colorbar": {
             "outlinewidth": 0,
             "ticks": ""
            },
            "colorscale": [
             [
              0,
              "#0d0887"
             ],
             [
              0.1111111111111111,
              "#46039f"
             ],
             [
              0.2222222222222222,
              "#7201a8"
             ],
             [
              0.3333333333333333,
              "#9c179e"
             ],
             [
              0.4444444444444444,
              "#bd3786"
             ],
             [
              0.5555555555555556,
              "#d8576b"
             ],
             [
              0.6666666666666666,
              "#ed7953"
             ],
             [
              0.7777777777777778,
              "#fb9f3a"
             ],
             [
              0.8888888888888888,
              "#fdca26"
             ],
             [
              1,
              "#f0f921"
             ]
            ],
            "type": "histogram2d"
           }
          ],
          "histogram2dcontour": [
           {
            "colorbar": {
             "outlinewidth": 0,
             "ticks": ""
            },
            "colorscale": [
             [
              0,
              "#0d0887"
             ],
             [
              0.1111111111111111,
              "#46039f"
             ],
             [
              0.2222222222222222,
              "#7201a8"
             ],
             [
              0.3333333333333333,
              "#9c179e"
             ],
             [
              0.4444444444444444,
              "#bd3786"
             ],
             [
              0.5555555555555556,
              "#d8576b"
             ],
             [
              0.6666666666666666,
              "#ed7953"
             ],
             [
              0.7777777777777778,
              "#fb9f3a"
             ],
             [
              0.8888888888888888,
              "#fdca26"
             ],
             [
              1,
              "#f0f921"
             ]
            ],
            "type": "histogram2dcontour"
           }
          ],
          "mesh3d": [
           {
            "colorbar": {
             "outlinewidth": 0,
             "ticks": ""
            },
            "type": "mesh3d"
           }
          ],
          "parcoords": [
           {
            "line": {
             "colorbar": {
              "outlinewidth": 0,
              "ticks": ""
             }
            },
            "type": "parcoords"
           }
          ],
          "pie": [
           {
            "automargin": true,
            "type": "pie"
           }
          ],
          "scatter": [
           {
            "marker": {
             "line": {
              "color": "#283442"
             }
            },
            "type": "scatter"
           }
          ],
          "scatter3d": [
           {
            "line": {
             "colorbar": {
              "outlinewidth": 0,
              "ticks": ""
             }
            },
            "marker": {
             "colorbar": {
              "outlinewidth": 0,
              "ticks": ""
             }
            },
            "type": "scatter3d"
           }
          ],
          "scattercarpet": [
           {
            "marker": {
             "colorbar": {
              "outlinewidth": 0,
              "ticks": ""
             }
            },
            "type": "scattercarpet"
           }
          ],
          "scattergeo": [
           {
            "marker": {
             "colorbar": {
              "outlinewidth": 0,
              "ticks": ""
             }
            },
            "type": "scattergeo"
           }
          ],
          "scattergl": [
           {
            "marker": {
             "line": {
              "color": "#283442"
             }
            },
            "type": "scattergl"
           }
          ],
          "scattermap": [
           {
            "marker": {
             "colorbar": {
              "outlinewidth": 0,
              "ticks": ""
             }
            },
            "type": "scattermap"
           }
          ],
          "scattermapbox": [
           {
            "marker": {
             "colorbar": {
              "outlinewidth": 0,
              "ticks": ""
             }
            },
            "type": "scattermapbox"
           }
          ],
          "scatterpolar": [
           {
            "marker": {
             "colorbar": {
              "outlinewidth": 0,
              "ticks": ""
             }
            },
            "type": "scatterpolar"
           }
          ],
          "scatterpolargl": [
           {
            "marker": {
             "colorbar": {
              "outlinewidth": 0,
              "ticks": ""
             }
            },
            "type": "scatterpolargl"
           }
          ],
          "scatterternary": [
           {
            "marker": {
             "colorbar": {
              "outlinewidth": 0,
              "ticks": ""
             }
            },
            "type": "scatterternary"
           }
          ],
          "surface": [
           {
            "colorbar": {
             "outlinewidth": 0,
             "ticks": ""
            },
            "colorscale": [
             [
              0,
              "#0d0887"
             ],
             [
              0.1111111111111111,
              "#46039f"
             ],
             [
              0.2222222222222222,
              "#7201a8"
             ],
             [
              0.3333333333333333,
              "#9c179e"
             ],
             [
              0.4444444444444444,
              "#bd3786"
             ],
             [
              0.5555555555555556,
              "#d8576b"
             ],
             [
              0.6666666666666666,
              "#ed7953"
             ],
             [
              0.7777777777777778,
              "#fb9f3a"
             ],
             [
              0.8888888888888888,
              "#fdca26"
             ],
             [
              1,
              "#f0f921"
             ]
            ],
            "type": "surface"
           }
          ],
          "table": [
           {
            "cells": {
             "fill": {
              "color": "#506784"
             },
             "line": {
              "color": "rgb(17,17,17)"
             }
            },
            "header": {
             "fill": {
              "color": "#2a3f5f"
             },
             "line": {
              "color": "rgb(17,17,17)"
             }
            },
            "type": "table"
           }
          ]
         },
         "layout": {
          "annotationdefaults": {
           "arrowcolor": "#f2f5fa",
           "arrowhead": 0,
           "arrowwidth": 1
          },
          "autotypenumbers": "strict",
          "coloraxis": {
           "colorbar": {
            "outlinewidth": 0,
            "ticks": ""
           }
          },
          "colorscale": {
           "diverging": [
            [
             0,
             "#8e0152"
            ],
            [
             0.1,
             "#c51b7d"
            ],
            [
             0.2,
             "#de77ae"
            ],
            [
             0.3,
             "#f1b6da"
            ],
            [
             0.4,
             "#fde0ef"
            ],
            [
             0.5,
             "#f7f7f7"
            ],
            [
             0.6,
             "#e6f5d0"
            ],
            [
             0.7,
             "#b8e186"
            ],
            [
             0.8,
             "#7fbc41"
            ],
            [
             0.9,
             "#4d9221"
            ],
            [
             1,
             "#276419"
            ]
           ],
           "sequential": [
            [
             0,
             "#0d0887"
            ],
            [
             0.1111111111111111,
             "#46039f"
            ],
            [
             0.2222222222222222,
             "#7201a8"
            ],
            [
             0.3333333333333333,
             "#9c179e"
            ],
            [
             0.4444444444444444,
             "#bd3786"
            ],
            [
             0.5555555555555556,
             "#d8576b"
            ],
            [
             0.6666666666666666,
             "#ed7953"
            ],
            [
             0.7777777777777778,
             "#fb9f3a"
            ],
            [
             0.8888888888888888,
             "#fdca26"
            ],
            [
             1,
             "#f0f921"
            ]
           ],
           "sequentialminus": [
            [
             0,
             "#0d0887"
            ],
            [
             0.1111111111111111,
             "#46039f"
            ],
            [
             0.2222222222222222,
             "#7201a8"
            ],
            [
             0.3333333333333333,
             "#9c179e"
            ],
            [
             0.4444444444444444,
             "#bd3786"
            ],
            [
             0.5555555555555556,
             "#d8576b"
            ],
            [
             0.6666666666666666,
             "#ed7953"
            ],
            [
             0.7777777777777778,
             "#fb9f3a"
            ],
            [
             0.8888888888888888,
             "#fdca26"
            ],
            [
             1,
             "#f0f921"
            ]
           ]
          },
          "colorway": [
           "#636efa",
           "#EF553B",
           "#00cc96",
           "#ab63fa",
           "#FFA15A",
           "#19d3f3",
           "#FF6692",
           "#B6E880",
           "#FF97FF",
           "#FECB52"
          ],
          "font": {
           "color": "#f2f5fa"
          },
          "geo": {
           "bgcolor": "rgb(17,17,17)",
           "lakecolor": "rgb(17,17,17)",
           "landcolor": "rgb(17,17,17)",
           "showlakes": true,
           "showland": true,
           "subunitcolor": "#506784"
          },
          "hoverlabel": {
           "align": "left"
          },
          "hovermode": "closest",
          "mapbox": {
           "style": "dark"
          },
          "paper_bgcolor": "rgb(17,17,17)",
          "plot_bgcolor": "rgb(17,17,17)",
          "polar": {
           "angularaxis": {
            "gridcolor": "#506784",
            "linecolor": "#506784",
            "ticks": ""
           },
           "bgcolor": "rgb(17,17,17)",
           "radialaxis": {
            "gridcolor": "#506784",
            "linecolor": "#506784",
            "ticks": ""
           }
          },
          "scene": {
           "xaxis": {
            "backgroundcolor": "rgb(17,17,17)",
            "gridcolor": "#506784",
            "gridwidth": 2,
            "linecolor": "#506784",
            "showbackground": true,
            "ticks": "",
            "zerolinecolor": "#C8D4E3"
           },
           "yaxis": {
            "backgroundcolor": "rgb(17,17,17)",
            "gridcolor": "#506784",
            "gridwidth": 2,
            "linecolor": "#506784",
            "showbackground": true,
            "ticks": "",
            "zerolinecolor": "#C8D4E3"
           },
           "zaxis": {
            "backgroundcolor": "rgb(17,17,17)",
            "gridcolor": "#506784",
            "gridwidth": 2,
            "linecolor": "#506784",
            "showbackground": true,
            "ticks": "",
            "zerolinecolor": "#C8D4E3"
           }
          },
          "shapedefaults": {
           "line": {
            "color": "#f2f5fa"
           }
          },
          "sliderdefaults": {
           "bgcolor": "#C8D4E3",
           "bordercolor": "rgb(17,17,17)",
           "borderwidth": 1,
           "tickwidth": 0
          },
          "ternary": {
           "aaxis": {
            "gridcolor": "#506784",
            "linecolor": "#506784",
            "ticks": ""
           },
           "baxis": {
            "gridcolor": "#506784",
            "linecolor": "#506784",
            "ticks": ""
           },
           "bgcolor": "rgb(17,17,17)",
           "caxis": {
            "gridcolor": "#506784",
            "linecolor": "#506784",
            "ticks": ""
           }
          },
          "title": {
           "x": 0.05
          },
          "updatemenudefaults": {
           "bgcolor": "#506784",
           "borderwidth": 0
          },
          "xaxis": {
           "automargin": true,
           "gridcolor": "#283442",
           "linecolor": "#506784",
           "ticks": "",
           "title": {
            "standoff": 15
           },
           "zerolinecolor": "#283442",
           "zerolinewidth": 2
          },
          "yaxis": {
           "automargin": true,
           "gridcolor": "#283442",
           "linecolor": "#506784",
           "ticks": "",
           "title": {
            "standoff": 15
           },
           "zerolinecolor": "#283442",
           "zerolinewidth": 2
          }
         }
        },
        "title": {
         "text": "Correlation Heatmap"
        },
        "width": 1260,
        "xaxis": {
         "anchor": "y",
         "constrain": "domain",
         "domain": [
          0,
          1
         ],
         "scaleanchor": "y"
        },
        "yaxis": {
         "anchor": "x",
         "autorange": "reversed",
         "constrain": "domain",
         "domain": [
          0,
          1
         ]
        }
       }
      }
     },
     "metadata": {},
     "output_type": "display_data"
    }
   ],
   "source": [
    "import plotly.express as px\n",
    "\n",
    "fig = px.imshow(df_N.corr(), \n",
    "                text_auto=True, \n",
    "                color_continuous_scale = \"tempo\",  \n",
    "                template='plotly_dark',\n",
    "                title=\"Correlation Heatmap\")\n",
    "fig.update_layout(\n",
    "    width=1260, \n",
    "    height=1260  \n",
    ")\n",
    "fig.show()"
   ]
  },
  {
   "cell_type": "markdown",
   "metadata": {},
   "source": [
    "## 4. Entrenamiento del Modelo"
   ]
  },
  {
   "cell_type": "code",
   "execution_count": null,
   "metadata": {},
   "outputs": [
    {
     "name": "stdout",
     "output_type": "stream",
     "text": [
      "Porcentaje de cada clase:\n",
      "Alzheimer’s Diagnosis\n",
      "0    58.654066\n",
      "1    41.345934\n",
      "Name: count, dtype: float64\n"
     ]
    }
   ],
   "source": [
    "# Calcular porcentajes de cada clase\n",
    "clase_counts = df['Alzheimer’s Diagnosis'].value_counts()\n",
    "porcentaje = (clase_counts / clase_counts.sum()) * 100\n",
    "\n",
    "print(f\"Porcentaje de cada clase:\\n{porcentaje}\")"
   ]
  },
  {
   "cell_type": "code",
   "execution_count": 9,
   "metadata": {},
   "outputs": [
    {
     "name": "stdout",
     "output_type": "stream",
     "text": [
      "\n",
      "Distribución de clases después de aplicar SMOTE:\n",
      "Alzheimer’s Diagnosis\n",
      "0    43570\n",
      "1    43570\n",
      "Name: count, dtype: int64\n"
     ]
    }
   ],
   "source": [
    "# Normalización\n",
    "scaler = StandardScaler()\n",
    "X_scaled = scaler.fit_transform(df_N.drop('Alzheimer’s Diagnosis', axis=1))\n",
    "y = df_N['Alzheimer’s Diagnosis']\n",
    "\n",
    "# Manejo del desbalanceo de clases\n",
    "smote = SMOTE(random_state=42)\n",
    "X_resampled, y_resampled = smote.fit_resample(X_scaled, y)\n",
    "\n",
    "\n",
    "print(\"\\nDistribución de clases después de aplicar SMOTE:\")\n",
    "print(y_resampled.value_counts())"
   ]
  },
  {
   "cell_type": "markdown",
   "metadata": {},
   "source": [
    "### 4.1 Modelos supervisados "
   ]
  },
  {
   "cell_type": "code",
   "execution_count": 11,
   "metadata": {},
   "outputs": [
    {
     "name": "stderr",
     "output_type": "stream",
     "text": [
      "C:\\Users\\Sheily\\AppData\\Local\\Temp\\ipykernel_9532\\3210729923.py:48: FutureWarning:\n",
      "\n",
      "\n",
      "\n",
      "Passing `palette` without assigning `hue` is deprecated and will be removed in v0.14.0. Assign the `x` variable to `hue` and set `legend=False` for the same effect.\n",
      "\n",
      "\n"
     ]
    },
    {
     "data": {
      "image/png": "[encoded data removed]",
      "text/plain": [
       "<Figure size 800x500 with 1 Axes>"
      ]
     },
     "metadata": {},
     "output_type": "display_data"
    }
   ],
   "source": [
    "\"\"\" import pandas as pd\n",
    "import matplotlib.pyplot as plt\n",
    "import seaborn as sns\n",
    "from sklearn.ensemble import RandomForestClassifier\n",
    "from sklearn.linear_model import LogisticRegression\n",
    "from xgboost import XGBClassifier\n",
    "from sklearn.model_selection import train_test_split\n",
    "from sklearn.preprocessing import StandardScaler\n",
    "from imblearn.over_sampling import SMOTE\n",
    "\n",
    "# Normalización\n",
    "scaler = StandardScaler()\n",
    "X_scaled = scaler.fit_transform(df_Normalizado.drop('Alzheimer’s Diagnosis', axis=1))\n",
    "y = df_Normalizado['Alzheimer’s Diagnosis']\n",
    "\n",
    "# Manejo del desbalanceo de clases\n",
    "smote = SMOTE(random_state=42)\n",
    "X_resampled, y_resampled = smote.fit_resample(X_scaled, y)\n",
    " \"\"\"\n",
    "# División de datos\n",
    "X_train, X_test, y_train, y_test = train_test_split(X_resampled, y_resampled, test_size=0.2, random_state=42)\n",
    "\n",
    "# Modelos con hiperparámetros ajustados\n",
    "models = {\n",
    "    \"RandomForest\": RandomForestClassifier(\n",
    "        n_estimators=1200, max_depth=40, min_samples_split=2, random_state=42\n",
    "    ),\n",
    "    \"LogisticRegression\": LogisticRegression(\n",
    "        max_iter=2500, C=4.0, solver=\"liblinear\", random_state=42\n",
    "    ),\n",
    "    \"XGBoost\": XGBClassifier(\n",
    "        n_estimators=600, learning_rate=0.05, max_depth=15, subsample=0.9,\n",
    "        colsample_bytree=0.9, eval_metric=\"logloss\", random_state=42\n",
    "    )\n",
    "}\n",
    "\n",
    "# Entrenamiento y evaluación\n",
    "scores = {}\n",
    "for name, model in models.items():\n",
    "    model.fit(X_train, y_train)\n",
    "    scores[name] = model.score(X_test, y_test) * 100\n",
    "\n",
    "# Crear un DataFrame con los resultados\n",
    "scores_df = pd.DataFrame(list(scores.items()), columns=[\"Modelo\", \"Precisión\"])\n",
    "\n",
    "# Configurar la gráfica\n",
    "plt.figure(figsize=(8, 5))\n",
    "sns.barplot(x=\"Modelo\", y=\"Precisión\", data=scores_df, palette=\"viridis\")\n",
    "\n",
    "\n",
    "\n",
    "# Personalizar\n",
    "plt.ylim(70, 90)  # Ajusta el rango si es necesario\n",
    "plt.ylabel(\"Precisión (%)\")\n",
    "plt.title(\"Comparación de Modelos Supervisados (Optimización)\")\n",
    "plt.xticks(rotation=20)\n",
    "\n",
    "# Mostrar los valores en las barras\n",
    "for index, value in enumerate(scores_df[\"Precisión\"]):\n",
    "    plt.text(index, value + 0.5, f\"{value:.2f}%\", ha=\"center\", fontsize=12)\n",
    "\n",
    "plt.show()\n",
    "\n",
    "\n"
   ]
  },
  {
   "cell_type": "markdown",
   "metadata": {},
   "source": [
    "### 4.2. Modelos no supervisados"
   ]
  },
  {
   "cell_type": "markdown",
   "metadata": {},
   "source": [
    "Dado que el dataset que venimos trabajando cuenta con la columna de target, para los siguientes modelos dicha columna es eliminada"
   ]
  },
  {
   "cell_type": "code",
   "execution_count": 12,
   "metadata": {},
   "outputs": [
    {
     "data": {
      "text/html": [
       "<div>\n",
       "<style scoped>\n",
       "    .dataframe tbody tr th:only-of-type {\n",
       "        vertical-align: middle;\n",
       "    }\n",
       "\n",
       "    .dataframe tbody tr th {\n",
       "        vertical-align: top;\n",
       "    }\n",
       "\n",
       "    .dataframe thead th {\n",
       "        text-align: right;\n",
       "    }\n",
       "</style>\n",
       "<table border=\"1\" class=\"dataframe\">\n",
       "  <thead>\n",
       "    <tr style=\"text-align: right;\">\n",
       "      <th></th>\n",
       "      <th>Country</th>\n",
       "      <th>Age</th>\n",
       "      <th>Education Level</th>\n",
       "      <th>BMI</th>\n",
       "      <th>Physical Activity Level</th>\n",
       "      <th>Smoking Status</th>\n",
       "      <th>Alcohol Consumption</th>\n",
       "      <th>Cholesterol Level</th>\n",
       "      <th>Family History of Alzheimer’s</th>\n",
       "      <th>Cognitive Test Score</th>\n",
       "      <th>...</th>\n",
       "      <th>Stress Levels</th>\n",
       "      <th>Alzheimer’s Diagnosis</th>\n",
       "      <th>Gender_Male</th>\n",
       "      <th>Diabetes_Yes</th>\n",
       "      <th>Hypertension_Yes</th>\n",
       "      <th>Employment Status_Retired</th>\n",
       "      <th>Employment Status_Unemployed</th>\n",
       "      <th>Marital Status_Single</th>\n",
       "      <th>Marital Status_Widowed</th>\n",
       "      <th>Urban vs Rural Living_Urban</th>\n",
       "    </tr>\n",
       "  </thead>\n",
       "  <tbody>\n",
       "    <tr>\n",
       "      <th>0</th>\n",
       "      <td>Spain</td>\n",
       "      <td>90</td>\n",
       "      <td>1</td>\n",
       "      <td>33.0</td>\n",
       "      <td>1</td>\n",
       "      <td>0</td>\n",
       "      <td>1</td>\n",
       "      <td>0</td>\n",
       "      <td>0</td>\n",
       "      <td>90</td>\n",
       "      <td>...</td>\n",
       "      <td>2</td>\n",
       "      <td>No</td>\n",
       "      <td>True</td>\n",
       "      <td>False</td>\n",
       "      <td>False</td>\n",
       "      <td>True</td>\n",
       "      <td>False</td>\n",
       "      <td>True</td>\n",
       "      <td>False</td>\n",
       "      <td>True</td>\n",
       "    </tr>\n",
       "    <tr>\n",
       "      <th>1</th>\n",
       "      <td>Argentina</td>\n",
       "      <td>72</td>\n",
       "      <td>7</td>\n",
       "      <td>29.9</td>\n",
       "      <td>1</td>\n",
       "      <td>1</td>\n",
       "      <td>0</td>\n",
       "      <td>0</td>\n",
       "      <td>0</td>\n",
       "      <td>65</td>\n",
       "      <td>...</td>\n",
       "      <td>2</td>\n",
       "      <td>No</td>\n",
       "      <td>True</td>\n",
       "      <td>False</td>\n",
       "      <td>False</td>\n",
       "      <td>False</td>\n",
       "      <td>True</td>\n",
       "      <td>False</td>\n",
       "      <td>True</td>\n",
       "      <td>True</td>\n",
       "    </tr>\n",
       "    <tr>\n",
       "      <th>2</th>\n",
       "      <td>South Africa</td>\n",
       "      <td>86</td>\n",
       "      <td>19</td>\n",
       "      <td>22.9</td>\n",
       "      <td>2</td>\n",
       "      <td>2</td>\n",
       "      <td>1</td>\n",
       "      <td>0</td>\n",
       "      <td>0</td>\n",
       "      <td>43</td>\n",
       "      <td>...</td>\n",
       "      <td>2</td>\n",
       "      <td>No</td>\n",
       "      <td>False</td>\n",
       "      <td>False</td>\n",
       "      <td>True</td>\n",
       "      <td>False</td>\n",
       "      <td>False</td>\n",
       "      <td>True</td>\n",
       "      <td>False</td>\n",
       "      <td>False</td>\n",
       "    </tr>\n",
       "    <tr>\n",
       "      <th>3</th>\n",
       "      <td>China</td>\n",
       "      <td>53</td>\n",
       "      <td>17</td>\n",
       "      <td>31.2</td>\n",
       "      <td>0</td>\n",
       "      <td>0</td>\n",
       "      <td>2</td>\n",
       "      <td>0</td>\n",
       "      <td>0</td>\n",
       "      <td>81</td>\n",
       "      <td>...</td>\n",
       "      <td>0</td>\n",
       "      <td>No</td>\n",
       "      <td>True</td>\n",
       "      <td>True</td>\n",
       "      <td>False</td>\n",
       "      <td>True</td>\n",
       "      <td>False</td>\n",
       "      <td>True</td>\n",
       "      <td>False</td>\n",
       "      <td>False</td>\n",
       "    </tr>\n",
       "    <tr>\n",
       "      <th>4</th>\n",
       "      <td>Sweden</td>\n",
       "      <td>58</td>\n",
       "      <td>3</td>\n",
       "      <td>30.0</td>\n",
       "      <td>2</td>\n",
       "      <td>1</td>\n",
       "      <td>0</td>\n",
       "      <td>0</td>\n",
       "      <td>0</td>\n",
       "      <td>49</td>\n",
       "      <td>...</td>\n",
       "      <td>2</td>\n",
       "      <td>No</td>\n",
       "      <td>False</td>\n",
       "      <td>True</td>\n",
       "      <td>False</td>\n",
       "      <td>False</td>\n",
       "      <td>False</td>\n",
       "      <td>False</td>\n",
       "      <td>False</td>\n",
       "      <td>False</td>\n",
       "    </tr>\n",
       "  </tbody>\n",
       "</table>\n",
       "<p>5 rows × 27 columns</p>\n",
       "</div>"
      ],
      "text/plain": [
       "        Country  Age  Education Level   BMI  Physical Activity Level  \\\n",
       "0         Spain   90                1  33.0                        1   \n",
       "1     Argentina   72                7  29.9                        1   \n",
       "2  South Africa   86               19  22.9                        2   \n",
       "3         China   53               17  31.2                        0   \n",
       "4        Sweden   58                3  30.0                        2   \n",
       "\n",
       "   Smoking Status  Alcohol Consumption  Cholesterol Level  \\\n",
       "0               0                    1                  0   \n",
       "1               1                    0                  0   \n",
       "2               2                    1                  0   \n",
       "3               0                    2                  0   \n",
       "4               1                    0                  0   \n",
       "\n",
       "   Family History of Alzheimer’s  Cognitive Test Score  ...  Stress Levels  \\\n",
       "0                              0                    90  ...              2   \n",
       "1                              0                    65  ...              2   \n",
       "2                              0                    43  ...              2   \n",
       "3                              0                    81  ...              0   \n",
       "4                              0                    49  ...              2   \n",
       "\n",
       "   Alzheimer’s Diagnosis  Gender_Male  Diabetes_Yes  Hypertension_Yes  \\\n",
       "0                     No         True         False             False   \n",
       "1                     No         True         False             False   \n",
       "2                     No        False         False              True   \n",
       "3                     No         True          True             False   \n",
       "4                     No        False          True             False   \n",
       "\n",
       "   Employment Status_Retired  Employment Status_Unemployed  \\\n",
       "0                       True                         False   \n",
       "1                      False                          True   \n",
       "2                      False                         False   \n",
       "3                       True                         False   \n",
       "4                      False                         False   \n",
       "\n",
       "   Marital Status_Single Marital Status_Widowed  Urban vs Rural Living_Urban  \n",
       "0                   True                  False                         True  \n",
       "1                  False                   True                         True  \n",
       "2                   True                  False                        False  \n",
       "3                   True                  False                        False  \n",
       "4                  False                  False                        False  \n",
       "\n",
       "[5 rows x 27 columns]"
      ]
     },
     "execution_count": 12,
     "metadata": {},
     "output_type": "execute_result"
    }
   ],
   "source": [
    "df2.head()"
   ]
  },
  {
   "cell_type": "code",
   "execution_count": null,
   "metadata": {},
   "outputs": [
    {
     "data": {
      "text/plain": [
       "array([[0.90909091, 0.05263158, 0.87878788, ..., 1.        , 0.        ,\n",
       "        1.        ],\n",
       "       [0.5       , 0.36842105, 0.69090909, ..., 0.        , 1.        ,\n",
       "        1.        ],\n",
       "       [0.81818182, 1.        , 0.26666667, ..., 1.        , 0.        ,\n",
       "        0.        ],\n",
       "       ...,\n",
       "       [0.15909091, 0.68421053, 0.58787879, ..., 1.        , 0.        ,\n",
       "        0.        ],\n",
       "       [0.52272727, 0.36842105, 0.63636364, ..., 0.        , 1.        ,\n",
       "        0.        ],\n",
       "       [0.15909091, 0.05263158, 0.8       , ..., 1.        , 0.        ,\n",
       "        1.        ]])"
      ]
     },
     "execution_count": 16,
     "metadata": {},
     "output_type": "execute_result"
    }
   ],
   "source": [
    "#Tratamiento del dataframe, se crean 2 clones de dicho df, ?df2' simplemente no incluye las columnas 'Country' 'Alzheimer’s Diagnosis', y en 'x_for_kmeans'\n",
    "#se normalizan los valores\n",
    "df2.drop(['Country', 'Alzheimer’s Diagnosis'], axis=1, inplace=True)\n",
    "scaler = MinMaxScaler()\n",
    "x_for_kmeans = scaler.fit_transform(df2)\n",
    "x_for_kmeans"
   ]
  },
  {
   "cell_type": "code",
   "execution_count": 17,
   "metadata": {},
   "outputs": [],
   "source": [
    "# se aplica gridsearch para intentar mejorar la calidad del modelo\n",
    "\n",
    "# def silhouette_scorer(estimator, X):\n",
    "#     labels = estimator.fit_predict(X)\n",
    "#     return silhouette_score(X, labels)\n",
    "\n",
    "# param_grid = {\n",
    "#     \"init\": [\"random\", \"k-means++\"],\n",
    "#     \"max_iter\": [100, 300, 500],\n",
    "#     \"n_init\": [10, 20, 30],\n",
    "#     \"algorithm\": [\"lloyd\", \"elkan\"]\n",
    "# }\n",
    "\n",
    "# kmeans = KMeans(n_clusters=2, random_state=42)\n",
    "# grid_search = GridSearchCV(kmeans, param_grid, scoring=make_scorer(silhouette_scorer), cv=3, verbose=1, n_jobs=-1)\n",
    "\n",
    "# grid_search.fit(x_for_kmeans)\n",
    "\n",
    "\n",
    "# print(\"Mejores parámetros:\", grid_search.best_params_)\n",
    "# print(\"Mejor Silhouette Score:\", grid_search.best_score_)"
   ]
  },
  {
   "cell_type": "code",
   "execution_count": null,
   "metadata": {},
   "outputs": [
    {
     "data": {
      "text/html": [
       "<style>#sk-container-id-1 {\n",
       "  /* Definition of color scheme common for light and dark mode */\n",
       "  --sklearn-color-text: #000;\n",
       "  --sklearn-color-text-muted: #666;\n",
       "  --sklearn-color-line: gray;\n",
       "  /* Definition of color scheme for unfitted estimators */\n",
       "  --sklearn-color-unfitted-level-0: #fff5e6;\n",
       "  --sklearn-color-unfitted-level-1: #f6e4d2;\n",
       "  --sklearn-color-unfitted-level-2: #ffe0b3;\n",
       "  --sklearn-color-unfitted-level-3: chocolate;\n",
       "  /* Definition of color scheme for fitted estimators */\n",
       "  --sklearn-color-fitted-level-0: #f0f8ff;\n",
       "  --sklearn-color-fitted-level-1: #d4ebff;\n",
       "  --sklearn-color-fitted-level-2: #b3dbfd;\n",
       "  --sklearn-color-fitted-level-3: cornflowerblue;\n",
       "\n",
       "  /* Specific color for light theme */\n",
       "  --sklearn-color-text-on-default-background: var(--sg-text-color, var(--theme-code-foreground, var(--jp-content-font-color1, black)));\n",
       "  --sklearn-color-background: var(--sg-background-color, var(--theme-background, var(--jp-layout-color0, white)));\n",
       "  --sklearn-color-border-box: var(--sg-text-color, var(--theme-code-foreground, var(--jp-content-font-color1, black)));\n",
       "  --sklearn-color-icon: #696969;\n",
       "\n",
       "  @media (prefers-color-scheme: dark) {\n",
       "    /* Redefinition of color scheme for dark theme */\n",
       "    --sklearn-color-text-on-default-background: var(--sg-text-color, var(--theme-code-foreground, var(--jp-content-font-color1, white)));\n",
       "    --sklearn-color-background: var(--sg-background-color, var(--theme-background, var(--jp-layout-color0, #111)));\n",
       "    --sklearn-color-border-box: var(--sg-text-color, var(--theme-code-foreground, var(--jp-content-font-color1, white)));\n",
       "    --sklearn-color-icon: #878787;\n",
       "  }\n",
       "}\n",
       "\n",
       "#sk-container-id-1 {\n",
       "  color: var(--sklearn-color-text);\n",
       "}\n",
       "\n",
       "#sk-container-id-1 pre {\n",
       "  padding: 0;\n",
       "}\n",
       "\n",
       "#sk-container-id-1 input.sk-hidden--visually {\n",
       "  border: 0;\n",
       "  clip: rect(1px 1px 1px 1px);\n",
       "  clip: rect(1px, 1px, 1px, 1px);\n",
       "  height: 1px;\n",
       "  margin: -1px;\n",
       "  overflow: hidden;\n",
       "  padding: 0;\n",
       "  position: absolute;\n",
       "  width: 1px;\n",
       "}\n",
       "\n",
       "#sk-container-id-1 div.sk-dashed-wrapped {\n",
       "  border: 1px dashed var(--sklearn-color-line);\n",
       "  margin: 0 0.4em 0.5em 0.4em;\n",
       "  box-sizing: border-box;\n",
       "  padding-bottom: 0.4em;\n",
       "  background-color: var(--sklearn-color-background);\n",
       "}\n",
       "\n",
       "#sk-container-id-1 div.sk-container {\n",
       "  /* jupyter's `normalize.less` sets `[hidden] { display: none; }`\n",
       "     but bootstrap.min.css set `[hidden] { display: none !important; }`\n",
       "     so we also need the `!important` here to be able to override the\n",
       "     default hidden behavior on the sphinx rendered scikit-learn.org.\n",
       "     See: https://github.com/scikit-learn/scikit-learn/issues/21755 */\n",
       "  display: inline-block !important;\n",
       "  position: relative;\n",
       "}\n",
       "\n",
       "#sk-container-id-1 div.sk-text-repr-fallback {\n",
       "  display: none;\n",
       "}\n",
       "\n",
       "div.sk-parallel-item,\n",
       "div.sk-serial,\n",
       "div.sk-item {\n",
       "  /* draw centered vertical line to link estimators */\n",
       "  background-image: linear-gradient(var(--sklearn-color-text-on-default-background), var(--sklearn-color-text-on-default-background));\n",
       "  background-size: 2px 100%;\n",
       "  background-repeat: no-repeat;\n",
       "  background-position: center center;\n",
       "}\n",
       "\n",
       "/* Parallel-specific style estimator block */\n",
       "\n",
       "#sk-container-id-1 div.sk-parallel-item::after {\n",
       "  content: \"\";\n",
       "  width: 100%;\n",
       "  border-bottom: 2px solid var(--sklearn-color-text-on-default-background);\n",
       "  flex-grow: 1;\n",
       "}\n",
       "\n",
       "#sk-container-id-1 div.sk-parallel {\n",
       "  display: flex;\n",
       "  align-items: stretch;\n",
       "  justify-content: center;\n",
       "  background-color: var(--sklearn-color-background);\n",
       "  position: relative;\n",
       "}\n",
       "\n",
       "#sk-container-id-1 div.sk-parallel-item {\n",
       "  display: flex;\n",
       "  flex-direction: column;\n",
       "}\n",
       "\n",
       "#sk-container-id-1 div.sk-parallel-item:first-child::after {\n",
       "  align-self: flex-end;\n",
       "  width: 50%;\n",
       "}\n",
       "\n",
       "#sk-container-id-1 div.sk-parallel-item:last-child::after {\n",
       "  align-self: flex-start;\n",
       "  width: 50%;\n",
       "}\n",
       "\n",
       "#sk-container-id-1 div.sk-parallel-item:only-child::after {\n",
       "  width: 0;\n",
       "}\n",
       "\n",
       "/* Serial-specific style estimator block */\n",
       "\n",
       "#sk-container-id-1 div.sk-serial {\n",
       "  display: flex;\n",
       "  flex-direction: column;\n",
       "  align-items: center;\n",
       "  background-color: var(--sklearn-color-background);\n",
       "  padding-right: 1em;\n",
       "  padding-left: 1em;\n",
       "}\n",
       "\n",
       "\n",
       "/* Toggleable style: style used for estimator/Pipeline/ColumnTransformer box that is\n",
       "clickable and can be expanded/collapsed.\n",
       "- Pipeline and ColumnTransformer use this feature and define the default style\n",
       "- Estimators will overwrite some part of the style using the `sk-estimator` class\n",
       "*/\n",
       "\n",
       "/* Pipeline and ColumnTransformer style (default) */\n",
       "\n",
       "#sk-container-id-1 div.sk-toggleable {\n",
       "  /* Default theme specific background. It is overwritten whether we have a\n",
       "  specific estimator or a Pipeline/ColumnTransformer */\n",
       "  background-color: var(--sklearn-color-background);\n",
       "}\n",
       "\n",
       "/* Toggleable label */\n",
       "#sk-container-id-1 label.sk-toggleable__label {\n",
       "  cursor: pointer;\n",
       "  display: flex;\n",
       "  width: 100%;\n",
       "  margin-bottom: 0;\n",
       "  padding: 0.5em;\n",
       "  box-sizing: border-box;\n",
       "  text-align: center;\n",
       "  align-items: start;\n",
       "  justify-content: space-between;\n",
       "  gap: 0.5em;\n",
       "}\n",
       "\n",
       "#sk-container-id-1 label.sk-toggleable__label .caption {\n",
       "  font-size: 0.6rem;\n",
       "  font-weight: lighter;\n",
       "  color: var(--sklearn-color-text-muted);\n",
       "}\n",
       "\n",
       "#sk-container-id-1 label.sk-toggleable__label-arrow:before {\n",
       "  /* Arrow on the left of the label */\n",
       "  content: \"▸\";\n",
       "  float: left;\n",
       "  margin-right: 0.25em;\n",
       "  color: var(--sklearn-color-icon);\n",
       "}\n",
       "\n",
       "#sk-container-id-1 label.sk-toggleable__label-arrow:hover:before {\n",
       "  color: var(--sklearn-color-text);\n",
       "}\n",
       "\n",
       "/* Toggleable content - dropdown */\n",
       "\n",
       "#sk-container-id-1 div.sk-toggleable__content {\n",
       "  max-height: 0;\n",
       "  max-width: 0;\n",
       "  overflow: hidden;\n",
       "  text-align: left;\n",
       "  /* unfitted */\n",
       "  background-color: var(--sklearn-color-unfitted-level-0);\n",
       "}\n",
       "\n",
       "#sk-container-id-1 div.sk-toggleable__content.fitted {\n",
       "  /* fitted */\n",
       "  background-color: var(--sklearn-color-fitted-level-0);\n",
       "}\n",
       "\n",
       "#sk-container-id-1 div.sk-toggleable__content pre {\n",
       "  margin: 0.2em;\n",
       "  border-radius: 0.25em;\n",
       "  color: var(--sklearn-color-text);\n",
       "  /* unfitted */\n",
       "  background-color: var(--sklearn-color-unfitted-level-0);\n",
       "}\n",
       "\n",
       "#sk-container-id-1 div.sk-toggleable__content.fitted pre {\n",
       "  /* unfitted */\n",
       "  background-color: var(--sklearn-color-fitted-level-0);\n",
       "}\n",
       "\n",
       "#sk-container-id-1 input.sk-toggleable__control:checked~div.sk-toggleable__content {\n",
       "  /* Expand drop-down */\n",
       "  max-height: 200px;\n",
       "  max-width: 100%;\n",
       "  overflow: auto;\n",
       "}\n",
       "\n",
       "#sk-container-id-1 input.sk-toggleable__control:checked~label.sk-toggleable__label-arrow:before {\n",
       "  content: \"▾\";\n",
       "}\n",
       "\n",
       "/* Pipeline/ColumnTransformer-specific style */\n",
       "\n",
       "#sk-container-id-1 div.sk-label input.sk-toggleable__control:checked~label.sk-toggleable__label {\n",
       "  color: var(--sklearn-color-text);\n",
       "  background-color: var(--sklearn-color-unfitted-level-2);\n",
       "}\n",
       "\n",
       "#sk-container-id-1 div.sk-label.fitted input.sk-toggleable__control:checked~label.sk-toggleable__label {\n",
       "  background-color: var(--sklearn-color-fitted-level-2);\n",
       "}\n",
       "\n",
       "/* Estimator-specific style */\n",
       "\n",
       "/* Colorize estimator box */\n",
       "#sk-container-id-1 div.sk-estimator input.sk-toggleable__control:checked~label.sk-toggleable__label {\n",
       "  /* unfitted */\n",
       "  background-color: var(--sklearn-color-unfitted-level-2);\n",
       "}\n",
       "\n",
       "#sk-container-id-1 div.sk-estimator.fitted input.sk-toggleable__control:checked~label.sk-toggleable__label {\n",
       "  /* fitted */\n",
       "  background-color: var(--sklearn-color-fitted-level-2);\n",
       "}\n",
       "\n",
       "#sk-container-id-1 div.sk-label label.sk-toggleable__label,\n",
       "#sk-container-id-1 div.sk-label label {\n",
       "  /* The background is the default theme color */\n",
       "  color: var(--sklearn-color-text-on-default-background);\n",
       "}\n",
       "\n",
       "/* On hover, darken the color of the background */\n",
       "#sk-container-id-1 div.sk-label:hover label.sk-toggleable__label {\n",
       "  color: var(--sklearn-color-text);\n",
       "  background-color: var(--sklearn-color-unfitted-level-2);\n",
       "}\n",
       "\n",
       "/* Label box, darken color on hover, fitted */\n",
       "#sk-container-id-1 div.sk-label.fitted:hover label.sk-toggleable__label.fitted {\n",
       "  color: var(--sklearn-color-text);\n",
       "  background-color: var(--sklearn-color-fitted-level-2);\n",
       "}\n",
       "\n",
       "/* Estimator label */\n",
       "\n",
       "#sk-container-id-1 div.sk-label label {\n",
       "  font-family: monospace;\n",
       "  font-weight: bold;\n",
       "  display: inline-block;\n",
       "  line-height: 1.2em;\n",
       "}\n",
       "\n",
       "#sk-container-id-1 div.sk-label-container {\n",
       "  text-align: center;\n",
       "}\n",
       "\n",
       "/* Estimator-specific */\n",
       "#sk-container-id-1 div.sk-estimator {\n",
       "  font-family: monospace;\n",
       "  border: 1px dotted var(--sklearn-color-border-box);\n",
       "  border-radius: 0.25em;\n",
       "  box-sizing: border-box;\n",
       "  margin-bottom: 0.5em;\n",
       "  /* unfitted */\n",
       "  background-color: var(--sklearn-color-unfitted-level-0);\n",
       "}\n",
       "\n",
       "#sk-container-id-1 div.sk-estimator.fitted {\n",
       "  /* fitted */\n",
       "  background-color: var(--sklearn-color-fitted-level-0);\n",
       "}\n",
       "\n",
       "/* on hover */\n",
       "#sk-container-id-1 div.sk-estimator:hover {\n",
       "  /* unfitted */\n",
       "  background-color: var(--sklearn-color-unfitted-level-2);\n",
       "}\n",
       "\n",
       "#sk-container-id-1 div.sk-estimator.fitted:hover {\n",
       "  /* fitted */\n",
       "  background-color: var(--sklearn-color-fitted-level-2);\n",
       "}\n",
       "\n",
       "/* Specification for estimator info (e.g. \"i\" and \"?\") */\n",
       "\n",
       "/* Common style for \"i\" and \"?\" */\n",
       "\n",
       ".sk-estimator-doc-link,\n",
       "a:link.sk-estimator-doc-link,\n",
       "a:visited.sk-estimator-doc-link {\n",
       "  float: right;\n",
       "  font-size: smaller;\n",
       "  line-height: 1em;\n",
       "  font-family: monospace;\n",
       "  background-color: var(--sklearn-color-background);\n",
       "  border-radius: 1em;\n",
       "  height: 1em;\n",
       "  width: 1em;\n",
       "  text-decoration: none !important;\n",
       "  margin-left: 0.5em;\n",
       "  text-align: center;\n",
       "  /* unfitted */\n",
       "  border: var(--sklearn-color-unfitted-level-1) 1pt solid;\n",
       "  color: var(--sklearn-color-unfitted-level-1);\n",
       "}\n",
       "\n",
       ".sk-estimator-doc-link.fitted,\n",
       "a:link.sk-estimator-doc-link.fitted,\n",
       "a:visited.sk-estimator-doc-link.fitted {\n",
       "  /* fitted */\n",
       "  border: var(--sklearn-color-fitted-level-1) 1pt solid;\n",
       "  color: var(--sklearn-color-fitted-level-1);\n",
       "}\n",
       "\n",
       "/* On hover */\n",
       "div.sk-estimator:hover .sk-estimator-doc-link:hover,\n",
       ".sk-estimator-doc-link:hover,\n",
       "div.sk-label-container:hover .sk-estimator-doc-link:hover,\n",
       ".sk-estimator-doc-link:hover {\n",
       "  /* unfitted */\n",
       "  background-color: var(--sklearn-color-unfitted-level-3);\n",
       "  color: var(--sklearn-color-background);\n",
       "  text-decoration: none;\n",
       "}\n",
       "\n",
       "div.sk-estimator.fitted:hover .sk-estimator-doc-link.fitted:hover,\n",
       ".sk-estimator-doc-link.fitted:hover,\n",
       "div.sk-label-container:hover .sk-estimator-doc-link.fitted:hover,\n",
       ".sk-estimator-doc-link.fitted:hover {\n",
       "  /* fitted */\n",
       "  background-color: var(--sklearn-color-fitted-level-3);\n",
       "  color: var(--sklearn-color-background);\n",
       "  text-decoration: none;\n",
       "}\n",
       "\n",
       "/* Span, style for the box shown on hovering the info icon */\n",
       ".sk-estimator-doc-link span {\n",
       "  display: none;\n",
       "  z-index: 9999;\n",
       "  position: relative;\n",
       "  font-weight: normal;\n",
       "  right: .2ex;\n",
       "  padding: .5ex;\n",
       "  margin: .5ex;\n",
       "  width: min-content;\n",
       "  min-width: 20ex;\n",
       "  max-width: 50ex;\n",
       "  color: var(--sklearn-color-text);\n",
       "  box-shadow: 2pt 2pt 4pt #999;\n",
       "  /* unfitted */\n",
       "  background: var(--sklearn-color-unfitted-level-0);\n",
       "  border: .5pt solid var(--sklearn-color-unfitted-level-3);\n",
       "}\n",
       "\n",
       ".sk-estimator-doc-link.fitted span {\n",
       "  /* fitted */\n",
       "  background: var(--sklearn-color-fitted-level-0);\n",
       "  border: var(--sklearn-color-fitted-level-3);\n",
       "}\n",
       "\n",
       ".sk-estimator-doc-link:hover span {\n",
       "  display: block;\n",
       "}\n",
       "\n",
       "/* \"?\"-specific style due to the `<a>` HTML tag */\n",
       "\n",
       "#sk-container-id-1 a.estimator_doc_link {\n",
       "  float: right;\n",
       "  font-size: 1rem;\n",
       "  line-height: 1em;\n",
       "  font-family: monospace;\n",
       "  background-color: var(--sklearn-color-background);\n",
       "  border-radius: 1rem;\n",
       "  height: 1rem;\n",
       "  width: 1rem;\n",
       "  text-decoration: none;\n",
       "  /* unfitted */\n",
       "  color: var(--sklearn-color-unfitted-level-1);\n",
       "  border: var(--sklearn-color-unfitted-level-1) 1pt solid;\n",
       "}\n",
       "\n",
       "#sk-container-id-1 a.estimator_doc_link.fitted {\n",
       "  /* fitted */\n",
       "  border: var(--sklearn-color-fitted-level-1) 1pt solid;\n",
       "  color: var(--sklearn-color-fitted-level-1);\n",
       "}\n",
       "\n",
       "/* On hover */\n",
       "#sk-container-id-1 a.estimator_doc_link:hover {\n",
       "  /* unfitted */\n",
       "  background-color: var(--sklearn-color-unfitted-level-3);\n",
       "  color: var(--sklearn-color-background);\n",
       "  text-decoration: none;\n",
       "}\n",
       "\n",
       "#sk-container-id-1 a.estimator_doc_link.fitted:hover {\n",
       "  /* fitted */\n",
       "  background-color: var(--sklearn-color-fitted-level-3);\n",
       "}\n",
       "</style><div id=\"sk-container-id-1\" class=\"sk-top-container\"><div class=\"sk-text-repr-fallback\"><pre>KMeans(init=&#x27;random&#x27;, max_iter=100, n_clusters=2, n_init=10, random_state=1)</pre><b>In a Jupyter environment, please rerun this cell to show the HTML representation or trust the notebook. <br />On GitHub, the HTML representation is unable to render, please try loading this page with nbviewer.org.</b></div><div class=\"sk-container\" hidden><div class=\"sk-item\"><div class=\"sk-estimator fitted sk-toggleable\"><input class=\"sk-toggleable__control sk-hidden--visually\" id=\"sk-estimator-id-1\" type=\"checkbox\" checked><label for=\"sk-estimator-id-1\" class=\"sk-toggleable__label fitted sk-toggleable__label-arrow\"><div><div>KMeans</div></div><div><a class=\"sk-estimator-doc-link fitted\" rel=\"noreferrer\" target=\"_blank\" href=\"https://scikit-learn.org/1.6/modules/generated/sklearn.cluster.KMeans.html\">?<span>Documentation for KMeans</span></a><span class=\"sk-estimator-doc-link fitted\">i<span>Fitted</span></span></div></label><div class=\"sk-toggleable__content fitted\"><pre>KMeans(init=&#x27;random&#x27;, max_iter=100, n_clusters=2, n_init=10, random_state=1)</pre></div> </div></div></div></div>"
      ],
      "text/plain": [
       "KMeans(init='random', max_iter=100, n_clusters=2, n_init=10, random_state=1)"
      ]
     },
     "execution_count": 19,
     "metadata": {},
     "output_type": "execute_result"
    }
   ],
   "source": [
    "#instanciamiento de un modelo por cada dataframe, y respectivo ajuste a su data\n",
    "kmeans = KMeans(n_clusters=2, algorithm='lloyd', init='random', max_iter=100, n_init=10, random_state=1)\n",
    "kmeans.fit(df2)\n",
    "\n",
    "kmeans_scaled = KMeans(n_clusters=2, algorithm='lloyd', init='random', max_iter=100, n_init=10, random_state=1)\n",
    "kmeans_scaled.fit(x_for_kmeans)\n"
   ]
  },
  {
   "cell_type": "code",
   "execution_count": 21,
   "metadata": {},
   "outputs": [
    {
     "name": "stdout",
     "output_type": "stream",
     "text": [
      "dataset original\n",
      " Alzheimer’s Diagnosis\n",
      "0    43570\n",
      "1    30713\n",
      "Name: count, dtype: int64 \n",
      "\n",
      "categorización por k-means (no escalado)\n",
      " 1    37200\n",
      "0    37083\n",
      "Name: count, dtype: int64 \n",
      "\n",
      "categorización por k-means(escalado)\n",
      " 0    49114\n",
      "1    25169\n",
      "Name: count, dtype: int64\n"
     ]
    }
   ],
   "source": [
    "#recuento de valores por categoria\n",
    "km = pd.Series(kmeans.labels_)\n",
    "km_scaled = pd.Series(kmeans_scaled.labels_)\n",
    "count_values = km.value_counts()\n",
    "count_values2 = km_scaled.value_counts()\n",
    "print('dataset original\\n',df.value_counts(df['Alzheimer’s Diagnosis']), '\\n\\ncategorización por k-means (no escalado)\\n',count_values, \n",
    "      '\\n\\ncategorización por k-means(escalado)\\n', count_values2,)"
   ]
  },
  {
   "cell_type": "code",
   "execution_count": 22,
   "metadata": {},
   "outputs": [
    {
     "data": {
      "image/png": "[encoded data removed]",
      "text/plain": [
       "<Figure size 640x480 with 1 Axes>"
      ]
     },
     "metadata": {},
     "output_type": "display_data"
    },
    {
     "data": {
      "image/png": "[encoded data removed]",
      "text/plain": [
       "<Figure size 640x480 with 1 Axes>"
      ]
     },
     "metadata": {},
     "output_type": "display_data"
    },
    {
     "data": {
      "image/png": "[encoded data removed]",
      "text/plain": [
       "<Figure size 640x480 with 1 Axes>"
      ]
     },
     "metadata": {},
     "output_type": "display_data"
    }
   ],
   "source": [
    "#grafica del recuento anterior\n",
    "count_values_og = df.value_counts(df['Alzheimer’s Diagnosis'])\n",
    "count_values_og.plot(kind='bar',color=['green','red' ], title='Valores por categorías en dataset original')\n",
    "plt.xticks(ticks=[0, 1], labels=[\"Negativo\", \"Positivo\"])\n",
    "plt.xticks(rotation=0)\n",
    "plt.show()\n",
    "\n",
    "count_values.plot(kind='bar',color=['green','red' ], title='Valores asignados por K-means')\n",
    "plt.xticks(ticks=[0, 1], labels=[\"Negativo\", \"Positivo\"])\n",
    "plt.xticks(rotation=0)\n",
    "plt.show()\n",
    "\n",
    "count_values2.plot(kind='bar',color=['green','red' ], title='Valores asignados por K-means ESCALADO')\n",
    "plt.xticks(ticks=[0, 1], labels=[\"Negativo\", \"Positivo\"])\n",
    "plt.xticks(rotation=0)\n",
    "\n",
    "\n",
    "\n",
    "\n",
    "\n",
    "plt.show()"
   ]
  },
  {
   "cell_type": "markdown",
   "metadata": {},
   "source": [
    "## 5. Optinización y comparación de modelos "
   ]
  },
  {
   "cell_type": "markdown",
   "metadata": {},
   "source": [
    "### 5.1. Matriz de confusión Modelos Supervisados"
   ]
  },
  {
   "cell_type": "code",
   "execution_count": null,
   "metadata": {
    "slideshow": {
     "slide_type": "subslide"
    }
   },
   "outputs": [
    {
     "data": {
      "image/png": "[encoded data removed]",
      "text/plain": [
       "<Figure size 1500x500 with 6 Axes>"
      ]
     },
     "metadata": {},
     "output_type": "display_data"
    }
   ],
   "source": [
    "fig, labels = plt.subplots(1, 3, figsize=(15, 5))\n",
    "\n",
    "custom_cmap = plt.cm.Blues\n",
    "for ax, (name, model) in zip(labels, models.items()):\n",
    "    #X_train, X_test, y_train, y_test\n",
    "    disp = ConfusionMatrixDisplay.from_estimator(model, X_test, y_test, ax=ax, cmap=custom_cmap)\n",
    "    disp.ax_.set_title(name)\n",
    "    disp.ax_.set_xlabel(\"Predicción\")\n",
    "    disp.ax_.set_ylabel(\"Valor Real\")\n",
    "plt.tight_layout()\n",
    "plt.show()\n"
   ]
  },
  {
   "cell_type": "code",
   "execution_count": null,
   "metadata": {},
   "outputs": [
    {
     "name": "stdout",
     "output_type": "stream",
     "text": [
      "Modelo: RandomForest\n",
      "              precision    recall  f1-score   support\n",
      "\n",
      "           0       0.75      0.78      0.77      8719\n",
      "           1       0.67      0.64      0.65      6138\n",
      "\n",
      "    accuracy                           0.72     14857\n",
      "   macro avg       0.71      0.71      0.71     14857\n",
      "weighted avg       0.72      0.72      0.72     14857\n",
      "\n",
      "--------------------------------------------------\n",
      "Modelo: LogisticRegression\n",
      "              precision    recall  f1-score   support\n",
      "\n",
      "           0       0.74      0.79      0.77      8719\n",
      "           1       0.67      0.60      0.63      6138\n",
      "\n",
      "    accuracy                           0.71     14857\n",
      "   macro avg       0.71      0.70      0.70     14857\n",
      "weighted avg       0.71      0.71      0.71     14857\n",
      "\n",
      "--------------------------------------------------\n",
      "Modelo: XGBoost\n",
      "              precision    recall  f1-score   support\n",
      "\n",
      "           0       0.75      0.77      0.76      8719\n",
      "           1       0.66      0.64      0.65      6138\n",
      "\n",
      "    accuracy                           0.72     14857\n",
      "   macro avg       0.71      0.71      0.71     14857\n",
      "weighted avg       0.72      0.72      0.72     14857\n",
      "\n",
      "--------------------------------------------------\n"
     ]
    }
   ],
   "source": [
    "#Calculo de metricas\n",
    "\n",
    "for name, model in models.items():\n",
    "    y_pred = model.predict(x_test)\n",
    "    print(f\"Modelo: {name}\")\n",
    "    print(classification_report(y_test, y_pred))\n",
    "    print(\"-\" * 50)"
   ]
  },
  {
   "cell_type": "markdown",
   "metadata": {},
   "source": [
    "### 5.2. Matriz de confusión modelos no supervisados"
   ]
  },
  {
   "cell_type": "code",
   "execution_count": null,
   "metadata": {},
   "outputs": [
    {
     "data": {
      "image/png": "[encoded data removed]",
      "text/plain": [
       "<Figure size 1500x500 with 4 Axes>"
      ]
     },
     "metadata": {},
     "output_type": "display_data"
    }
   ],
   "source": [
    "fig, labels = plt.subplots(1, 2, figsize=(15, 5))\n",
    "disp = ConfusionMatrixDisplay(confusion_matrix(df['Alzheimer’s Diagnosis'], km), display_labels=[\"0\", \"1\"])\n",
    "disp.plot(ax=labels[0], cmap='Blues')\n",
    "disp.ax_.set_title(\"KMeans\")\n",
    "disp.ax_.set_xlabel(\"Predicción\")\n",
    "disp.ax_.set_ylabel(\"Valor Real\")\n",
    "\n",
    "disp = ConfusionMatrixDisplay(confusion_matrix(df['Alzheimer’s Diagnosis'], km_scaled), display_labels=[\"0\", \"1\"])\n",
    "disp.plot(ax=labels[1], cmap='Blues')\n",
    "disp.ax_.set_title(\"KMeans Escalado\")\n",
    "disp.ax_.set_xlabel(\"Predicción\")\n",
    "disp.ax_.set_ylabel(\"Valor Real\")\n",
    "plt.tight_layout()\n",
    "plt.show()\n",
    "\n"
   ]
  },
  {
   "cell_type": "code",
   "execution_count": 25,
   "metadata": {},
   "outputs": [
    {
     "name": "stdout",
     "output_type": "stream",
     "text": [
      "KMeans\n",
      "              precision    recall  f1-score   support\n",
      "\n",
      "           0       0.59      0.50      0.54     43570\n",
      "           1       0.41      0.50      0.45     30713\n",
      "\n",
      "    accuracy                           0.50     74283\n",
      "   macro avg       0.50      0.50      0.50     74283\n",
      "weighted avg       0.51      0.50      0.50     74283\n",
      "\n",
      "--------------------------------------------------\n",
      "KMeans Escalado\n",
      "              precision    recall  f1-score   support\n",
      "\n",
      "           0       0.59      0.66      0.62     43570\n",
      "           1       0.41      0.34      0.37     30713\n",
      "\n",
      "    accuracy                           0.53     74283\n",
      "   macro avg       0.50      0.50      0.50     74283\n",
      "weighted avg       0.51      0.53      0.52     74283\n",
      "\n",
      "--------------------------------------------------\n"
     ]
    }
   ],
   "source": [
    "#Calculo de metricas\n",
    "print(\"KMeans\")\n",
    "print(classification_report(df['Alzheimer’s Diagnosis'], km))\n",
    "print(\"-\" * 50)\n",
    "print(\"KMeans Escalado\")\n",
    "print(classification_report(df['Alzheimer’s Diagnosis'], km_scaled))\n",
    "print(\"-\" * 50)\n"
   ]
  },
  {
   "cell_type": "markdown",
   "metadata": {},
   "source": [
    "## Exportación del modelo"
   ]
  },
  {
   "cell_type": "code",
   "execution_count": null,
   "metadata": {},
   "outputs": [],
   "source": [
    "import joblib  \n",
    "\n",
    "# Obtener el modelo RandomForest entrenado\n",
    "rf_model = models[\"RandomForest\"]\n",
    "\n",
    "# Guardar el modelo en un archivo .pkl\n",
    "joblib.dump(rf_model, \"random_forest_model.pkl\")\n",
    "\n",
    "print(\"Modelo RandomForest exportado exitosamente.\")\n"
   ]
  }
 ],
 "metadata": {
  "kernelspec": {
   "display_name": "proyecto_python1",
   "language": "python",
   "name": "python3"
  },
  "language_info": {
   "codemirror_mode": {
    "name": "ipython",
    "version": 3
   },
   "file_extension": ".py",
   "mimetype": "text/x-python",
   "name": "python",
   "nbconvert_exporter": "python",
   "pygments_lexer": "ipython3",
   "version": "3.12.8"
  }
 },
 "nbformat": 4,
 "nbformat_minor": 2
}
