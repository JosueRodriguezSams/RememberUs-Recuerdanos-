{
 "cells": [
  {
   "cell_type": "markdown",
   "metadata": {},
   "source": [
    "# Análisis predictivo del Alzheimer\n",
    "Este proyecto tiene como objetivo desarrollar un modelo de aprendizaje autimático capaz de predecir la probabilidad de que un paciente padezca alzheimer, basandose en diversas características\n",
    "\n",
    "**Objetivo :** \n",
    "\n",
    "**¿Porque es relevante este estudio ?**\n",
    "\n",
    "**Enfoque:**"
   ]
  },
  {
   "cell_type": "code",
   "execution_count": 1,
   "metadata": {},
   "outputs": [],
   "source": [
    "import numpy as np\n",
    "import pandas as pd \n",
    "import matplotlib.pyplot as plt\n",
    "import seaborn as sns\n",
    "from sklearn.preprocessing import OneHotEncoder, LabelEncoder, StandardScaler\n",
    "from category_encoders import TargetEncoder\n",
    "from sklearn.cluster import KMeans, DBSCAN\n",
    "from sklearn.ensemble import RandomForestClassifier\n",
    "from sklearn.linear_model import LogisticRegression\n",
    "from sklearn.model_selection import train_test_split, GridSearchCV\n",
    "from sklearn.metrics import silhouette_score, make_scorer\n",
    "from xgboost import XGBClassifier\n",
    "import xgboost as xgb\n",
    "\n",
    "#!pip install xgboost\n",
    "# pip install category_encoders\n",
    "##!pip install plotly\n"
   ]
  },
  {
   "cell_type": "markdown",
   "metadata": {},
   "source": [
    "## 1. Obtención y exploración de Datos "
   ]
  },
  {
   "cell_type": "code",
   "execution_count": 2,
   "metadata": {},
   "outputs": [
    {
     "data": {
      "text/html": [
       "<div>\n",
       "<style scoped>\n",
       "    .dataframe tbody tr th:only-of-type {\n",
       "        vertical-align: middle;\n",
       "    }\n",
       "\n",
       "    .dataframe tbody tr th {\n",
       "        vertical-align: top;\n",
       "    }\n",
       "\n",
       "    .dataframe thead th {\n",
       "        text-align: right;\n",
       "    }\n",
       "</style>\n",
       "<table border=\"1\" class=\"dataframe\">\n",
       "  <thead>\n",
       "    <tr style=\"text-align: right;\">\n",
       "      <th></th>\n",
       "      <th>Country</th>\n",
       "      <th>Age</th>\n",
       "      <th>Gender</th>\n",
       "      <th>Education Level</th>\n",
       "      <th>BMI</th>\n",
       "      <th>Physical Activity Level</th>\n",
       "      <th>Smoking Status</th>\n",
       "      <th>Alcohol Consumption</th>\n",
       "      <th>Diabetes</th>\n",
       "      <th>Hypertension</th>\n",
       "      <th>...</th>\n",
       "      <th>Dietary Habits</th>\n",
       "      <th>Air Pollution Exposure</th>\n",
       "      <th>Employment Status</th>\n",
       "      <th>Marital Status</th>\n",
       "      <th>Genetic Risk Factor (APOE-ε4 allele)</th>\n",
       "      <th>Social Engagement Level</th>\n",
       "      <th>Income Level</th>\n",
       "      <th>Stress Levels</th>\n",
       "      <th>Urban vs Rural Living</th>\n",
       "      <th>Alzheimer’s Diagnosis</th>\n",
       "    </tr>\n",
       "  </thead>\n",
       "  <tbody>\n",
       "    <tr>\n",
       "      <th>0</th>\n",
       "      <td>Spain</td>\n",
       "      <td>90</td>\n",
       "      <td>Male</td>\n",
       "      <td>1</td>\n",
       "      <td>33.0</td>\n",
       "      <td>Medium</td>\n",
       "      <td>Never</td>\n",
       "      <td>Occasionally</td>\n",
       "      <td>No</td>\n",
       "      <td>No</td>\n",
       "      <td>...</td>\n",
       "      <td>Healthy</td>\n",
       "      <td>High</td>\n",
       "      <td>Retired</td>\n",
       "      <td>Single</td>\n",
       "      <td>No</td>\n",
       "      <td>Low</td>\n",
       "      <td>Medium</td>\n",
       "      <td>High</td>\n",
       "      <td>Urban</td>\n",
       "      <td>No</td>\n",
       "    </tr>\n",
       "    <tr>\n",
       "      <th>1</th>\n",
       "      <td>Argentina</td>\n",
       "      <td>72</td>\n",
       "      <td>Male</td>\n",
       "      <td>7</td>\n",
       "      <td>29.9</td>\n",
       "      <td>Medium</td>\n",
       "      <td>Former</td>\n",
       "      <td>Never</td>\n",
       "      <td>No</td>\n",
       "      <td>No</td>\n",
       "      <td>...</td>\n",
       "      <td>Healthy</td>\n",
       "      <td>Medium</td>\n",
       "      <td>Unemployed</td>\n",
       "      <td>Widowed</td>\n",
       "      <td>No</td>\n",
       "      <td>High</td>\n",
       "      <td>Low</td>\n",
       "      <td>High</td>\n",
       "      <td>Urban</td>\n",
       "      <td>No</td>\n",
       "    </tr>\n",
       "    <tr>\n",
       "      <th>2</th>\n",
       "      <td>South Africa</td>\n",
       "      <td>86</td>\n",
       "      <td>Female</td>\n",
       "      <td>19</td>\n",
       "      <td>22.9</td>\n",
       "      <td>High</td>\n",
       "      <td>Current</td>\n",
       "      <td>Occasionally</td>\n",
       "      <td>No</td>\n",
       "      <td>Yes</td>\n",
       "      <td>...</td>\n",
       "      <td>Average</td>\n",
       "      <td>Medium</td>\n",
       "      <td>Employed</td>\n",
       "      <td>Single</td>\n",
       "      <td>No</td>\n",
       "      <td>Low</td>\n",
       "      <td>Medium</td>\n",
       "      <td>High</td>\n",
       "      <td>Rural</td>\n",
       "      <td>No</td>\n",
       "    </tr>\n",
       "    <tr>\n",
       "      <th>3</th>\n",
       "      <td>China</td>\n",
       "      <td>53</td>\n",
       "      <td>Male</td>\n",
       "      <td>17</td>\n",
       "      <td>31.2</td>\n",
       "      <td>Low</td>\n",
       "      <td>Never</td>\n",
       "      <td>Regularly</td>\n",
       "      <td>Yes</td>\n",
       "      <td>No</td>\n",
       "      <td>...</td>\n",
       "      <td>Healthy</td>\n",
       "      <td>Medium</td>\n",
       "      <td>Retired</td>\n",
       "      <td>Single</td>\n",
       "      <td>No</td>\n",
       "      <td>High</td>\n",
       "      <td>Medium</td>\n",
       "      <td>Low</td>\n",
       "      <td>Rural</td>\n",
       "      <td>No</td>\n",
       "    </tr>\n",
       "    <tr>\n",
       "      <th>4</th>\n",
       "      <td>Sweden</td>\n",
       "      <td>58</td>\n",
       "      <td>Female</td>\n",
       "      <td>3</td>\n",
       "      <td>30.0</td>\n",
       "      <td>High</td>\n",
       "      <td>Former</td>\n",
       "      <td>Never</td>\n",
       "      <td>Yes</td>\n",
       "      <td>No</td>\n",
       "      <td>...</td>\n",
       "      <td>Unhealthy</td>\n",
       "      <td>High</td>\n",
       "      <td>Employed</td>\n",
       "      <td>Married</td>\n",
       "      <td>No</td>\n",
       "      <td>Low</td>\n",
       "      <td>Medium</td>\n",
       "      <td>High</td>\n",
       "      <td>Rural</td>\n",
       "      <td>No</td>\n",
       "    </tr>\n",
       "  </tbody>\n",
       "</table>\n",
       "<p>5 rows × 25 columns</p>\n",
       "</div>"
      ],
      "text/plain": [
       "        Country  Age  Gender  Education Level   BMI Physical Activity Level  \\\n",
       "0         Spain   90    Male                1  33.0                  Medium   \n",
       "1     Argentina   72    Male                7  29.9                  Medium   \n",
       "2  South Africa   86  Female               19  22.9                    High   \n",
       "3         China   53    Male               17  31.2                     Low   \n",
       "4        Sweden   58  Female                3  30.0                    High   \n",
       "\n",
       "  Smoking Status Alcohol Consumption Diabetes Hypertension  ...  \\\n",
       "0          Never        Occasionally       No           No  ...   \n",
       "1         Former               Never       No           No  ...   \n",
       "2        Current        Occasionally       No          Yes  ...   \n",
       "3          Never           Regularly      Yes           No  ...   \n",
       "4         Former               Never      Yes           No  ...   \n",
       "\n",
       "  Dietary Habits Air Pollution Exposure  Employment Status Marital Status  \\\n",
       "0        Healthy                   High            Retired         Single   \n",
       "1        Healthy                 Medium         Unemployed        Widowed   \n",
       "2        Average                 Medium           Employed         Single   \n",
       "3        Healthy                 Medium            Retired         Single   \n",
       "4      Unhealthy                   High           Employed        Married   \n",
       "\n",
       "  Genetic Risk Factor (APOE-ε4 allele) Social Engagement Level Income Level  \\\n",
       "0                                   No                     Low       Medium   \n",
       "1                                   No                    High          Low   \n",
       "2                                   No                     Low       Medium   \n",
       "3                                   No                    High       Medium   \n",
       "4                                   No                     Low       Medium   \n",
       "\n",
       "  Stress Levels Urban vs Rural Living Alzheimer’s Diagnosis  \n",
       "0          High                 Urban                    No  \n",
       "1          High                 Urban                    No  \n",
       "2          High                 Rural                    No  \n",
       "3           Low                 Rural                    No  \n",
       "4          High                 Rural                    No  \n",
       "\n",
       "[5 rows x 25 columns]"
      ]
     },
     "execution_count": 2,
     "metadata": {},
     "output_type": "execute_result"
    }
   ],
   "source": [
    "ruta = \"Data/alzheimers_prediction_dataset.csv\"\n",
    "df = pd.read_csv(ruta,encoding='utf-8', sep=\",\")\n",
    "df.head()"
   ]
  },
  {
   "cell_type": "code",
   "execution_count": 3,
   "metadata": {},
   "outputs": [
    {
     "name": "stdout",
     "output_type": "stream",
     "text": [
      "<class 'pandas.core.frame.DataFrame'>\n",
      "RangeIndex: 74283 entries, 0 to 74282\n",
      "Data columns (total 25 columns):\n",
      " #   Column                                Non-Null Count  Dtype  \n",
      "---  ------                                --------------  -----  \n",
      " 0   Country                               74283 non-null  object \n",
      " 1   Age                                   74283 non-null  int64  \n",
      " 2   Gender                                74283 non-null  object \n",
      " 3   Education Level                       74283 non-null  int64  \n",
      " 4   BMI                                   74283 non-null  float64\n",
      " 5   Physical Activity Level               74283 non-null  object \n",
      " 6   Smoking Status                        74283 non-null  object \n",
      " 7   Alcohol Consumption                   74283 non-null  object \n",
      " 8   Diabetes                              74283 non-null  object \n",
      " 9   Hypertension                          74283 non-null  object \n",
      " 10  Cholesterol Level                     74283 non-null  object \n",
      " 11  Family History of Alzheimer’s         74283 non-null  object \n",
      " 12  Cognitive Test Score                  74283 non-null  int64  \n",
      " 13  Depression Level                      74283 non-null  object \n",
      " 14  Sleep Quality                         74283 non-null  object \n",
      " 15  Dietary Habits                        74283 non-null  object \n",
      " 16  Air Pollution Exposure                74283 non-null  object \n",
      " 17  Employment Status                     74283 non-null  object \n",
      " 18  Marital Status                        74283 non-null  object \n",
      " 19  Genetic Risk Factor (APOE-ε4 allele)  74283 non-null  object \n",
      " 20  Social Engagement Level               74283 non-null  object \n",
      " 21  Income Level                          74283 non-null  object \n",
      " 22  Stress Levels                         74283 non-null  object \n",
      " 23  Urban vs Rural Living                 74283 non-null  object \n",
      " 24  Alzheimer’s Diagnosis                 74283 non-null  object \n",
      "dtypes: float64(1), int64(3), object(21)\n",
      "memory usage: 14.2+ MB\n"
     ]
    }
   ],
   "source": [
    "df.info()\n"
   ]
  },
  {
   "cell_type": "code",
   "execution_count": 4,
   "metadata": {},
   "outputs": [
    {
     "data": {
      "text/plain": [
       "Country                                 0\n",
       "Age                                     0\n",
       "Gender                                  0\n",
       "Education Level                         0\n",
       "BMI                                     0\n",
       "Physical Activity Level                 0\n",
       "Smoking Status                          0\n",
       "Alcohol Consumption                     0\n",
       "Diabetes                                0\n",
       "Hypertension                            0\n",
       "Cholesterol Level                       0\n",
       "Family History of Alzheimer’s           0\n",
       "Cognitive Test Score                    0\n",
       "Depression Level                        0\n",
       "Sleep Quality                           0\n",
       "Dietary Habits                          0\n",
       "Air Pollution Exposure                  0\n",
       "Employment Status                       0\n",
       "Marital Status                          0\n",
       "Genetic Risk Factor (APOE-ε4 allele)    0\n",
       "Social Engagement Level                 0\n",
       "Income Level                            0\n",
       "Stress Levels                           0\n",
       "Urban vs Rural Living                   0\n",
       "Alzheimer’s Diagnosis                   0\n",
       "dtype: int64"
      ]
     },
     "execution_count": 4,
     "metadata": {},
     "output_type": "execute_result"
    }
   ],
   "source": [
    "df.isnull().sum()"
   ]
  },
  {
   "cell_type": "code",
   "execution_count": 5,
   "metadata": {},
   "outputs": [
    {
     "data": {
      "text/html": [
       "<div>\n",
       "<style scoped>\n",
       "    .dataframe tbody tr th:only-of-type {\n",
       "        vertical-align: middle;\n",
       "    }\n",
       "\n",
       "    .dataframe tbody tr th {\n",
       "        vertical-align: top;\n",
       "    }\n",
       "\n",
       "    .dataframe thead th {\n",
       "        text-align: right;\n",
       "    }\n",
       "</style>\n",
       "<table border=\"1\" class=\"dataframe\">\n",
       "  <thead>\n",
       "    <tr style=\"text-align: right;\">\n",
       "      <th></th>\n",
       "      <th>Age</th>\n",
       "      <th>Education Level</th>\n",
       "      <th>BMI</th>\n",
       "      <th>Cognitive Test Score</th>\n",
       "    </tr>\n",
       "  </thead>\n",
       "  <tbody>\n",
       "    <tr>\n",
       "      <th>count</th>\n",
       "      <td>74283.000000</td>\n",
       "      <td>74283.000000</td>\n",
       "      <td>74283.000000</td>\n",
       "      <td>74283.000000</td>\n",
       "    </tr>\n",
       "    <tr>\n",
       "      <th>mean</th>\n",
       "      <td>71.964703</td>\n",
       "      <td>9.487514</td>\n",
       "      <td>26.780639</td>\n",
       "      <td>64.654241</td>\n",
       "    </tr>\n",
       "    <tr>\n",
       "      <th>std</th>\n",
       "      <td>12.980748</td>\n",
       "      <td>5.757020</td>\n",
       "      <td>4.764679</td>\n",
       "      <td>20.153247</td>\n",
       "    </tr>\n",
       "    <tr>\n",
       "      <th>min</th>\n",
       "      <td>50.000000</td>\n",
       "      <td>0.000000</td>\n",
       "      <td>18.500000</td>\n",
       "      <td>30.000000</td>\n",
       "    </tr>\n",
       "    <tr>\n",
       "      <th>25%</th>\n",
       "      <td>61.000000</td>\n",
       "      <td>4.000000</td>\n",
       "      <td>22.700000</td>\n",
       "      <td>47.000000</td>\n",
       "    </tr>\n",
       "    <tr>\n",
       "      <th>50%</th>\n",
       "      <td>72.000000</td>\n",
       "      <td>9.000000</td>\n",
       "      <td>26.800000</td>\n",
       "      <td>65.000000</td>\n",
       "    </tr>\n",
       "    <tr>\n",
       "      <th>75%</th>\n",
       "      <td>83.000000</td>\n",
       "      <td>14.000000</td>\n",
       "      <td>30.900000</td>\n",
       "      <td>82.000000</td>\n",
       "    </tr>\n",
       "    <tr>\n",
       "      <th>max</th>\n",
       "      <td>94.000000</td>\n",
       "      <td>19.000000</td>\n",
       "      <td>35.000000</td>\n",
       "      <td>99.000000</td>\n",
       "    </tr>\n",
       "  </tbody>\n",
       "</table>\n",
       "</div>"
      ],
      "text/plain": [
       "                Age  Education Level           BMI  Cognitive Test Score\n",
       "count  74283.000000     74283.000000  74283.000000          74283.000000\n",
       "mean      71.964703         9.487514     26.780639             64.654241\n",
       "std       12.980748         5.757020      4.764679             20.153247\n",
       "min       50.000000         0.000000     18.500000             30.000000\n",
       "25%       61.000000         4.000000     22.700000             47.000000\n",
       "50%       72.000000         9.000000     26.800000             65.000000\n",
       "75%       83.000000        14.000000     30.900000             82.000000\n",
       "max       94.000000        19.000000     35.000000             99.000000"
      ]
     },
     "execution_count": 5,
     "metadata": {},
     "output_type": "execute_result"
    }
   ],
   "source": [
    "df.describe()"
   ]
  },
  {
   "cell_type": "code",
   "execution_count": 6,
   "metadata": {},
   "outputs": [
    {
     "name": "stdout",
     "output_type": "stream",
     "text": [
      "Alzheimer’s Diagnosis\n",
      "No     43570\n",
      "Yes    30713\n",
      "Name: count, dtype: int64\n"
     ]
    }
   ],
   "source": [
    "print(df['Alzheimer’s Diagnosis'].value_counts())\n"
   ]
  },
  {
   "cell_type": "code",
   "execution_count": 7,
   "metadata": {},
   "outputs": [
    {
     "data": {
      "image/png": "[encoded data removed]",
      "text/plain": [
       "<Figure size 640x480 with 1 Axes>"
      ]
     },
     "metadata": {},
     "output_type": "display_data"
    }
   ],
   "source": [
    "sns.countplot(x=df['Alzheimer’s Diagnosis'])\n",
    "plt.title('Diagnóstico de Alzheimer')\n",
    "plt.xlabel('Diagnóstico (0: No Alzheimer, 1: Alzheimer)')\n",
    "plt.ylabel('Cantidad de Pacientes')\n",
    "plt.show()"
   ]
  },
  {
   "cell_type": "markdown",
   "metadata": {},
   "source": [
    "## 2. Limpieza y preprocesamiento\n",
    "Nuestro dataset tiene tanto variables categóricas como variables numericas, debido a esto es necesario aplicar un preprocesamiento de la data"
   ]
  },
  {
   "cell_type": "markdown",
   "metadata": {},
   "source": [
    "### 2.1 Conversión de variables categóricas\n",
    "\n",
    "En este paso vamos a convertir esta variables categoricas a valores numerico que pueda entender la computadora. "
   ]
  },
  {
   "cell_type": "code",
   "execution_count": 8,
   "metadata": {},
   "outputs": [
    {
     "name": "stdout",
     "output_type": "stream",
     "text": [
      "<class 'pandas.core.frame.DataFrame'>\n",
      "RangeIndex: 74283 entries, 0 to 74282\n",
      "Data columns (total 25 columns):\n",
      " #   Column                                Non-Null Count  Dtype  \n",
      "---  ------                                --------------  -----  \n",
      " 0   Country                               74283 non-null  object \n",
      " 1   Age                                   74283 non-null  int64  \n",
      " 2   Gender                                74283 non-null  object \n",
      " 3   Education Level                       74283 non-null  int64  \n",
      " 4   BMI                                   74283 non-null  float64\n",
      " 5   Physical Activity Level               74283 non-null  object \n",
      " 6   Smoking Status                        74283 non-null  object \n",
      " 7   Alcohol Consumption                   74283 non-null  object \n",
      " 8   Diabetes                              74283 non-null  object \n",
      " 9   Hypertension                          74283 non-null  object \n",
      " 10  Cholesterol Level                     74283 non-null  object \n",
      " 11  Family History of Alzheimer’s         74283 non-null  object \n",
      " 12  Cognitive Test Score                  74283 non-null  int64  \n",
      " 13  Depression Level                      74283 non-null  object \n",
      " 14  Sleep Quality                         74283 non-null  object \n",
      " 15  Dietary Habits                        74283 non-null  object \n",
      " 16  Air Pollution Exposure                74283 non-null  object \n",
      " 17  Employment Status                     74283 non-null  object \n",
      " 18  Marital Status                        74283 non-null  object \n",
      " 19  Genetic Risk Factor (APOE-ε4 allele)  74283 non-null  object \n",
      " 20  Social Engagement Level               74283 non-null  object \n",
      " 21  Income Level                          74283 non-null  object \n",
      " 22  Stress Levels                         74283 non-null  object \n",
      " 23  Urban vs Rural Living                 74283 non-null  object \n",
      " 24  Alzheimer’s Diagnosis                 74283 non-null  object \n",
      "dtypes: float64(1), int64(3), object(21)\n",
      "memory usage: 14.2+ MB\n"
     ]
    }
   ],
   "source": [
    "df.info()"
   ]
  },
  {
   "cell_type": "code",
   "execution_count": 9,
   "metadata": {},
   "outputs": [
    {
     "name": "stdout",
     "output_type": "stream",
     "text": [
      "Index(['Country', 'Age', 'Gender', 'Education Level', 'BMI',\n",
      "       'Physical Activity Level', 'Smoking Status', 'Alcohol Consumption',\n",
      "       'Diabetes', 'Hypertension', 'Cholesterol Level',\n",
      "       'Family History of Alzheimer’s', 'Cognitive Test Score',\n",
      "       'Depression Level', 'Sleep Quality', 'Dietary Habits',\n",
      "       'Air Pollution Exposure', 'Employment Status', 'Marital Status',\n",
      "       'Genetic Risk Factor (APOE-ε4 allele)', 'Social Engagement Level',\n",
      "       'Income Level', 'Stress Levels', 'Urban vs Rural Living',\n",
      "       'Alzheimer’s Diagnosis'],\n",
      "      dtype='object')\n"
     ]
    },
    {
     "data": {
      "text/plain": [
       "' print(\"Country\\n\",df[\\'Country\\'].unique())\\nprint(\"\\nEducation Level\\n\",df[\\'Education Level\\'].unique())\\nprint(\"\\nPhysical Activity Level\\n\", df[\\'Physical Activity Level\\'].unique())\\nprint(\"\\nSmoking Status\\n\", df[\\'Smoking Status\\'].unique())\\nprint(\"\\nAlcohol Consumption\\n\", df[\\'Alcohol Consumption\\'].unique())\\nprint(\"\\nDiabetes\\n\", df[\\'Diabetes\\'].unique())\\nprint(\"\\nHypertension\\n\", df[\\'Hypertension\\'].unique())\\nprint(\"\\nCholesterol Level\\n\", df[\\'Cholesterol Level\\'].unique())\\nprint(\"\\nFamily History of Alzheimer’s\\n\", df[\\'Family History of Alzheimer’s\\'].unique())\\nprint(\"\\nDepression Level\\n\", df[\\'Depression Level\\'].unique())\\nprint(\"\\nSleep Quality\\n\", df[\\'Sleep Quality\\'].unique())\\nprint(\"\\nDietary Habits\\n\", df[\\'Dietary Habits\\'].unique())\\nprint(\"\\nAir Pollution Exposure\\n\", df[\\'Air Pollution Exposure\\'].unique())\\nprint(\"\\nEmployment Status\\n\", df[\\'Employment Status\\'].unique())\\nprint(\"\\nMarital Status\\n\", df[\\'Marital Status\\'].unique())\\nprint(\"\\nGenetic Risk Factor (APOE-ε4 allele)\\n\", df[\\'Genetic Risk Factor (APOE-ε4 allele)\\'].unique())\\nprint(\"\\nSocial Engagement Level\\n\", df[\\'Social Engagement Level\\'].unique())\\nprint(\"\\nIncome Level\\n\", df[\\'Income Level\\'].unique())\\nprint(\"\\nStress Levels\\n\", df[\\'Stress Levels\\'].unique())\\nprint(\"\\nUrban vs Rural Living\\n\", df[\\'Urban vs Rural Living\\'].unique())\\n '"
      ]
     },
     "execution_count": 9,
     "metadata": {},
     "output_type": "execute_result"
    }
   ],
   "source": [
    "\n",
    "print(df.columns)\n",
    "\n",
    "\"\"\" print(\"Country\\n\",df['Country'].unique())\n",
    "print(\"\\nEducation Level\\n\",df['Education Level'].unique())\n",
    "print(\"\\nPhysical Activity Level\\n\", df['Physical Activity Level'].unique())\n",
    "print(\"\\nSmoking Status\\n\", df['Smoking Status'].unique())\n",
    "print(\"\\nAlcohol Consumption\\n\", df['Alcohol Consumption'].unique())\n",
    "print(\"\\nDiabetes\\n\", df['Diabetes'].unique())\n",
    "print(\"\\nHypertension\\n\", df['Hypertension'].unique())\n",
    "print(\"\\nCholesterol Level\\n\", df['Cholesterol Level'].unique())\n",
    "print(\"\\nFamily History of Alzheimer’s\\n\", df['Family History of Alzheimer’s'].unique())\n",
    "print(\"\\nDepression Level\\n\", df['Depression Level'].unique())\n",
    "print(\"\\nSleep Quality\\n\", df['Sleep Quality'].unique())\n",
    "print(\"\\nDietary Habits\\n\", df['Dietary Habits'].unique())\n",
    "print(\"\\nAir Pollution Exposure\\n\", df['Air Pollution Exposure'].unique())\n",
    "print(\"\\nEmployment Status\\n\", df['Employment Status'].unique())\n",
    "print(\"\\nMarital Status\\n\", df['Marital Status'].unique())\n",
    "print(\"\\nGenetic Risk Factor (APOE-ε4 allele)\\n\", df['Genetic Risk Factor (APOE-ε4 allele)'].unique())\n",
    "print(\"\\nSocial Engagement Level\\n\", df['Social Engagement Level'].unique())\n",
    "print(\"\\nIncome Level\\n\", df['Income Level'].unique())\n",
    "print(\"\\nStress Levels\\n\", df['Stress Levels'].unique())\n",
    "print(\"\\nUrban vs Rural Living\\n\", df['Urban vs Rural Living'].unique())\n",
    " \"\"\""
   ]
  },
  {
   "cell_type": "code",
   "execution_count": 10,
   "metadata": {},
   "outputs": [
    {
     "data": {
      "text/html": [
       "<div>\n",
       "<style scoped>\n",
       "    .dataframe tbody tr th:only-of-type {\n",
       "        vertical-align: middle;\n",
       "    }\n",
       "\n",
       "    .dataframe tbody tr th {\n",
       "        vertical-align: top;\n",
       "    }\n",
       "\n",
       "    .dataframe thead th {\n",
       "        text-align: right;\n",
       "    }\n",
       "</style>\n",
       "<table border=\"1\" class=\"dataframe\">\n",
       "  <thead>\n",
       "    <tr style=\"text-align: right;\">\n",
       "      <th></th>\n",
       "      <th>Country</th>\n",
       "      <th>Age</th>\n",
       "      <th>Education Level</th>\n",
       "      <th>BMI</th>\n",
       "      <th>Physical Activity Level</th>\n",
       "      <th>Smoking Status</th>\n",
       "      <th>Alcohol Consumption</th>\n",
       "      <th>Cholesterol Level</th>\n",
       "      <th>Family History of Alzheimer’s</th>\n",
       "      <th>Cognitive Test Score</th>\n",
       "      <th>...</th>\n",
       "      <th>Stress Levels</th>\n",
       "      <th>Alzheimer’s Diagnosis</th>\n",
       "      <th>Gender_Male</th>\n",
       "      <th>Diabetes_Yes</th>\n",
       "      <th>Hypertension_Yes</th>\n",
       "      <th>Employment Status_Retired</th>\n",
       "      <th>Employment Status_Unemployed</th>\n",
       "      <th>Marital Status_Single</th>\n",
       "      <th>Marital Status_Widowed</th>\n",
       "      <th>Urban vs Rural Living_Urban</th>\n",
       "    </tr>\n",
       "  </thead>\n",
       "  <tbody>\n",
       "    <tr>\n",
       "      <th>0</th>\n",
       "      <td>0.399946</td>\n",
       "      <td>90</td>\n",
       "      <td>1</td>\n",
       "      <td>33.0</td>\n",
       "      <td>1</td>\n",
       "      <td>0</td>\n",
       "      <td>1</td>\n",
       "      <td>0</td>\n",
       "      <td>0</td>\n",
       "      <td>90</td>\n",
       "      <td>...</td>\n",
       "      <td>2</td>\n",
       "      <td>0</td>\n",
       "      <td>True</td>\n",
       "      <td>False</td>\n",
       "      <td>False</td>\n",
       "      <td>True</td>\n",
       "      <td>False</td>\n",
       "      <td>True</td>\n",
       "      <td>False</td>\n",
       "      <td>True</td>\n",
       "    </tr>\n",
       "    <tr>\n",
       "      <th>1</th>\n",
       "      <td>0.402037</td>\n",
       "      <td>72</td>\n",
       "      <td>7</td>\n",
       "      <td>29.9</td>\n",
       "      <td>1</td>\n",
       "      <td>1</td>\n",
       "      <td>0</td>\n",
       "      <td>0</td>\n",
       "      <td>0</td>\n",
       "      <td>65</td>\n",
       "      <td>...</td>\n",
       "      <td>2</td>\n",
       "      <td>0</td>\n",
       "      <td>True</td>\n",
       "      <td>False</td>\n",
       "      <td>False</td>\n",
       "      <td>False</td>\n",
       "      <td>True</td>\n",
       "      <td>False</td>\n",
       "      <td>True</td>\n",
       "      <td>True</td>\n",
       "    </tr>\n",
       "    <tr>\n",
       "      <th>2</th>\n",
       "      <td>0.495213</td>\n",
       "      <td>86</td>\n",
       "      <td>19</td>\n",
       "      <td>22.9</td>\n",
       "      <td>2</td>\n",
       "      <td>2</td>\n",
       "      <td>1</td>\n",
       "      <td>0</td>\n",
       "      <td>0</td>\n",
       "      <td>43</td>\n",
       "      <td>...</td>\n",
       "      <td>2</td>\n",
       "      <td>0</td>\n",
       "      <td>False</td>\n",
       "      <td>False</td>\n",
       "      <td>True</td>\n",
       "      <td>False</td>\n",
       "      <td>False</td>\n",
       "      <td>True</td>\n",
       "      <td>False</td>\n",
       "      <td>False</td>\n",
       "    </tr>\n",
       "    <tr>\n",
       "      <th>3</th>\n",
       "      <td>0.386414</td>\n",
       "      <td>53</td>\n",
       "      <td>17</td>\n",
       "      <td>31.2</td>\n",
       "      <td>0</td>\n",
       "      <td>0</td>\n",
       "      <td>2</td>\n",
       "      <td>0</td>\n",
       "      <td>0</td>\n",
       "      <td>81</td>\n",
       "      <td>...</td>\n",
       "      <td>0</td>\n",
       "      <td>0</td>\n",
       "      <td>True</td>\n",
       "      <td>True</td>\n",
       "      <td>False</td>\n",
       "      <td>True</td>\n",
       "      <td>False</td>\n",
       "      <td>True</td>\n",
       "      <td>False</td>\n",
       "      <td>False</td>\n",
       "    </tr>\n",
       "    <tr>\n",
       "      <th>4</th>\n",
       "      <td>0.342098</td>\n",
       "      <td>58</td>\n",
       "      <td>3</td>\n",
       "      <td>30.0</td>\n",
       "      <td>2</td>\n",
       "      <td>1</td>\n",
       "      <td>0</td>\n",
       "      <td>0</td>\n",
       "      <td>0</td>\n",
       "      <td>49</td>\n",
       "      <td>...</td>\n",
       "      <td>2</td>\n",
       "      <td>0</td>\n",
       "      <td>False</td>\n",
       "      <td>True</td>\n",
       "      <td>False</td>\n",
       "      <td>False</td>\n",
       "      <td>False</td>\n",
       "      <td>False</td>\n",
       "      <td>False</td>\n",
       "      <td>False</td>\n",
       "    </tr>\n",
       "  </tbody>\n",
       "</table>\n",
       "<p>5 rows × 27 columns</p>\n",
       "</div>"
      ],
      "text/plain": [
       "    Country  Age  Education Level   BMI  Physical Activity Level  \\\n",
       "0  0.399946   90                1  33.0                        1   \n",
       "1  0.402037   72                7  29.9                        1   \n",
       "2  0.495213   86               19  22.9                        2   \n",
       "3  0.386414   53               17  31.2                        0   \n",
       "4  0.342098   58                3  30.0                        2   \n",
       "\n",
       "   Smoking Status  Alcohol Consumption  Cholesterol Level  \\\n",
       "0               0                    1                  0   \n",
       "1               1                    0                  0   \n",
       "2               2                    1                  0   \n",
       "3               0                    2                  0   \n",
       "4               1                    0                  0   \n",
       "\n",
       "   Family History of Alzheimer’s  Cognitive Test Score  ...  Stress Levels  \\\n",
       "0                              0                    90  ...              2   \n",
       "1                              0                    65  ...              2   \n",
       "2                              0                    43  ...              2   \n",
       "3                              0                    81  ...              0   \n",
       "4                              0                    49  ...              2   \n",
       "\n",
       "   Alzheimer’s Diagnosis  Gender_Male  Diabetes_Yes  Hypertension_Yes  \\\n",
       "0                      0         True         False             False   \n",
       "1                      0         True         False             False   \n",
       "2                      0        False         False              True   \n",
       "3                      0         True          True             False   \n",
       "4                      0        False          True             False   \n",
       "\n",
       "   Employment Status_Retired  Employment Status_Unemployed  \\\n",
       "0                       True                         False   \n",
       "1                      False                          True   \n",
       "2                      False                         False   \n",
       "3                       True                         False   \n",
       "4                      False                         False   \n",
       "\n",
       "   Marital Status_Single  Marital Status_Widowed  Urban vs Rural Living_Urban  \n",
       "0                   True                   False                         True  \n",
       "1                  False                    True                         True  \n",
       "2                   True                   False                        False  \n",
       "3                   True                   False                        False  \n",
       "4                  False                   False                        False  \n",
       "\n",
       "[5 rows x 27 columns]"
      ]
     },
     "execution_count": 10,
     "metadata": {},
     "output_type": "execute_result"
    }
   ],
   "source": [
    "#Variables categóricas Nominales (Sin orden específico)\n",
    "#One-Hot Encoding: Para variables con pocas categorías\n",
    "\n",
    "cols=['Gender','Diabetes','Hypertension','Employment Status','Marital Status','Urban vs Rural Living']\n",
    "df = pd.get_dummies(df, columns=cols, drop_first=True)\n",
    "\n",
    "\n",
    "# Variables categiricas Ordinales (Orden específico)\n",
    "df['Cholesterol Level'] = df['Cholesterol Level'].map({'Normal': 0, 'High': 1})\n",
    "df['Family History of Alzheimer’s'] = df['Family History of Alzheimer’s'].map({'No': 0, 'Yes': 1})\n",
    "df['Genetic Risk Factor (APOE-ε4 allele)'] = df['Genetic Risk Factor (APOE-ε4 allele)'].map({'No': 0, 'Yes': 1})\n",
    "\n",
    "\n",
    "df['Physical Activity Level'] = df['Physical Activity Level'].map({'Low': 0, 'Medium': 1, 'High': 2})\n",
    "df['Smoking Status'] = df['Smoking Status'].map({'Never': 0, 'Former': 1, 'Current': 2})\n",
    "df['Alcohol Consumption'] = df['Alcohol Consumption'].map({'Never': 0, 'Occasionally': 1, 'Regularly': 2})\n",
    "df['Depression Level'] = df['Depression Level'].map({'Low': 0, 'Medium': 1, 'High': 2})\n",
    "df['Sleep Quality'] = df['Sleep Quality'].map({'Poor': 0, 'Average': 1, 'Good': 2})\n",
    "df['Dietary Habits'] = df['Dietary Habits'].map({'Unhealthy': 0, 'Average': 1, 'Healthy': 2})\n",
    "df['Air Pollution Exposure'] = df['Air Pollution Exposure'].map({ 'Low':0 ,'Medium':1,'High':2})\n",
    "df['Social Engagement Level'] = df['Social Engagement Level'].map({'Low': 0, 'Medium': 1, 'High': 2})\n",
    "df['Stress Levels'] = df['Stress Levels'].map({'Low': 0, 'Medium': 1, 'High': 2})\n",
    "df['Income Level'] = df['Income Level'].map({'Low': 0, 'Medium': 1, 'High': 2})\n",
    "\n",
    "# Clonaremos la data actual en otro espacio de memoría\n",
    "df2 = df.copy(deep=1)\n",
    "\n",
    "# Aplicar Target Encoding a 'Country' \n",
    "df['Alzheimer’s Diagnosis'] = df['Alzheimer’s Diagnosis'].map({'No': 0, 'Yes': 1}) #¡Target de la data!\n",
    "target_enc = TargetEncoder()\n",
    "df['Country'] = target_enc.fit_transform(df['Country'],df['Alzheimer’s Diagnosis'])\n",
    "\n",
    "df.head()"
   ]
  },
  {
   "cell_type": "code",
   "execution_count": 11,
   "metadata": {},
   "outputs": [
    {
     "name": "stdout",
     "output_type": "stream",
     "text": [
      "<class 'pandas.core.frame.DataFrame'>\n",
      "RangeIndex: 74283 entries, 0 to 74282\n",
      "Data columns (total 27 columns):\n",
      " #   Column                                Non-Null Count  Dtype  \n",
      "---  ------                                --------------  -----  \n",
      " 0   Country                               74283 non-null  float64\n",
      " 1   Age                                   74283 non-null  int64  \n",
      " 2   Education Level                       74283 non-null  int64  \n",
      " 3   BMI                                   74283 non-null  float64\n",
      " 4   Physical Activity Level               74283 non-null  int64  \n",
      " 5   Smoking Status                        74283 non-null  int64  \n",
      " 6   Alcohol Consumption                   74283 non-null  int64  \n",
      " 7   Cholesterol Level                     74283 non-null  int64  \n",
      " 8   Family History of Alzheimer’s         74283 non-null  int64  \n",
      " 9   Cognitive Test Score                  74283 non-null  int64  \n",
      " 10  Depression Level                      74283 non-null  int64  \n",
      " 11  Sleep Quality                         74283 non-null  int64  \n",
      " 12  Dietary Habits                        74283 non-null  int64  \n",
      " 13  Air Pollution Exposure                74283 non-null  int64  \n",
      " 14  Genetic Risk Factor (APOE-ε4 allele)  74283 non-null  int64  \n",
      " 15  Social Engagement Level               74283 non-null  int64  \n",
      " 16  Income Level                          74283 non-null  int64  \n",
      " 17  Stress Levels                         74283 non-null  int64  \n",
      " 18  Alzheimer’s Diagnosis                 74283 non-null  int64  \n",
      " 19  Gender_Male                           74283 non-null  bool   \n",
      " 20  Diabetes_Yes                          74283 non-null  bool   \n",
      " 21  Hypertension_Yes                      74283 non-null  bool   \n",
      " 22  Employment Status_Retired             74283 non-null  bool   \n",
      " 23  Employment Status_Unemployed          74283 non-null  bool   \n",
      " 24  Marital Status_Single                 74283 non-null  bool   \n",
      " 25  Marital Status_Widowed                74283 non-null  bool   \n",
      " 26  Urban vs Rural Living_Urban           74283 non-null  bool   \n",
      "dtypes: bool(8), float64(2), int64(17)\n",
      "memory usage: 11.3 MB\n"
     ]
    }
   ],
   "source": [
    "df.info()"
   ]
  },
  {
   "cell_type": "markdown",
   "metadata": {},
   "source": [
    "### 2.2. Normalización de variables numéricas"
   ]
  },
  {
   "cell_type": "code",
   "execution_count": 12,
   "metadata": {},
   "outputs": [],
   "source": [
    "from sklearn.preprocessing import StandardScaler, MinMaxScaler\n",
    "scaler = MinMaxScaler()\n",
    "df_Normalizado = df.copy()\n",
    "df_Normalizado [['Physical Activity Level','Smoking Status','Alcohol Consumption','Depression Level',\n",
    "                 'Sleep Quality','Dietary Habits','Air Pollution Exposure','Social Engagement Level',\n",
    "                 'Stress Levels','Income Level']] = scaler.fit_transform(df[['Physical Activity Level',\n",
    "                 'Smoking Status','Alcohol Consumption','Depression Level','Sleep Quality',\n",
    "                 'Dietary Habits','Air Pollution Exposure','Social Engagement Level','Stress Levels',\n",
    "                 'Income Level']])\n"
   ]
  },
  {
   "cell_type": "markdown",
   "metadata": {},
   "source": [
    "## 3. Análisis Exploratorio"
   ]
  },
  {
   "cell_type": "markdown",
   "metadata": {},
   "source": [
    "### 3.1. Visualización de correlaciones"
   ]
  },
  {
   "cell_type": "code",
   "execution_count": 13,
   "metadata": {},
   "outputs": [
    {
     "data": {
      "application/vnd.plotly.v1+json": {
       "config": {
        "plotlyServerURL": "https://plot.ly"
       },
       "data": [
        {
         "coloraxis": "coloraxis",
         "hovertemplate": "x: %{x}<br>y: %{y}<br>color: %{z}<extra></extra>",
         "name": "0",
         "texttemplate": "%{z}",
         "type": "heatmap",
         "x": [
          "Country",
          "Age",
          "Education Level",
          "BMI",
          "Physical Activity Level",
          "Smoking Status",
          "Alcohol Consumption",
          "Cholesterol Level",
          "Family History of Alzheimer’s",
          "Cognitive Test Score",
          "Depression Level",
          "Sleep Quality",
          "Dietary Habits",
          "Air Pollution Exposure",
          "Genetic Risk Factor (APOE-ε4 allele)",
          "Social Engagement Level",
          "Income Level",
          "Stress Levels",
          "Alzheimer’s Diagnosis",
          "Gender_Male",
          "Diabetes_Yes",
          "Hypertension_Yes",
          "Employment Status_Retired",
          "Employment Status_Unemployed",
          "Marital Status_Single",
          "Marital Status_Widowed",
          "Urban vs Rural Living_Urban"
         ],
         "xaxis": "x",
         "y": [
          "Country",
          "Age",
          "Education Level",
          "BMI",
          "Physical Activity Level",
          "Smoking Status",
          "Alcohol Consumption",
          "Cholesterol Level",
          "Family History of Alzheimer’s",
          "Cognitive Test Score",
          "Depression Level",
          "Sleep Quality",
          "Dietary Habits",
          "Air Pollution Exposure",
          "Genetic Risk Factor (APOE-ε4 allele)",
          "Social Engagement Level",
          "Income Level",
          "Stress Levels",
          "Alzheimer’s Diagnosis",
          "Gender_Male",
          "Diabetes_Yes",
          "Hypertension_Yes",
          "Employment Status_Retired",
          "Employment Status_Unemployed",
          "Marital Status_Single",
          "Marital Status_Widowed",
          "Urban vs Rural Living_Urban"
         ],
         "yaxis": "y",
         "z": [
          [
           1,
           0.0017726893731578681,
           0.0006637535739910163,
           -0.005135726551681956,
           0.0016998962130250694,
           -0.0015054956429599007,
           0.00039920773294990986,
           0.004512628289177582,
           0.0017159695430043942,
           0.0003224495590102235,
           0.002525505586302322,
           0.009796192435339733,
           -0.0011591758122229008,
           0.0025722116922408424,
           -0.0012053330246693601,
           0.002032174501922229,
           -0.004816466608215446,
           0.0005246134733652225,
           0.10737888080100152,
           0.0001938618102732209,
           0.00864520045142144,
           0.005789895746486436,
           -0.008034231243902233,
           0.00779337244012675,
           -0.002204949340837383,
           -0.0000050472882611837685,
           0.000706270086281662
          ],
          [
           0.0017726893731578681,
           1,
           0.0065107987671842674,
           -0.00013548705054519498,
           0.00411370236070784,
           -0.0046258705678647125,
           0.004268734294048441,
           0.0037498542467576082,
           -0.005028106462650662,
           0.00004942345025300263,
           0.0009436462883118922,
           0.0019432001826551017,
           -0.000022449984195933466,
           -0.0014222432676392863,
           0.0034696074417677643,
           -0.001881778930830327,
           -0.0011445105555001579,
           0.0011074267687118278,
           0.4199226502179315,
           0.0040388467882283155,
           -0.0012870620272804724,
           -0.0016803479784387025,
           0.004429655669810544,
           0.000269196009618627,
           -0.0010640083517003142,
           -0.0030356759595183682,
           0.0021630051234116814
          ],
          [
           0.0006637535739910163,
           0.0065107987671842674,
           1,
           0.005443679983836077,
           0.0009807299250999373,
           0.0052559575921790275,
           0.008587386836338832,
           -0.0013438246767856876,
           -0.0006089274448329898,
           -0.0025187627636933017,
           0.002227261077001655,
           -0.0023274110030865576,
           -0.004781339312243913,
           0.0017151600191728886,
           0.0030199215871518424,
           -0.006952970526307828,
           0.000057700638603893426,
           -0.0020023690665076557,
           0.003732189833564179,
           0.00006738197926783418,
           0.000030733970917929915,
           -0.004303801855809469,
           0.004769843634786286,
           -0.0034353902766497517,
           0.0013228689191784075,
           0.0026544430028557484,
           0.0012439380655392838
          ],
          [
           -0.005135726551681956,
           -0.00013548705054519498,
           0.005443679983836077,
           1,
           0.009831610702926265,
           -0.00288318968155805,
           -0.001514620953613069,
           -0.0027375632826666225,
           -0.00438743823321233,
           0.005538333227443115,
           0.0052871180459274246,
           0.004329250617173499,
           0.0028298495177754433,
           -0.0013146363646932857,
           -0.006855683482529977,
           0.004073867971973821,
           0.006794740743890742,
           -0.0011410173229166754,
           -0.0017026436506842062,
           -0.0013041040991888125,
           0.0020040220236206135,
           -0.0027785602040810422,
           -0.0005945171233852822,
           0.003296782959700315,
           0.0024026956143024854,
           -0.003152858612827066,
           -0.0012549914732091594
          ],
          [
           0.0016998962130250694,
           0.00411370236070784,
           0.0009807299250999373,
           0.009831610702926265,
           1,
           -0.0027247886752224215,
           0.002140301013112273,
           0.004681316887406122,
           -0.006136505202801247,
           0.00006067676620395315,
           -0.00017968728309487576,
           -0.003972300681347065,
           -0.006183800546855082,
           -0.001277290556199199,
           -0.0022158542516108105,
           -0.0007464356526152762,
           0.0014906868557460044,
           0.002425850621496551,
           0.0023104299744917795,
           0.0013720218072134514,
           0.00038539290905584506,
           -0.0038358606457483593,
           0.0010153506247784507,
           0.0017447062231560194,
           -0.0031513504143330442,
           -0.00289672498912813,
           0.004862372803280003
          ],
          [
           -0.0015054956429599007,
           -0.0046258705678647125,
           0.0052559575921790275,
           -0.00288318968155805,
           -0.0027247886752224215,
           1,
           0.006433763763753865,
           0.00360775308257382,
           -0.0017422724231645397,
           -0.004943382148221866,
           0.0010934848387641797,
           0.008190231685123525,
           -0.007190930363097514,
           -0.0007577220728979227,
           -0.002341276499886928,
           0.004644218942237951,
           0.00046407581601962675,
           0.004061503958888567,
           -0.0036898070325446647,
           -0.0002057127564337334,
           0.0001748566171526503,
           0.004456755461302275,
           -0.002210110192218492,
           0.002813152551195629,
           -0.007246148716079918,
           0.007287970709924036,
           -0.0017570424045036206
          ],
          [
           0.00039920773294990986,
           0.004268734294048441,
           0.008587386836338832,
           -0.001514620953613069,
           0.002140301013112273,
           0.006433763763753865,
           1,
           0.002448915006693905,
           -0.0018662818489784455,
           0.00611294876613231,
           -0.003536457775066538,
           -0.001588596788866743,
           0.0012936863324775102,
           -0.0036620689697642473,
           -0.001563381787456773,
           0.0015541016737360787,
           0.001106629249148057,
           -0.0015981433715095993,
           0.001790054927921847,
           0.0020861665828580604,
           0.0014545827793121006,
           -0.003317922496246074,
           -0.00033996823976975153,
           0.000992151803128705,
           -0.00034698668028675035,
           -0.0049400899307064814,
           -0.0014367148782499749
          ],
          [
           0.004512628289177582,
           0.0037498542467576082,
           -0.0013438246767856876,
           -0.0027375632826666225,
           0.004681316887406122,
           0.00360775308257382,
           0.002448915006693905,
           1,
           -0.0038599619457623416,
           -0.003969590199456293,
           0.00258551402008486,
           0.005506431107200531,
           -0.004791315288584805,
           -0.00280737226100565,
           0.0017994073217423418,
           -0.005328060105644677,
           0.00009004117454414737,
           -0.004072272599842584,
           -0.002103767358180093,
           0.00025175501166881293,
           -0.0047685973481408775,
           0.0010795277459547275,
           0.006452756921452299,
           -0.0025955066769565126,
           -0.004976385479116727,
           0.005082862199456482,
           -0.003202736380687915
          ],
          [
           0.0017159695430043942,
           -0.005028106462650662,
           -0.0006089274448329898,
           -0.00438743823321233,
           -0.006136505202801247,
           -0.0017422724231645397,
           -0.0018662818489784455,
           -0.0038599619457623416,
           1,
           -0.0018642659551271704,
           0.0019732055278548883,
           0.003145609691801705,
           -0.0016216957579583623,
           0.0038851819872601943,
           -0.0015057118423046543,
           0.0005761889227906715,
           0.0007719816081544419,
           0.005256163192993835,
           0.140884596049815,
           0.0036277930146920304,
           -0.002770721756904822,
           -0.00564775710196181,
           -0.0013176888525567613,
           0.0035926405634927943,
           0.002687609534936846,
           -0.001396074753397403,
           0.006107570022491483
          ],
          [
           0.0003224495590102235,
           0.00004942345025300263,
           -0.0025187627636933017,
           0.005538333227443115,
           0.00006067676620395315,
           -0.004943382148221866,
           0.00611294876613231,
           -0.003969590199456293,
           -0.0018642659551271704,
           1,
           -0.003852649820226293,
           0.0030557950519837463,
           -0.004238412927785386,
           0.004068053107931227,
           -0.001365249624013632,
           -0.01403013311979368,
           0.000353008204234136,
           -0.0011433546440222677,
           -0.0011417359114448355,
           0.003105929839324369,
           -0.00017074412555320086,
           0.004611704749027029,
           -0.0023338091224426793,
           0.000024311412861449792,
           0.002569151861734786,
           -0.0019694419092163183,
           0.0017484412194238236
          ],
          [
           0.002525505586302322,
           0.0009436462883118922,
           0.002227261077001655,
           0.0052871180459274246,
           -0.00017968728309487576,
           0.0010934848387641797,
           -0.003536457775066538,
           0.00258551402008486,
           0.0019732055278548883,
           -0.003852649820226293,
           1,
           -0.0010759770620618178,
           0.0027125959139485912,
           0.003762704742304718,
           0.0004165222535459471,
           -0.001983144194399413,
           -0.0038326863656462555,
           -0.006820622549343358,
           0.000483285552099052,
           -0.0009277026952990443,
           0.003023183466736552,
           -0.00019258901747013255,
           -0.00468174889753288,
           -0.00722989575828155,
           -0.0003224601538616681,
           0.005196097884804728,
           0.0015160389360853916
          ],
          [
           0.009796192435339733,
           0.0019432001826551017,
           -0.0023274110030865576,
           0.004329250617173499,
           -0.003972300681347065,
           0.008190231685123525,
           -0.001588596788866743,
           0.005506431107200531,
           0.003145609691801705,
           0.0030557950519837463,
           -0.0010759770620618178,
           1,
           0.00024063864331144377,
           0.0010203593863296384,
           -0.00029319961838645213,
           -0.002701592777460047,
           -0.0030772395535401155,
           -0.00273627092691242,
           -0.0011217428809453878,
           0.004748045762042605,
           0.005517822145032939,
           0.004133135969799291,
           0.0011773458458223265,
           0.0026540747962313987,
           0.0031118590459086287,
           -0.002085887667142745,
           0.0012393039339438302
          ],
          [
           -0.0011591758122229008,
           -0.000022449984195933466,
           -0.004781339312243913,
           0.0028298495177754433,
           -0.006183800546855082,
           -0.007190930363097514,
           0.0012936863324775102,
           -0.004791315288584805,
           -0.0016216957579583623,
           -0.004238412927785386,
           0.0027125959139485912,
           0.00024063864331144377,
           1,
           0.008490432227085221,
           -0.0016562640270431819,
           0.005790143270693031,
           0.004945249366753047,
           0.00044568298585970846,
           -0.004363837936798606,
           0.00677107543452703,
           0.0038497774056586186,
           -0.0006852174123466495,
           0.001495313378617984,
           -0.00575456407838048,
           -0.0016882435996342453,
           -0.0006075225531210564,
           0.00019843670732869192
          ],
          [
           0.0025722116922408424,
           -0.0014222432676392863,
           0.0017151600191728886,
           -0.0013146363646932857,
           -0.001277290556199199,
           -0.0007577220728979227,
           -0.0036620689697642473,
           -0.00280737226100565,
           0.0038851819872601943,
           0.004068053107931227,
           0.003762704742304718,
           0.0010203593863296384,
           0.008490432227085221,
           1,
           0.000432165838524775,
           0.00246705868052105,
           -0.004671860195493546,
           0.0013179742404449313,
           -0.003994804150848461,
           -0.0030865226300003474,
           0.00269899634626675,
           0.00012456114096241828,
           -0.0015464936817352127,
           0.001905757198007059,
           0.0029003451055560217,
           -0.003244472002187364,
           0.0014241936572181525
          ],
          [
           -0.0012053330246693601,
           0.0034696074417677643,
           0.0030199215871518424,
           -0.006855683482529977,
           -0.0022158542516108105,
           -0.002341276499886928,
           -0.001563381787456773,
           0.0017994073217423418,
           -0.0015057118423046543,
           -0.001365249624013632,
           0.0004165222535459471,
           -0.00029319961838645213,
           -0.0016562640270431819,
           0.000432165838524775,
           1,
           0.003309834004244666,
           -0.004212146186995289,
           -0.00010411717435269638,
           0.19448417562931056,
           0.0004934011883137686,
           -0.003170866758494489,
           0.0038633967783368592,
           0.0021072363866410783,
           -0.0026682076246908482,
           0.0034109192084084182,
           -0.0036424954993251823,
           -0.0034318450762257898
          ],
          [
           0.002032174501922229,
           -0.001881778930830327,
           -0.006952970526307828,
           0.004073867971973821,
           -0.0007464356526152762,
           0.004644218942237951,
           0.0015541016737360787,
           -0.005328060105644677,
           0.0005761889227906715,
           -0.01403013311979368,
           -0.001983144194399413,
           -0.002701592777460047,
           0.005790143270693031,
           0.00246705868052105,
           0.003309834004244666,
           1,
           0.003529995963287252,
           0.003986494667891983,
           -0.0030026907918919853,
           -0.0025760510793281905,
           -0.005296418586418387,
           0.0016936694343589397,
           -0.00031567965611797063,
           -0.010358231547423937,
           -0.0038995887312588406,
           -0.0020382659530019283,
           -0.0018162505113753632
          ],
          [
           -0.004816466608215446,
           -0.0011445105555001579,
           0.000057700638603893426,
           0.006794740743890742,
           0.0014906868557460044,
           0.00046407581601962675,
           0.001106629249148057,
           0.00009004117454414737,
           0.0007719816081544419,
           0.000353008204234136,
           -0.0038326863656462555,
           -0.0030772395535401155,
           0.004945249366753047,
           -0.004671860195493546,
           -0.004212146186995289,
           0.003529995963287252,
           1,
           -0.0022200177428318315,
           -0.0003897170774076573,
           -0.001827650730876176,
           0.0021019156027800496,
           0.0012393107099861326,
           -0.0022583866964436716,
           0.001582206663753907,
           -0.0006094037242788087,
           0.0015483585676429774,
           0.003043410445052925
          ],
          [
           0.0005246134733652225,
           0.0011074267687118278,
           -0.0020023690665076557,
           -0.0011410173229166754,
           0.002425850621496551,
           0.004061503958888567,
           -0.0015981433715095993,
           -0.004072272599842584,
           0.005256163192993835,
           -0.0011433546440222677,
           -0.006820622549343358,
           -0.00273627092691242,
           0.00044568298585970846,
           0.0013179742404449313,
           -0.00010411717435269638,
           0.003986494667891983,
           -0.0022200177428318315,
           1,
           0.004393088560286376,
           0.003513295720497588,
           0.002214248095296668,
           0.002337920905650326,
           0.002591333344690053,
           -0.0010839833652522396,
           -0.0009296532003800057,
           -0.0007085161331622869,
           -0.00708383945341091
          ],
          [
           0.10737888080100152,
           0.4199226502179315,
           0.003732189833564179,
           -0.0017026436506842062,
           0.0023104299744917795,
           -0.0036898070325446647,
           0.001790054927921847,
           -0.002103767358180093,
           0.140884596049815,
           -0.0011417359114448355,
           0.000483285552099052,
           -0.0011217428809453878,
           -0.004363837936798606,
           -0.003994804150848461,
           0.19448417562931056,
           -0.0030026907918919853,
           -0.0003897170774076573,
           0.004393088560286376,
           1,
           0.0013639332994757035,
           -0.0026725419175823947,
           -0.0011778849558176576,
           0.004721465498620395,
           0.0006837113382242575,
           -0.0011180496873726556,
           -0.00038973124707574386,
           -0.004104451495038575
          ],
          [
           0.0001938618102732209,
           0.0040388467882283155,
           0.00006738197926783418,
           -0.0013041040991888125,
           0.0013720218072134514,
           -0.0002057127564337334,
           0.0020861665828580604,
           0.00025175501166881293,
           0.0036277930146920304,
           0.003105929839324369,
           -0.0009277026952990443,
           0.004748045762042605,
           0.00677107543452703,
           -0.0030865226300003474,
           0.0004934011883137686,
           -0.0025760510793281905,
           -0.001827650730876176,
           0.003513295720497588,
           0.0013639332994757035,
           1,
           0.0014410470791435097,
           0.00238682594108558,
           0.0039013755348100278,
           -0.004773374207716181,
           -0.0035311930344931242,
           0.000058099369020099424,
           0.005581981096969822
          ],
          [
           0.00864520045142144,
           -0.0012870620272804724,
           0.000030733970917929915,
           0.0020040220236206135,
           0.00038539290905584506,
           0.0001748566171526503,
           0.0014545827793121006,
           -0.0047685973481408775,
           -0.002770721756904822,
           -0.00017074412555320086,
           0.003023183466736552,
           0.005517822145032939,
           0.0038497774056586186,
           0.00269899634626675,
           -0.003170866758494489,
           -0.005296418586418387,
           0.0021019156027800496,
           0.002214248095296668,
           -0.0026725419175823947,
           0.0014410470791435097,
           1,
           -0.004779832243148365,
           0.0004358510661364141,
           0.0005285519215273261,
           0.001517413988055227,
           0.0007916407043039873,
           0.007370184617488241
          ],
          [
           0.005789895746486436,
           -0.0016803479784387025,
           -0.004303801855809469,
           -0.0027785602040810422,
           -0.0038358606457483593,
           0.004456755461302275,
           -0.003317922496246074,
           0.0010795277459547275,
           -0.00564775710196181,
           0.004611704749027029,
           -0.00019258901747013255,
           0.004133135969799291,
           -0.0006852174123466495,
           0.00012456114096241828,
           0.0038633967783368592,
           0.0016936694343589397,
           0.0012393107099861326,
           0.002337920905650326,
           -0.0011778849558176576,
           0.00238682594108558,
           -0.004779832243148365,
           1,
           -0.0019272805195449988,
           0.0019390067728152483,
           -0.00010281069726665965,
           0.004792462957561032,
           0.004581226965377844
          ],
          [
           -0.008034231243902233,
           0.004429655669810544,
           0.004769843634786286,
           -0.0005945171233852822,
           0.0010153506247784507,
           -0.002210110192218492,
           -0.00033996823976975153,
           0.006452756921452299,
           -0.0013176888525567613,
           -0.0023338091224426793,
           -0.00468174889753288,
           0.0011773458458223265,
           0.001495313378617984,
           -0.0015464936817352127,
           0.0021072363866410783,
           -0.00031567965611797063,
           -0.0022583866964436716,
           0.002591333344690053,
           0.004721465498620395,
           0.0039013755348100278,
           0.0004358510661364141,
           -0.0019272805195449988,
           1,
           -0.500090455618936,
           0.00005150847424360873,
           0.0015730261505321954,
           -0.009143092987479909
          ],
          [
           0.00779337244012675,
           0.000269196009618627,
           -0.0034353902766497517,
           0.003296782959700315,
           0.0017447062231560194,
           0.002813152551195629,
           0.000992151803128705,
           -0.0025955066769565126,
           0.0035926405634927943,
           0.000024311412861449792,
           -0.00722989575828155,
           0.0026540747962313987,
           -0.00575456407838048,
           0.001905757198007059,
           -0.0026682076246908482,
           -0.010358231547423937,
           0.001582206663753907,
           -0.0010839833652522396,
           0.0006837113382242575,
           -0.004773374207716181,
           0.0005285519215273261,
           0.0019390067728152483,
           -0.500090455618936,
           1,
           0.002459495292631711,
           -0.006527195433607953,
           -0.0008544836315834124
          ],
          [
           -0.002204949340837383,
           -0.0010640083517003142,
           0.0013228689191784075,
           0.0024026956143024854,
           -0.0031513504143330442,
           -0.007246148716079918,
           -0.00034698668028675035,
           -0.004976385479116727,
           0.002687609534936846,
           0.002569151861734786,
           -0.0003224601538616681,
           0.0031118590459086287,
           -0.0016882435996342453,
           0.0029003451055560217,
           0.0034109192084084182,
           -0.0038995887312588406,
           -0.0006094037242788087,
           -0.0009296532003800057,
           -0.0011180496873726556,
           -0.0035311930344931242,
           0.001517413988055227,
           -0.00010281069726665965,
           0.00005150847424360873,
           0.002459495292631711,
           1,
           -0.5028226511742345,
           0.0013275615688179054
          ],
          [
           -0.0000050472882611837685,
           -0.0030356759595183682,
           0.0026544430028557484,
           -0.003152858612827066,
           -0.00289672498912813,
           0.007287970709924036,
           -0.0049400899307064814,
           0.005082862199456482,
           -0.001396074753397403,
           -0.0019694419092163183,
           0.005196097884804728,
           -0.002085887667142745,
           -0.0006075225531210564,
           -0.003244472002187364,
           -0.0036424954993251823,
           -0.0020382659530019283,
           0.0015483585676429774,
           -0.0007085161331622869,
           -0.00038973124707574386,
           0.000058099369020099424,
           0.0007916407043039873,
           0.004792462957561032,
           0.0015730261505321954,
           -0.006527195433607953,
           -0.5028226511742345,
           1,
           -0.004475385006362197
          ],
          [
           0.000706270086281662,
           0.0021630051234116814,
           0.0012439380655392838,
           -0.0012549914732091594,
           0.004862372803280003,
           -0.0017570424045036206,
           -0.0014367148782499749,
           -0.003202736380687915,
           0.006107570022491483,
           0.0017484412194238236,
           0.0015160389360853916,
           0.0012393039339438302,
           0.00019843670732869192,
           0.0014241936572181525,
           -0.0034318450762257898,
           -0.0018162505113753632,
           0.003043410445052925,
           -0.00708383945341091,
           -0.004104451495038575,
           0.005581981096969822,
           0.007370184617488241,
           0.004581226965377844,
           -0.009143092987479909,
           -0.0008544836315834124,
           0.0013275615688179054,
           -0.004475385006362197,
           1
          ]
         ]
        }
       ],
       "layout": {
        "coloraxis": {
         "colorscale": [
          [
           0,
           "rgb(254, 245, 244)"
          ],
          [
           0.09090909090909091,
           "rgb(222, 224, 210)"
          ],
          [
           0.18181818181818182,
           "rgb(189, 206, 181)"
          ],
          [
           0.2727272727272727,
           "rgb(153, 189, 156)"
          ],
          [
           0.36363636363636365,
           "rgb(110, 173, 138)"
          ],
          [
           0.45454545454545453,
           "rgb(65, 157, 129)"
          ],
          [
           0.5454545454545454,
           "rgb(25, 137, 125)"
          ],
          [
           0.6363636363636364,
           "rgb(18, 116, 117)"
          ],
          [
           0.7272727272727273,
           "rgb(25, 94, 106)"
          ],
          [
           0.8181818181818182,
           "rgb(28, 72, 93)"
          ],
          [
           0.9090909090909091,
           "rgb(25, 51, 80)"
          ],
          [
           1,
           "rgb(20, 29, 67)"
          ]
         ]
        },
        "height": 1260,
        "template": {
         "data": {
          "bar": [
           {
            "error_x": {
             "color": "#f2f5fa"
            },
            "error_y": {
             "color": "#f2f5fa"
            },
            "marker": {
             "line": {
              "color": "rgb(17,17,17)",
              "width": 0.5
             },
             "pattern": {
              "fillmode": "overlay",
              "size": 10,
              "solidity": 0.2
             }
            },
            "type": "bar"
           }
          ],
          "barpolar": [
           {
            "marker": {
             "line": {
              "color": "rgb(17,17,17)",
              "width": 0.5
             },
             "pattern": {
              "fillmode": "overlay",
              "size": 10,
              "solidity": 0.2
             }
            },
            "type": "barpolar"
           }
          ],
          "carpet": [
           {
            "aaxis": {
             "endlinecolor": "#A2B1C6",
             "gridcolor": "#506784",
             "linecolor": "#506784",
             "minorgridcolor": "#506784",
             "startlinecolor": "#A2B1C6"
            },
            "baxis": {
             "endlinecolor": "#A2B1C6",
             "gridcolor": "#506784",
             "linecolor": "#506784",
             "minorgridcolor": "#506784",
             "startlinecolor": "#A2B1C6"
            },
            "type": "carpet"
           }
          ],
          "choropleth": [
           {
            "colorbar": {
             "outlinewidth": 0,
             "ticks": ""
            },
            "type": "choropleth"
           }
          ],
          "contour": [
           {
            "colorbar": {
             "outlinewidth": 0,
             "ticks": ""
            },
            "colorscale": [
             [
              0,
              "#0d0887"
             ],
             [
              0.1111111111111111,
              "#46039f"
             ],
             [
              0.2222222222222222,
              "#7201a8"
             ],
             [
              0.3333333333333333,
              "#9c179e"
             ],
             [
              0.4444444444444444,
              "#bd3786"
             ],
             [
              0.5555555555555556,
              "#d8576b"
             ],
             [
              0.6666666666666666,
              "#ed7953"
             ],
             [
              0.7777777777777778,
              "#fb9f3a"
             ],
             [
              0.8888888888888888,
              "#fdca26"
             ],
             [
              1,
              "#f0f921"
             ]
            ],
            "type": "contour"
           }
          ],
          "contourcarpet": [
           {
            "colorbar": {
             "outlinewidth": 0,
             "ticks": ""
            },
            "type": "contourcarpet"
           }
          ],
          "heatmap": [
           {
            "colorbar": {
             "outlinewidth": 0,
             "ticks": ""
            },
            "colorscale": [
             [
              0,
              "#0d0887"
             ],
             [
              0.1111111111111111,
              "#46039f"
             ],
             [
              0.2222222222222222,
              "#7201a8"
             ],
             [
              0.3333333333333333,
              "#9c179e"
             ],
             [
              0.4444444444444444,
              "#bd3786"
             ],
             [
              0.5555555555555556,
              "#d8576b"
             ],
             [
              0.6666666666666666,
              "#ed7953"
             ],
             [
              0.7777777777777778,
              "#fb9f3a"
             ],
             [
              0.8888888888888888,
              "#fdca26"
             ],
             [
              1,
              "#f0f921"
             ]
            ],
            "type": "heatmap"
           }
          ],
          "heatmapgl": [
           {
            "colorbar": {
             "outlinewidth": 0,
             "ticks": ""
            },
            "colorscale": [
             [
              0,
              "#0d0887"
             ],
             [
              0.1111111111111111,
              "#46039f"
             ],
             [
              0.2222222222222222,
              "#7201a8"
             ],
             [
              0.3333333333333333,
              "#9c179e"
             ],
             [
              0.4444444444444444,
              "#bd3786"
             ],
             [
              0.5555555555555556,
              "#d8576b"
             ],
             [
              0.6666666666666666,
              "#ed7953"
             ],
             [
              0.7777777777777778,
              "#fb9f3a"
             ],
             [
              0.8888888888888888,
              "#fdca26"
             ],
             [
              1,
              "#f0f921"
             ]
            ],
            "type": "heatmapgl"
           }
          ],
          "histogram": [
           {
            "marker": {
             "pattern": {
              "fillmode": "overlay",
              "size": 10,
              "solidity": 0.2
             }
            },
            "type": "histogram"
           }
          ],
          "histogram2d": [
           {
            "colorbar": {
             "outlinewidth": 0,
             "ticks": ""
            },
            "colorscale": [
             [
              0,
              "#0d0887"
             ],
             [
              0.1111111111111111,
              "#46039f"
             ],
             [
              0.2222222222222222,
              "#7201a8"
             ],
             [
              0.3333333333333333,
              "#9c179e"
             ],
             [
              0.4444444444444444,
              "#bd3786"
             ],
             [
              0.5555555555555556,
              "#d8576b"
             ],
             [
              0.6666666666666666,
              "#ed7953"
             ],
             [
              0.7777777777777778,
              "#fb9f3a"
             ],
             [
              0.8888888888888888,
              "#fdca26"
             ],
             [
              1,
              "#f0f921"
             ]
            ],
            "type": "histogram2d"
           }
          ],
          "histogram2dcontour": [
           {
            "colorbar": {
             "outlinewidth": 0,
             "ticks": ""
            },
            "colorscale": [
             [
              0,
              "#0d0887"
             ],
             [
              0.1111111111111111,
              "#46039f"
             ],
             [
              0.2222222222222222,
              "#7201a8"
             ],
             [
              0.3333333333333333,
              "#9c179e"
             ],
             [
              0.4444444444444444,
              "#bd3786"
             ],
             [
              0.5555555555555556,
              "#d8576b"
             ],
             [
              0.6666666666666666,
              "#ed7953"
             ],
             [
              0.7777777777777778,
              "#fb9f3a"
             ],
             [
              0.8888888888888888,
              "#fdca26"
             ],
             [
              1,
              "#f0f921"
             ]
            ],
            "type": "histogram2dcontour"
           }
          ],
          "mesh3d": [
           {
            "colorbar": {
             "outlinewidth": 0,
             "ticks": ""
            },
            "type": "mesh3d"
           }
          ],
          "parcoords": [
           {
            "line": {
             "colorbar": {
              "outlinewidth": 0,
              "ticks": ""
             }
            },
            "type": "parcoords"
           }
          ],
          "pie": [
           {
            "automargin": true,
            "type": "pie"
           }
          ],
          "scatter": [
           {
            "marker": {
             "line": {
              "color": "#283442"
             }
            },
            "type": "scatter"
           }
          ],
          "scatter3d": [
           {
            "line": {
             "colorbar": {
              "outlinewidth": 0,
              "ticks": ""
             }
            },
            "marker": {
             "colorbar": {
              "outlinewidth": 0,
              "ticks": ""
             }
            },
            "type": "scatter3d"
           }
          ],
          "scattercarpet": [
           {
            "marker": {
             "colorbar": {
              "outlinewidth": 0,
              "ticks": ""
             }
            },
            "type": "scattercarpet"
           }
          ],
          "scattergeo": [
           {
            "marker": {
             "colorbar": {
              "outlinewidth": 0,
              "ticks": ""
             }
            },
            "type": "scattergeo"
           }
          ],
          "scattergl": [
           {
            "marker": {
             "line": {
              "color": "#283442"
             }
            },
            "type": "scattergl"
           }
          ],
          "scattermapbox": [
           {
            "marker": {
             "colorbar": {
              "outlinewidth": 0,
              "ticks": ""
             }
            },
            "type": "scattermapbox"
           }
          ],
          "scatterpolar": [
           {
            "marker": {
             "colorbar": {
              "outlinewidth": 0,
              "ticks": ""
             }
            },
            "type": "scatterpolar"
           }
          ],
          "scatterpolargl": [
           {
            "marker": {
             "colorbar": {
              "outlinewidth": 0,
              "ticks": ""
             }
            },
            "type": "scatterpolargl"
           }
          ],
          "scatterternary": [
           {
            "marker": {
             "colorbar": {
              "outlinewidth": 0,
              "ticks": ""
             }
            },
            "type": "scatterternary"
           }
          ],
          "surface": [
           {
            "colorbar": {
             "outlinewidth": 0,
             "ticks": ""
            },
            "colorscale": [
             [
              0,
              "#0d0887"
             ],
             [
              0.1111111111111111,
              "#46039f"
             ],
             [
              0.2222222222222222,
              "#7201a8"
             ],
             [
              0.3333333333333333,
              "#9c179e"
             ],
             [
              0.4444444444444444,
              "#bd3786"
             ],
             [
              0.5555555555555556,
              "#d8576b"
             ],
             [
              0.6666666666666666,
              "#ed7953"
             ],
             [
              0.7777777777777778,
              "#fb9f3a"
             ],
             [
              0.8888888888888888,
              "#fdca26"
             ],
             [
              1,
              "#f0f921"
             ]
            ],
            "type": "surface"
           }
          ],
          "table": [
           {
            "cells": {
             "fill": {
              "color": "#506784"
             },
             "line": {
              "color": "rgb(17,17,17)"
             }
            },
            "header": {
             "fill": {
              "color": "#2a3f5f"
             },
             "line": {
              "color": "rgb(17,17,17)"
             }
            },
            "type": "table"
           }
          ]
         },
         "layout": {
          "annotationdefaults": {
           "arrowcolor": "#f2f5fa",
           "arrowhead": 0,
           "arrowwidth": 1
          },
          "autotypenumbers": "strict",
          "coloraxis": {
           "colorbar": {
            "outlinewidth": 0,
            "ticks": ""
           }
          },
          "colorscale": {
           "diverging": [
            [
             0,
             "#8e0152"
            ],
            [
             0.1,
             "#c51b7d"
            ],
            [
             0.2,
             "#de77ae"
            ],
            [
             0.3,
             "#f1b6da"
            ],
            [
             0.4,
             "#fde0ef"
            ],
            [
             0.5,
             "#f7f7f7"
            ],
            [
             0.6,
             "#e6f5d0"
            ],
            [
             0.7,
             "#b8e186"
            ],
            [
             0.8,
             "#7fbc41"
            ],
            [
             0.9,
             "#4d9221"
            ],
            [
             1,
             "#276419"
            ]
           ],
           "sequential": [
            [
             0,
             "#0d0887"
            ],
            [
             0.1111111111111111,
             "#46039f"
            ],
            [
             0.2222222222222222,
             "#7201a8"
            ],
            [
             0.3333333333333333,
             "#9c179e"
            ],
            [
             0.4444444444444444,
             "#bd3786"
            ],
            [
             0.5555555555555556,
             "#d8576b"
            ],
            [
             0.6666666666666666,
             "#ed7953"
            ],
            [
             0.7777777777777778,
             "#fb9f3a"
            ],
            [
             0.8888888888888888,
             "#fdca26"
            ],
            [
             1,
             "#f0f921"
            ]
           ],
           "sequentialminus": [
            [
             0,
             "#0d0887"
            ],
            [
             0.1111111111111111,
             "#46039f"
            ],
            [
             0.2222222222222222,
             "#7201a8"
            ],
            [
             0.3333333333333333,
             "#9c179e"
            ],
            [
             0.4444444444444444,
             "#bd3786"
            ],
            [
             0.5555555555555556,
             "#d8576b"
            ],
            [
             0.6666666666666666,
             "#ed7953"
            ],
            [
             0.7777777777777778,
             "#fb9f3a"
            ],
            [
             0.8888888888888888,
             "#fdca26"
            ],
            [
             1,
             "#f0f921"
            ]
           ]
          },
          "colorway": [
           "#636efa",
           "#EF553B",
           "#00cc96",
           "#ab63fa",
           "#FFA15A",
           "#19d3f3",
           "#FF6692",
           "#B6E880",
           "#FF97FF",
           "#FECB52"
          ],
          "font": {
           "color": "#f2f5fa"
          },
          "geo": {
           "bgcolor": "rgb(17,17,17)",
           "lakecolor": "rgb(17,17,17)",
           "landcolor": "rgb(17,17,17)",
           "showlakes": true,
           "showland": true,
           "subunitcolor": "#506784"
          },
          "hoverlabel": {
           "align": "left"
          },
          "hovermode": "closest",
          "mapbox": {
           "style": "dark"
          },
          "paper_bgcolor": "rgb(17,17,17)",
          "plot_bgcolor": "rgb(17,17,17)",
          "polar": {
           "angularaxis": {
            "gridcolor": "#506784",
            "linecolor": "#506784",
            "ticks": ""
           },
           "bgcolor": "rgb(17,17,17)",
           "radialaxis": {
            "gridcolor": "#506784",
            "linecolor": "#506784",
            "ticks": ""
           }
          },
          "scene": {
           "xaxis": {
            "backgroundcolor": "rgb(17,17,17)",
            "gridcolor": "#506784",
            "gridwidth": 2,
            "linecolor": "#506784",
            "showbackground": true,
            "ticks": "",
            "zerolinecolor": "#C8D4E3"
           },
           "yaxis": {
            "backgroundcolor": "rgb(17,17,17)",
            "gridcolor": "#506784",
            "gridwidth": 2,
            "linecolor": "#506784",
            "showbackground": true,
            "ticks": "",
            "zerolinecolor": "#C8D4E3"
           },
           "zaxis": {
            "backgroundcolor": "rgb(17,17,17)",
            "gridcolor": "#506784",
            "gridwidth": 2,
            "linecolor": "#506784",
            "showbackground": true,
            "ticks": "",
            "zerolinecolor": "#C8D4E3"
           }
          },
          "shapedefaults": {
           "line": {
            "color": "#f2f5fa"
           }
          },
          "sliderdefaults": {
           "bgcolor": "#C8D4E3",
           "bordercolor": "rgb(17,17,17)",
           "borderwidth": 1,
           "tickwidth": 0
          },
          "ternary": {
           "aaxis": {
            "gridcolor": "#506784",
            "linecolor": "#506784",
            "ticks": ""
           },
           "baxis": {
            "gridcolor": "#506784",
            "linecolor": "#506784",
            "ticks": ""
           },
           "bgcolor": "rgb(17,17,17)",
           "caxis": {
            "gridcolor": "#506784",
            "linecolor": "#506784",
            "ticks": ""
           }
          },
          "title": {
           "x": 0.05
          },
          "updatemenudefaults": {
           "bgcolor": "#506784",
           "borderwidth": 0
          },
          "xaxis": {
           "automargin": true,
           "gridcolor": "#283442",
           "linecolor": "#506784",
           "ticks": "",
           "title": {
            "standoff": 15
           },
           "zerolinecolor": "#283442",
           "zerolinewidth": 2
          },
          "yaxis": {
           "automargin": true,
           "gridcolor": "#283442",
           "linecolor": "#506784",
           "ticks": "",
           "title": {
            "standoff": 15
           },
           "zerolinecolor": "#283442",
           "zerolinewidth": 2
          }
         }
        },
        "title": {
         "text": "Correlation Heatmap"
        },
        "width": 1260,
        "xaxis": {
         "anchor": "y",
         "constrain": "domain",
         "domain": [
          0,
          1
         ],
         "scaleanchor": "y"
        },
        "yaxis": {
         "anchor": "x",
         "autorange": "reversed",
         "constrain": "domain",
         "domain": [
          0,
          1
         ]
        }
       }
      }
     },
     "metadata": {},
     "output_type": "display_data"
    }
   ],
   "source": [
    "import plotly.express as px\n",
    "\n",
    "fig = px.imshow(df_Normalizado.corr(), \n",
    "                text_auto=True, \n",
    "                color_continuous_scale = \"tempo\",  \n",
    "                template='plotly_dark',\n",
    "                title=\"Correlation Heatmap\")\n",
    "fig.update_layout(\n",
    "    width=1260, \n",
    "    height=1260  \n",
    ")\n",
    "fig.show()"
   ]
  },
  {
   "cell_type": "markdown",
   "metadata": {},
   "source": [
    "## 4. Entrenamiento del Modelo"
   ]
  },
  {
   "cell_type": "markdown",
   "metadata": {},
   "source": [
    "Nota: Yo hice algunas pruebas con algunos ejemplos que encontre en kaggle con esta misma data, se los dejo de ejemplo para que sigan optimizandolos y provando hiperparametros: "
   ]
  },
  {
   "cell_type": "code",
   "execution_count": 14,
   "metadata": {},
   "outputs": [
    {
     "data": {
      "text/plain": [
       "72.02665410244329"
      ]
     },
     "execution_count": 14,
     "metadata": {},
     "output_type": "execute_result"
    }
   ],
   "source": [
    "x = df_Normalizado.drop('Alzheimer’s Diagnosis', axis=1)\n",
    "y = df_Normalizado['Alzheimer’s Diagnosis']\n",
    "\n",
    "x_train, x_test, y_train, y_test = train_test_split(x, y, test_size=0.2, random_state=42)\n",
    "\n",
    "#Probando Modelo RandomForestClassifier\n",
    "\n",
    "model = RandomForestClassifier(n_estimators=100, random_state=42) #72.02%\n",
    "model.fit(x_train, y_train)\n",
    "model.score(x_test, y_test)*100\n"
   ]
  },
  {
   "cell_type": "code",
   "execution_count": 15,
   "metadata": {},
   "outputs": [
    {
     "data": {
      "text/plain": [
       "93.85622454817756"
      ]
     },
     "execution_count": 15,
     "metadata": {},
     "output_type": "execute_result"
    }
   ],
   "source": [
    "#Probando Modelo XGBoost\n",
    "\n",
    "#80.94 % de precisión\n",
    "#model = xgb.XGBClassifier(objective='multi:softmax', num_class=3, random_state=42)\n",
    "#93.85 % de precisión\n",
    "model = xgb.XGBClassifier(objective='multi:softmax', num_class=3, random_state=42, max_depth=10, n_estimators=100 , learning_rate=0.1 , subsample=0.5)\n",
    "model.fit(x_train, y_train)\n",
    "model.score(x_train, y_train)*100"
   ]
  },
  {
   "cell_type": "markdown",
   "metadata": {},
   "source": [
    "### 4.1 Modelos supervisados "
   ]
  },
  {
   "cell_type": "code",
   "execution_count": 16,
   "metadata": {},
   "outputs": [
    {
     "name": "stderr",
     "output_type": "stream",
     "text": [
      "c:\\Users\\cr146\\anaconda3\\Lib\\site-packages\\sklearn\\linear_model\\_logistic.py:465: ConvergenceWarning:\n",
      "\n",
      "lbfgs failed to converge (status=1):\n",
      "STOP: TOTAL NO. of ITERATIONS REACHED LIMIT.\n",
      "\n",
      "Increase the number of iterations (max_iter) or scale the data as shown in:\n",
      "    https://scikit-learn.org/stable/modules/preprocessing.html\n",
      "Please also refer to the documentation for alternative solver options:\n",
      "    https://scikit-learn.org/stable/modules/linear_model.html#logistic-regression\n",
      "\n",
      "C:\\Users\\cr146\\AppData\\Local\\Temp\\ipykernel_12684\\496292323.py:25: FutureWarning:\n",
      "\n",
      "\n",
      "\n",
      "Passing `palette` without assigning `hue` is deprecated and will be removed in v0.14.0. Assign the `x` variable to `hue` and set `legend=False` for the same effect.\n",
      "\n",
      "\n"
     ]
    },
    {
     "data": {
      "image/png": "[encoded data removed]",
      "text/plain": [
       "<Figure size 800x500 with 1 Axes>"
      ]
     },
     "metadata": {},
     "output_type": "display_data"
    }
   ],
   "source": [
    "# División de datos\n",
    "x = df_Normalizado.drop('Alzheimer’s Diagnosis', axis=1)\n",
    "y = df_Normalizado['Alzheimer’s Diagnosis']\n",
    "\n",
    "x_train, x_test, y_train, y_test = train_test_split(x, y, test_size=0.2, random_state=42)\n",
    "\n",
    "# Modelos supervisados\n",
    "models = {\n",
    "    \"RandomForest\": RandomForestClassifier(n_estimators=100, random_state=42),\n",
    "    \"LogisticRegression\": LogisticRegression(max_iter=500, random_state=42),\n",
    "    \"XGBoost\": XGBClassifier(eval_metric=\"logloss\", random_state=42)  # Eliminamos use_label_encoder para evitar warning\n",
    "}\n",
    "\n",
    "# Entrenamiento y evaluación\n",
    "scores = {}\n",
    "for name, model in models.items():\n",
    "    model.fit(x_train, y_train)\n",
    "    scores[name] = model.score(x_test, y_test) * 100\n",
    "\n",
    "# DataFrame con los resultados\n",
    "scores_df = pd.DataFrame(list(scores.items()), columns=[\"Modelo\", \"Precisión\"])\n",
    "\n",
    "# Configuración de la grafica\n",
    "plt.figure(figsize=(8, 5))\n",
    "sns.barplot(x=\"Modelo\", y=\"Precisión\", data=scores_df, palette=\"viridis\")\n",
    "\n",
    "plt.ylim(60, 80)\n",
    "plt.ylabel(\"Precisión (%)\")\n",
    "plt.title(\"Comparación de Modelos Supervisados\")\n",
    "plt.xticks(rotation=20)\n",
    "\n",
    "# Mostrar los valores\n",
    "for index, value in enumerate(scores_df[\"Precisión\"]):\n",
    "    plt.text(index, value + 0.5, f\"{value:.2f}%\", ha=\"center\", fontsize=12)\n",
    "\n",
    "plt.show()\n"
   ]
  },
  {
   "cell_type": "markdown",
   "metadata": {},
   "source": [
    "### 4.2. Modelos no supervisados"
   ]
  },
  {
   "cell_type": "markdown",
   "metadata": {},
   "source": [
    "Dado que el dataset que venimos trabajando cuenta con la columna de target, para los siguientes modelos dicha columna es eliminada"
   ]
  },
  {
   "cell_type": "code",
   "execution_count": 17,
   "metadata": {},
   "outputs": [
    {
     "data": {
      "text/plain": [
       "array([[0.90909091, 0.05263158, 0.87878788, ..., 1.        , 0.        ,\n",
       "        1.        ],\n",
       "       [0.5       , 0.36842105, 0.69090909, ..., 0.        , 1.        ,\n",
       "        1.        ],\n",
       "       [0.81818182, 1.        , 0.26666667, ..., 1.        , 0.        ,\n",
       "        0.        ],\n",
       "       ...,\n",
       "       [0.15909091, 0.68421053, 0.58787879, ..., 1.        , 0.        ,\n",
       "        0.        ],\n",
       "       [0.52272727, 0.36842105, 0.63636364, ..., 0.        , 1.        ,\n",
       "        0.        ],\n",
       "       [0.15909091, 0.05263158, 0.8       , ..., 1.        , 0.        ,\n",
       "        1.        ]])"
      ]
     },
     "execution_count": 17,
     "metadata": {},
     "output_type": "execute_result"
    }
   ],
   "source": [
    "#Tratamiento del dataframe, se crean 2 clones de dicho df, ?df2' simplemente no incluye las columnas 'Country' 'Alzheimer’s Diagnosis', y en 'x_for_kmeans'\n",
    "#se normalizan los valores\n",
    "df2.drop(['Country', 'Alzheimer’s Diagnosis'], axis=1, inplace=True)\n",
    "scaler = MinMaxScaler()\n",
    "x_for_kmeans = scaler.fit_transform(df2)\n",
    "x_for_kmeans"
   ]
  },
  {
   "cell_type": "code",
   "execution_count": 18,
   "metadata": {},
   "outputs": [],
   "source": [
    "# se aplica gridsearch para intentar mejorar la calidad del modelo\n",
    "\n",
    "# def silhouette_scorer(estimator, X):\n",
    "#     labels = estimator.fit_predict(X)\n",
    "#     return silhouette_score(X, labels)\n",
    "\n",
    "# param_grid = {\n",
    "#     \"init\": [\"random\", \"k-means++\"],\n",
    "#     \"max_iter\": [100, 300, 500],\n",
    "#     \"n_init\": [10, 20, 30],\n",
    "#     \"algorithm\": [\"lloyd\", \"elkan\"]\n",
    "# }\n",
    "\n",
    "# kmeans = KMeans(n_clusters=2, random_state=42)\n",
    "# grid_search = GridSearchCV(kmeans, param_grid, scoring=make_scorer(silhouette_scorer), cv=3, verbose=1, n_jobs=-1)\n",
    "\n",
    "# grid_search.fit(x_for_kmeans)\n",
    "\n",
    "\n",
    "# print(\"Mejores parámetros:\", grid_search.best_params_)\n",
    "# print(\"Mejor Silhouette Score:\", grid_search.best_score_)"
   ]
  },
  {
   "cell_type": "code",
   "execution_count": 19,
   "metadata": {},
   "outputs": [
    {
     "data": {
      "text/html": [
       "<style>#sk-container-id-1 {\n",
       "  /* Definition of color scheme common for light and dark mode */\n",
       "  --sklearn-color-text: #000;\n",
       "  --sklearn-color-text-muted: #666;\n",
       "  --sklearn-color-line: gray;\n",
       "  /* Definition of color scheme for unfitted estimators */\n",
       "  --sklearn-color-unfitted-level-0: #fff5e6;\n",
       "  --sklearn-color-unfitted-level-1: #f6e4d2;\n",
       "  --sklearn-color-unfitted-level-2: #ffe0b3;\n",
       "  --sklearn-color-unfitted-level-3: chocolate;\n",
       "  /* Definition of color scheme for fitted estimators */\n",
       "  --sklearn-color-fitted-level-0: #f0f8ff;\n",
       "  --sklearn-color-fitted-level-1: #d4ebff;\n",
       "  --sklearn-color-fitted-level-2: #b3dbfd;\n",
       "  --sklearn-color-fitted-level-3: cornflowerblue;\n",
       "\n",
       "  /* Specific color for light theme */\n",
       "  --sklearn-color-text-on-default-background: var(--sg-text-color, var(--theme-code-foreground, var(--jp-content-font-color1, black)));\n",
       "  --sklearn-color-background: var(--sg-background-color, var(--theme-background, var(--jp-layout-color0, white)));\n",
       "  --sklearn-color-border-box: var(--sg-text-color, var(--theme-code-foreground, var(--jp-content-font-color1, black)));\n",
       "  --sklearn-color-icon: #696969;\n",
       "\n",
       "  @media (prefers-color-scheme: dark) {\n",
       "    /* Redefinition of color scheme for dark theme */\n",
       "    --sklearn-color-text-on-default-background: var(--sg-text-color, var(--theme-code-foreground, var(--jp-content-font-color1, white)));\n",
       "    --sklearn-color-background: var(--sg-background-color, var(--theme-background, var(--jp-layout-color0, #111)));\n",
       "    --sklearn-color-border-box: var(--sg-text-color, var(--theme-code-foreground, var(--jp-content-font-color1, white)));\n",
       "    --sklearn-color-icon: #878787;\n",
       "  }\n",
       "}\n",
       "\n",
       "#sk-container-id-1 {\n",
       "  color: var(--sklearn-color-text);\n",
       "}\n",
       "\n",
       "#sk-container-id-1 pre {\n",
       "  padding: 0;\n",
       "}\n",
       "\n",
       "#sk-container-id-1 input.sk-hidden--visually {\n",
       "  border: 0;\n",
       "  clip: rect(1px 1px 1px 1px);\n",
       "  clip: rect(1px, 1px, 1px, 1px);\n",
       "  height: 1px;\n",
       "  margin: -1px;\n",
       "  overflow: hidden;\n",
       "  padding: 0;\n",
       "  position: absolute;\n",
       "  width: 1px;\n",
       "}\n",
       "\n",
       "#sk-container-id-1 div.sk-dashed-wrapped {\n",
       "  border: 1px dashed var(--sklearn-color-line);\n",
       "  margin: 0 0.4em 0.5em 0.4em;\n",
       "  box-sizing: border-box;\n",
       "  padding-bottom: 0.4em;\n",
       "  background-color: var(--sklearn-color-background);\n",
       "}\n",
       "\n",
       "#sk-container-id-1 div.sk-container {\n",
       "  /* jupyter's `normalize.less` sets `[hidden] { display: none; }`\n",
       "     but bootstrap.min.css set `[hidden] { display: none !important; }`\n",
       "     so we also need the `!important` here to be able to override the\n",
       "     default hidden behavior on the sphinx rendered scikit-learn.org.\n",
       "     See: https://github.com/scikit-learn/scikit-learn/issues/21755 */\n",
       "  display: inline-block !important;\n",
       "  position: relative;\n",
       "}\n",
       "\n",
       "#sk-container-id-1 div.sk-text-repr-fallback {\n",
       "  display: none;\n",
       "}\n",
       "\n",
       "div.sk-parallel-item,\n",
       "div.sk-serial,\n",
       "div.sk-item {\n",
       "  /* draw centered vertical line to link estimators */\n",
       "  background-image: linear-gradient(var(--sklearn-color-text-on-default-background), var(--sklearn-color-text-on-default-background));\n",
       "  background-size: 2px 100%;\n",
       "  background-repeat: no-repeat;\n",
       "  background-position: center center;\n",
       "}\n",
       "\n",
       "/* Parallel-specific style estimator block */\n",
       "\n",
       "#sk-container-id-1 div.sk-parallel-item::after {\n",
       "  content: \"\";\n",
       "  width: 100%;\n",
       "  border-bottom: 2px solid var(--sklearn-color-text-on-default-background);\n",
       "  flex-grow: 1;\n",
       "}\n",
       "\n",
       "#sk-container-id-1 div.sk-parallel {\n",
       "  display: flex;\n",
       "  align-items: stretch;\n",
       "  justify-content: center;\n",
       "  background-color: var(--sklearn-color-background);\n",
       "  position: relative;\n",
       "}\n",
       "\n",
       "#sk-container-id-1 div.sk-parallel-item {\n",
       "  display: flex;\n",
       "  flex-direction: column;\n",
       "}\n",
       "\n",
       "#sk-container-id-1 div.sk-parallel-item:first-child::after {\n",
       "  align-self: flex-end;\n",
       "  width: 50%;\n",
       "}\n",
       "\n",
       "#sk-container-id-1 div.sk-parallel-item:last-child::after {\n",
       "  align-self: flex-start;\n",
       "  width: 50%;\n",
       "}\n",
       "\n",
       "#sk-container-id-1 div.sk-parallel-item:only-child::after {\n",
       "  width: 0;\n",
       "}\n",
       "\n",
       "/* Serial-specific style estimator block */\n",
       "\n",
       "#sk-container-id-1 div.sk-serial {\n",
       "  display: flex;\n",
       "  flex-direction: column;\n",
       "  align-items: center;\n",
       "  background-color: var(--sklearn-color-background);\n",
       "  padding-right: 1em;\n",
       "  padding-left: 1em;\n",
       "}\n",
       "\n",
       "\n",
       "/* Toggleable style: style used for estimator/Pipeline/ColumnTransformer box that is\n",
       "clickable and can be expanded/collapsed.\n",
       "- Pipeline and ColumnTransformer use this feature and define the default style\n",
       "- Estimators will overwrite some part of the style using the `sk-estimator` class\n",
       "*/\n",
       "\n",
       "/* Pipeline and ColumnTransformer style (default) */\n",
       "\n",
       "#sk-container-id-1 div.sk-toggleable {\n",
       "  /* Default theme specific background. It is overwritten whether we have a\n",
       "  specific estimator or a Pipeline/ColumnTransformer */\n",
       "  background-color: var(--sklearn-color-background);\n",
       "}\n",
       "\n",
       "/* Toggleable label */\n",
       "#sk-container-id-1 label.sk-toggleable__label {\n",
       "  cursor: pointer;\n",
       "  display: flex;\n",
       "  width: 100%;\n",
       "  margin-bottom: 0;\n",
       "  padding: 0.5em;\n",
       "  box-sizing: border-box;\n",
       "  text-align: center;\n",
       "  align-items: start;\n",
       "  justify-content: space-between;\n",
       "  gap: 0.5em;\n",
       "}\n",
       "\n",
       "#sk-container-id-1 label.sk-toggleable__label .caption {\n",
       "  font-size: 0.6rem;\n",
       "  font-weight: lighter;\n",
       "  color: var(--sklearn-color-text-muted);\n",
       "}\n",
       "\n",
       "#sk-container-id-1 label.sk-toggleable__label-arrow:before {\n",
       "  /* Arrow on the left of the label */\n",
       "  content: \"▸\";\n",
       "  float: left;\n",
       "  margin-right: 0.25em;\n",
       "  color: var(--sklearn-color-icon);\n",
       "}\n",
       "\n",
       "#sk-container-id-1 label.sk-toggleable__label-arrow:hover:before {\n",
       "  color: var(--sklearn-color-text);\n",
       "}\n",
       "\n",
       "/* Toggleable content - dropdown */\n",
       "\n",
       "#sk-container-id-1 div.sk-toggleable__content {\n",
       "  max-height: 0;\n",
       "  max-width: 0;\n",
       "  overflow: hidden;\n",
       "  text-align: left;\n",
       "  /* unfitted */\n",
       "  background-color: var(--sklearn-color-unfitted-level-0);\n",
       "}\n",
       "\n",
       "#sk-container-id-1 div.sk-toggleable__content.fitted {\n",
       "  /* fitted */\n",
       "  background-color: var(--sklearn-color-fitted-level-0);\n",
       "}\n",
       "\n",
       "#sk-container-id-1 div.sk-toggleable__content pre {\n",
       "  margin: 0.2em;\n",
       "  border-radius: 0.25em;\n",
       "  color: var(--sklearn-color-text);\n",
       "  /* unfitted */\n",
       "  background-color: var(--sklearn-color-unfitted-level-0);\n",
       "}\n",
       "\n",
       "#sk-container-id-1 div.sk-toggleable__content.fitted pre {\n",
       "  /* unfitted */\n",
       "  background-color: var(--sklearn-color-fitted-level-0);\n",
       "}\n",
       "\n",
       "#sk-container-id-1 input.sk-toggleable__control:checked~div.sk-toggleable__content {\n",
       "  /* Expand drop-down */\n",
       "  max-height: 200px;\n",
       "  max-width: 100%;\n",
       "  overflow: auto;\n",
       "}\n",
       "\n",
       "#sk-container-id-1 input.sk-toggleable__control:checked~label.sk-toggleable__label-arrow:before {\n",
       "  content: \"▾\";\n",
       "}\n",
       "\n",
       "/* Pipeline/ColumnTransformer-specific style */\n",
       "\n",
       "#sk-container-id-1 div.sk-label input.sk-toggleable__control:checked~label.sk-toggleable__label {\n",
       "  color: var(--sklearn-color-text);\n",
       "  background-color: var(--sklearn-color-unfitted-level-2);\n",
       "}\n",
       "\n",
       "#sk-container-id-1 div.sk-label.fitted input.sk-toggleable__control:checked~label.sk-toggleable__label {\n",
       "  background-color: var(--sklearn-color-fitted-level-2);\n",
       "}\n",
       "\n",
       "/* Estimator-specific style */\n",
       "\n",
       "/* Colorize estimator box */\n",
       "#sk-container-id-1 div.sk-estimator input.sk-toggleable__control:checked~label.sk-toggleable__label {\n",
       "  /* unfitted */\n",
       "  background-color: var(--sklearn-color-unfitted-level-2);\n",
       "}\n",
       "\n",
       "#sk-container-id-1 div.sk-estimator.fitted input.sk-toggleable__control:checked~label.sk-toggleable__label {\n",
       "  /* fitted */\n",
       "  background-color: var(--sklearn-color-fitted-level-2);\n",
       "}\n",
       "\n",
       "#sk-container-id-1 div.sk-label label.sk-toggleable__label,\n",
       "#sk-container-id-1 div.sk-label label {\n",
       "  /* The background is the default theme color */\n",
       "  color: var(--sklearn-color-text-on-default-background);\n",
       "}\n",
       "\n",
       "/* On hover, darken the color of the background */\n",
       "#sk-container-id-1 div.sk-label:hover label.sk-toggleable__label {\n",
       "  color: var(--sklearn-color-text);\n",
       "  background-color: var(--sklearn-color-unfitted-level-2);\n",
       "}\n",
       "\n",
       "/* Label box, darken color on hover, fitted */\n",
       "#sk-container-id-1 div.sk-label.fitted:hover label.sk-toggleable__label.fitted {\n",
       "  color: var(--sklearn-color-text);\n",
       "  background-color: var(--sklearn-color-fitted-level-2);\n",
       "}\n",
       "\n",
       "/* Estimator label */\n",
       "\n",
       "#sk-container-id-1 div.sk-label label {\n",
       "  font-family: monospace;\n",
       "  font-weight: bold;\n",
       "  display: inline-block;\n",
       "  line-height: 1.2em;\n",
       "}\n",
       "\n",
       "#sk-container-id-1 div.sk-label-container {\n",
       "  text-align: center;\n",
       "}\n",
       "\n",
       "/* Estimator-specific */\n",
       "#sk-container-id-1 div.sk-estimator {\n",
       "  font-family: monospace;\n",
       "  border: 1px dotted var(--sklearn-color-border-box);\n",
       "  border-radius: 0.25em;\n",
       "  box-sizing: border-box;\n",
       "  margin-bottom: 0.5em;\n",
       "  /* unfitted */\n",
       "  background-color: var(--sklearn-color-unfitted-level-0);\n",
       "}\n",
       "\n",
       "#sk-container-id-1 div.sk-estimator.fitted {\n",
       "  /* fitted */\n",
       "  background-color: var(--sklearn-color-fitted-level-0);\n",
       "}\n",
       "\n",
       "/* on hover */\n",
       "#sk-container-id-1 div.sk-estimator:hover {\n",
       "  /* unfitted */\n",
       "  background-color: var(--sklearn-color-unfitted-level-2);\n",
       "}\n",
       "\n",
       "#sk-container-id-1 div.sk-estimator.fitted:hover {\n",
       "  /* fitted */\n",
       "  background-color: var(--sklearn-color-fitted-level-2);\n",
       "}\n",
       "\n",
       "/* Specification for estimator info (e.g. \"i\" and \"?\") */\n",
       "\n",
       "/* Common style for \"i\" and \"?\" */\n",
       "\n",
       ".sk-estimator-doc-link,\n",
       "a:link.sk-estimator-doc-link,\n",
       "a:visited.sk-estimator-doc-link {\n",
       "  float: right;\n",
       "  font-size: smaller;\n",
       "  line-height: 1em;\n",
       "  font-family: monospace;\n",
       "  background-color: var(--sklearn-color-background);\n",
       "  border-radius: 1em;\n",
       "  height: 1em;\n",
       "  width: 1em;\n",
       "  text-decoration: none !important;\n",
       "  margin-left: 0.5em;\n",
       "  text-align: center;\n",
       "  /* unfitted */\n",
       "  border: var(--sklearn-color-unfitted-level-1) 1pt solid;\n",
       "  color: var(--sklearn-color-unfitted-level-1);\n",
       "}\n",
       "\n",
       ".sk-estimator-doc-link.fitted,\n",
       "a:link.sk-estimator-doc-link.fitted,\n",
       "a:visited.sk-estimator-doc-link.fitted {\n",
       "  /* fitted */\n",
       "  border: var(--sklearn-color-fitted-level-1) 1pt solid;\n",
       "  color: var(--sklearn-color-fitted-level-1);\n",
       "}\n",
       "\n",
       "/* On hover */\n",
       "div.sk-estimator:hover .sk-estimator-doc-link:hover,\n",
       ".sk-estimator-doc-link:hover,\n",
       "div.sk-label-container:hover .sk-estimator-doc-link:hover,\n",
       ".sk-estimator-doc-link:hover {\n",
       "  /* unfitted */\n",
       "  background-color: var(--sklearn-color-unfitted-level-3);\n",
       "  color: var(--sklearn-color-background);\n",
       "  text-decoration: none;\n",
       "}\n",
       "\n",
       "div.sk-estimator.fitted:hover .sk-estimator-doc-link.fitted:hover,\n",
       ".sk-estimator-doc-link.fitted:hover,\n",
       "div.sk-label-container:hover .sk-estimator-doc-link.fitted:hover,\n",
       ".sk-estimator-doc-link.fitted:hover {\n",
       "  /* fitted */\n",
       "  background-color: var(--sklearn-color-fitted-level-3);\n",
       "  color: var(--sklearn-color-background);\n",
       "  text-decoration: none;\n",
       "}\n",
       "\n",
       "/* Span, style for the box shown on hovering the info icon */\n",
       ".sk-estimator-doc-link span {\n",
       "  display: none;\n",
       "  z-index: 9999;\n",
       "  position: relative;\n",
       "  font-weight: normal;\n",
       "  right: .2ex;\n",
       "  padding: .5ex;\n",
       "  margin: .5ex;\n",
       "  width: min-content;\n",
       "  min-width: 20ex;\n",
       "  max-width: 50ex;\n",
       "  color: var(--sklearn-color-text);\n",
       "  box-shadow: 2pt 2pt 4pt #999;\n",
       "  /* unfitted */\n",
       "  background: var(--sklearn-color-unfitted-level-0);\n",
       "  border: .5pt solid var(--sklearn-color-unfitted-level-3);\n",
       "}\n",
       "\n",
       ".sk-estimator-doc-link.fitted span {\n",
       "  /* fitted */\n",
       "  background: var(--sklearn-color-fitted-level-0);\n",
       "  border: var(--sklearn-color-fitted-level-3);\n",
       "}\n",
       "\n",
       ".sk-estimator-doc-link:hover span {\n",
       "  display: block;\n",
       "}\n",
       "\n",
       "/* \"?\"-specific style due to the `<a>` HTML tag */\n",
       "\n",
       "#sk-container-id-1 a.estimator_doc_link {\n",
       "  float: right;\n",
       "  font-size: 1rem;\n",
       "  line-height: 1em;\n",
       "  font-family: monospace;\n",
       "  background-color: var(--sklearn-color-background);\n",
       "  border-radius: 1rem;\n",
       "  height: 1rem;\n",
       "  width: 1rem;\n",
       "  text-decoration: none;\n",
       "  /* unfitted */\n",
       "  color: var(--sklearn-color-unfitted-level-1);\n",
       "  border: var(--sklearn-color-unfitted-level-1) 1pt solid;\n",
       "}\n",
       "\n",
       "#sk-container-id-1 a.estimator_doc_link.fitted {\n",
       "  /* fitted */\n",
       "  border: var(--sklearn-color-fitted-level-1) 1pt solid;\n",
       "  color: var(--sklearn-color-fitted-level-1);\n",
       "}\n",
       "\n",
       "/* On hover */\n",
       "#sk-container-id-1 a.estimator_doc_link:hover {\n",
       "  /* unfitted */\n",
       "  background-color: var(--sklearn-color-unfitted-level-3);\n",
       "  color: var(--sklearn-color-background);\n",
       "  text-decoration: none;\n",
       "}\n",
       "\n",
       "#sk-container-id-1 a.estimator_doc_link.fitted:hover {\n",
       "  /* fitted */\n",
       "  background-color: var(--sklearn-color-fitted-level-3);\n",
       "}\n",
       "</style><div id=\"sk-container-id-1\" class=\"sk-top-container\"><div class=\"sk-text-repr-fallback\"><pre>KMeans(init=&#x27;random&#x27;, max_iter=100, n_clusters=2, n_init=10, random_state=1)</pre><b>In a Jupyter environment, please rerun this cell to show the HTML representation or trust the notebook. <br />On GitHub, the HTML representation is unable to render, please try loading this page with nbviewer.org.</b></div><div class=\"sk-container\" hidden><div class=\"sk-item\"><div class=\"sk-estimator fitted sk-toggleable\"><input class=\"sk-toggleable__control sk-hidden--visually\" id=\"sk-estimator-id-1\" type=\"checkbox\" checked><label for=\"sk-estimator-id-1\" class=\"sk-toggleable__label fitted sk-toggleable__label-arrow\"><div><div>KMeans</div></div><div><a class=\"sk-estimator-doc-link fitted\" rel=\"noreferrer\" target=\"_blank\" href=\"https://scikit-learn.org/1.6/modules/generated/sklearn.cluster.KMeans.html\">?<span>Documentation for KMeans</span></a><span class=\"sk-estimator-doc-link fitted\">i<span>Fitted</span></span></div></label><div class=\"sk-toggleable__content fitted\"><pre>KMeans(init=&#x27;random&#x27;, max_iter=100, n_clusters=2, n_init=10, random_state=1)</pre></div> </div></div></div></div>"
      ],
      "text/plain": [
       "KMeans(init='random', max_iter=100, n_clusters=2, n_init=10, random_state=1)"
      ]
     },
     "execution_count": 19,
     "metadata": {},
     "output_type": "execute_result"
    }
   ],
   "source": [
    "#instanciamiento de un modelo por cada dataframe, y respectivo ajuste a su data\n",
    "kmeans = KMeans(n_clusters=2, algorithm='lloyd', init='random', max_iter=100, n_init=10, random_state=1)\n",
    "kmeans.fit(df2)\n",
    "\n",
    "kmeans_scaled = KMeans(n_clusters=2, algorithm='lloyd', init='random', max_iter=100, n_init=10, random_state=1)\n",
    "kmeans_scaled.fit(x_for_kmeans)\n"
   ]
  },
  {
   "cell_type": "code",
   "execution_count": 20,
   "metadata": {},
   "outputs": [
    {
     "name": "stdout",
     "output_type": "stream",
     "text": [
      "dataset original\n",
      " Alzheimer’s Diagnosis\n",
      "0    43570\n",
      "1    30713\n",
      "Name: count, dtype: int64 \n",
      "\n",
      "categorización por k-means (no escalado)\n",
      " 1    37324\n",
      "0    36959\n",
      "Name: count, dtype: int64 \n",
      "\n",
      "categorización por k-means(escalado)\n",
      " 0    49114\n",
      "1    25169\n",
      "Name: count, dtype: int64\n"
     ]
    }
   ],
   "source": [
    "#recuento de valores por categoria\n",
    "km = pd.Series(kmeans.labels_)\n",
    "km_scaled = pd.Series(kmeans_scaled.labels_)\n",
    "count_values = km.value_counts()\n",
    "count_values2 = km_scaled.value_counts()\n",
    "print('dataset original\\n',df.value_counts(df['Alzheimer’s Diagnosis']), '\\n\\ncategorización por k-means (no escalado)\\n',count_values, \n",
    "      '\\n\\ncategorización por k-means(escalado)\\n', count_values2,)"
   ]
  },
  {
   "cell_type": "code",
   "execution_count": null,
   "metadata": {},
   "outputs": [
    {
     "data": {
      "image/png": "[encoded data removed]",
      "text/plain": [
       "<Figure size 640x480 with 1 Axes>"
      ]
     },
     "metadata": {},
     "output_type": "display_data"
    },
    {
     "data": {
      "image/png": "[encoded data removed]",
      "text/plain": [
       "<Figure size 640x480 with 1 Axes>"
      ]
     },
     "metadata": {},
     "output_type": "display_data"
    },
    {
     "data": {
      "image/png": "[encoded data removed]",
      "text/plain": [
       "<Figure size 640x480 with 1 Axes>"
      ]
     },
     "metadata": {},
     "output_type": "display_data"
    }
   ],
   "source": [
    "#grafica del recuento anterior\n",
    "count_values_og = df.value_counts(df['Alzheimer’s Diagnosis'])\n",
    "count_values_og.plot(kind='bar',color=['green','red' ], title='Valores por categorías en dataset original')\n",
    "plt.xticks(ticks=[0, 1], labels=[\"Negativo\", \"Positivo\"])\n",
    "plt.xticks(rotation=0)\n",
    "plt.show()\n",
    "\n",
    "count_values.plot(kind='bar',color=['green','red' ], title='Valores asignados por K-means')\n",
    "plt.xticks(ticks=[0, 1], labels=[\"Negativo\", \"Positivo\"])\n",
    "plt.xticks(rotation=0)\n",
    "plt.show()\n",
    "\n",
    "count_values2.plot(kind='bar',color=['green','red' ], title='Valores asignados por K-means ESCALADO')\n",
    "plt.xticks(ticks=[0, 1], labels=[\"Negativo\", \"Positivo\"])\n",
    "plt.xticks(rotation=0)\n",
    "\n",
    "\n",
    "\n",
    "\n",
    "\n",
    "plt.show()"
   ]
  },
  {
   "cell_type": "markdown",
   "metadata": {},
   "source": [
    "## 5. Optinización y comparación de modelos "
   ]
  },
  {
   "cell_type": "code",
   "execution_count": 38,
   "metadata": {
    "slideshow": {
     "slide_type": "subslide"
    }
   },
   "outputs": [
    {
     "data": {
      "image/png": "[encoded data removed]",
      "text/plain": [
       "<Figure size 1500x500 with 6 Axes>"
      ]
     },
     "metadata": {},
     "output_type": "display_data"
    }
   ],
   "source": [
    "#Gráfica de la matriz de confusión Modelos Supervisados\n",
    "fig, labels = plt.subplots(1, 3, figsize=(15, 5))\n",
    "\n",
    "custom_cmap = plt.cm.Blues\n",
    "for ax, (name, model) in zip(labels, models.items()):\n",
    "    disp = ConfusionMatrixDisplay.from_estimator(model, x_test, y_test, ax=ax, cmap=custom_cmap)\n",
    "    disp.ax_.set_title(name)\n",
    "    disp.ax_.set_xlabel(\"Predicción\")\n",
    "    disp.ax_.set_ylabel(\"Valor Real\")\n",
    "plt.tight_layout()\n",
    "plt.show()\n"
   ]
  },
  {
   "cell_type": "code",
   "execution_count": 37,
   "metadata": {},
   "outputs": [
    {
     "name": "stdout",
     "output_type": "stream",
     "text": [
      "Modelo: RandomForest\n",
      "              precision    recall  f1-score   support\n",
      "\n",
      "           0       0.75      0.78      0.77      8719\n",
      "           1       0.67      0.64      0.65      6138\n",
      "\n",
      "    accuracy                           0.72     14857\n",
      "   macro avg       0.71      0.71      0.71     14857\n",
      "weighted avg       0.72      0.72      0.72     14857\n",
      "\n",
      "--------------------------------------------------\n",
      "Modelo: LogisticRegression\n",
      "              precision    recall  f1-score   support\n",
      "\n",
      "           0       0.74      0.79      0.77      8719\n",
      "           1       0.67      0.60      0.63      6138\n",
      "\n",
      "    accuracy                           0.71     14857\n",
      "   macro avg       0.71      0.70      0.70     14857\n",
      "weighted avg       0.71      0.71      0.71     14857\n",
      "\n",
      "--------------------------------------------------\n",
      "Modelo: XGBoost\n",
      "              precision    recall  f1-score   support\n",
      "\n",
      "           0       0.75      0.77      0.76      8719\n",
      "           1       0.66      0.64      0.65      6138\n",
      "\n",
      "    accuracy                           0.72     14857\n",
      "   macro avg       0.71      0.71      0.71     14857\n",
      "weighted avg       0.72      0.72      0.72     14857\n",
      "\n",
      "--------------------------------------------------\n"
     ]
    }
   ],
   "source": [
    "#Calculo de metricas\n",
    "\n",
    "for name, model in models.items():\n",
    "    y_pred = model.predict(x_test)\n",
    "    print(f\"Modelo: {name}\")\n",
    "    print(classification_report(y_test, y_pred))\n",
    "    print(\"-\" * 50)"
   ]
  },
  {
   "cell_type": "code",
   "execution_count": 40,
   "metadata": {},
   "outputs": [
    {
     "data": {
      "image/png": "[encoded data removed]",
      "text/plain": [
       "<Figure size 1500x500 with 4 Axes>"
      ]
     },
     "metadata": {},
     "output_type": "display_data"
    }
   ],
   "source": [
    "#Matriz de confusión modelos no supervisados\n",
    "fig, labels = plt.subplots(1, 2, figsize=(15, 5))\n",
    "disp = ConfusionMatrixDisplay(confusion_matrix(df['Alzheimer’s Diagnosis'], km), display_labels=[\"0\", \"1\"])\n",
    "disp.plot(ax=labels[0], cmap='Blues')\n",
    "disp.ax_.set_title(\"KMeans\")\n",
    "disp.ax_.set_xlabel(\"Predicción\")\n",
    "disp.ax_.set_ylabel(\"Valor Real\")\n",
    "\n",
    "disp = ConfusionMatrixDisplay(confusion_matrix(df['Alzheimer’s Diagnosis'], km_scaled), display_labels=[\"0\", \"1\"])\n",
    "disp.plot(ax=labels[1], cmap='Blues')\n",
    "disp.ax_.set_title(\"KMeans Escalado\")\n",
    "disp.ax_.set_xlabel(\"Predicción\")\n",
    "disp.ax_.set_ylabel(\"Valor Real\")\n",
    "plt.tight_layout()\n",
    "plt.show()\n",
    "\n"
   ]
  },
  {
   "cell_type": "code",
   "execution_count": 41,
   "metadata": {},
   "outputs": [
    {
     "name": "stdout",
     "output_type": "stream",
     "text": [
      "KMeans\n",
      "              precision    recall  f1-score   support\n",
      "\n",
      "           0       0.59      0.50      0.54     43570\n",
      "           1       0.41      0.50      0.45     30713\n",
      "\n",
      "    accuracy                           0.50     74283\n",
      "   macro avg       0.50      0.50      0.50     74283\n",
      "weighted avg       0.51      0.50      0.50     74283\n",
      "\n",
      "--------------------------------------------------\n",
      "KMeans Escalado\n",
      "              precision    recall  f1-score   support\n",
      "\n",
      "           0       0.59      0.66      0.62     43570\n",
      "           1       0.41      0.34      0.37     30713\n",
      "\n",
      "    accuracy                           0.53     74283\n",
      "   macro avg       0.50      0.50      0.50     74283\n",
      "weighted avg       0.51      0.53      0.52     74283\n",
      "\n",
      "--------------------------------------------------\n"
     ]
    }
   ],
   "source": [
    "#Calculo de metricas\n",
    "print(\"KMeans\")\n",
    "print(classification_report(df['Alzheimer’s Diagnosis'], km))\n",
    "print(\"-\" * 50)\n",
    "print(\"KMeans Escalado\")\n",
    "print(classification_report(df['Alzheimer’s Diagnosis'], km_scaled))\n",
    "print(\"-\" * 50)\n"
   ]
  }
 ],
 "metadata": {
  "kernelspec": {
   "display_name": "base",
   "language": "python",
   "name": "python3"
  },
  "language_info": {
   "codemirror_mode": {
    "name": "ipython",
    "version": 3
   },
   "file_extension": ".py",
   "mimetype": "text/x-python",
   "name": "python",
   "nbconvert_exporter": "python",
   "pygments_lexer": "ipython3",
   "version": "3.12.4"
  }
 },
 "nbformat": 4,
 "nbformat_minor": 2
}
